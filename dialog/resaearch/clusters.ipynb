{
  "cells": [
    {
      "cell_type": "markdown",
      "metadata": {
        "id": "nbCP0H73RVIq"
      },
      "source": [
        "# Проект Создание/разработка скрипта для анализа переписок в чатах."
      ]
    },
    {
      "cell_type": "markdown",
      "metadata": {
        "id": "pkTIVzFkdhoT"
      },
      "source": [
        "Цели проекта:\n",
        "* Повысить вовлеченность в жизнь сообщества\n",
        "* Снизить операционную нагрузку на комьюнити менеджеров на 30%\n",
        "а также поднять конверсию вступления в выпускные комьюнити на +5%\n",
        "\n",
        "Какие основные функции должны быть реализованы?\n",
        "* инструмент для аналитики переписки\n",
        "* суммаризация полученной информации\n",
        "* написание итогов обсуждений в 2х форматах:\n",
        "  1. дайджест для участников (с настройкой периодичности: обсуждения за день/за неделю/за месяц) со ссылками на сообщения участников\n",
        "  2. сбор информации для комьюнити-менеджеров: рейтинг тем, которые обсуждали в сообществе с частотой обсуждений\n",
        "\n",
        "Какую структуру и какие разделы необходимо реализовать в проекте?  \n",
        "Результатом проекта является скрипт, который выдает результаты, с разбивкой на следующие этапы :\n",
        "* инструмент для аналитики переписки\n",
        "* суммаризация полученной информации\n",
        "* написание итогов обсуждений в 2х формата:\n",
        "дайджест для участников (с настройкой периодичности: обсуждения за день/за неделю/за месяц) со ссылками на сообщения участников и сбор информации для комьюнити-менеджеров: рейтинг тем, которые обсуждали в сообществе с частотой обсуждений\n",
        "\n",
        "\n",
        "Аналитика сообщений выполняется скриптом, результаты которого сохраняются в виде CSV-файла с четко определёнными столбцами. Скрипт должен собирать данные о количестве сообщений в чате за заданные временные промежутки с возможностью гибкой настройки периодичности запуска: обычно один раз в месяц, иногда раз в неделю и, в редких случаях, ежедневно.\n"
      ]
    },
    {
      "cell_type": "markdown",
      "metadata": {
        "id": "fw_wgDZpTju6"
      },
      "source": [
        "# Парсинг"
      ]
    },
    {
      "cell_type": "code",
      "execution_count": 2,
      "metadata": {
        "id": "wRnigsOp25xU"
      },
      "outputs": [
        {
          "ename": "KeyboardInterrupt",
          "evalue": "",
          "output_type": "error",
          "traceback": [
            "\u001b[1;31m---------------------------------------------------------------------------\u001b[0m",
            "\u001b[1;31mKeyboardInterrupt\u001b[0m                         Traceback (most recent call last)",
            "Cell \u001b[1;32mIn[2], line 13\u001b[0m\n\u001b[0;32m     11\u001b[0m \u001b[38;5;28;01mimport\u001b[39;00m \u001b[38;5;21;01mnetworkx\u001b[39;00m \u001b[38;5;28;01mas\u001b[39;00m \u001b[38;5;21;01mnx\u001b[39;00m\n\u001b[0;32m     12\u001b[0m \u001b[38;5;28;01mimport\u001b[39;00m \u001b[38;5;21;01mollama\u001b[39;00m\n\u001b[1;32m---> 13\u001b[0m \u001b[38;5;28;01mimport\u001b[39;00m \u001b[38;5;21;01mopenpyxl\u001b[39;00m\n\u001b[0;32m     15\u001b[0m \u001b[38;5;28;01mimport\u001b[39;00m \u001b[38;5;21;01mtime\u001b[39;00m\n\u001b[0;32m     16\u001b[0m \u001b[38;5;28;01mfrom\u001b[39;00m \u001b[38;5;21;01mtqdm\u001b[39;00m \u001b[38;5;28;01mimport\u001b[39;00m tqdm\n",
            "File \u001b[1;32md:\\Anaconda\\Lib\\site-packages\\openpyxl\\__init__.py:4\u001b[0m\n\u001b[0;32m      1\u001b[0m \u001b[38;5;66;03m# Copyright (c) 2010-2022 openpyxl\u001b[39;00m\n\u001b[1;32m----> 4\u001b[0m \u001b[38;5;28;01mfrom\u001b[39;00m \u001b[38;5;21;01mopenpyxl\u001b[39;00m\u001b[38;5;21;01m.\u001b[39;00m\u001b[38;5;21;01mcompat\u001b[39;00m\u001b[38;5;21;01m.\u001b[39;00m\u001b[38;5;21;01mnumbers\u001b[39;00m \u001b[38;5;28;01mimport\u001b[39;00m NUMPY\n\u001b[0;32m      5\u001b[0m \u001b[38;5;28;01mfrom\u001b[39;00m \u001b[38;5;21;01mopenpyxl\u001b[39;00m\u001b[38;5;21;01m.\u001b[39;00m\u001b[38;5;21;01mxml\u001b[39;00m \u001b[38;5;28;01mimport\u001b[39;00m DEFUSEDXML, LXML\n\u001b[0;32m      6\u001b[0m \u001b[38;5;28;01mfrom\u001b[39;00m \u001b[38;5;21;01mopenpyxl\u001b[39;00m\u001b[38;5;21;01m.\u001b[39;00m\u001b[38;5;21;01mworkbook\u001b[39;00m \u001b[38;5;28;01mimport\u001b[39;00m Workbook\n",
            "File \u001b[1;32md:\\Anaconda\\Lib\\site-packages\\openpyxl\\compat\\__init__.py:3\u001b[0m\n\u001b[0;32m      1\u001b[0m \u001b[38;5;66;03m# Copyright (c) 2010-2022 openpyxl\u001b[39;00m\n\u001b[1;32m----> 3\u001b[0m \u001b[38;5;28;01mfrom\u001b[39;00m \u001b[38;5;21;01m.\u001b[39;00m\u001b[38;5;21;01mnumbers\u001b[39;00m \u001b[38;5;28;01mimport\u001b[39;00m NUMERIC_TYPES\n\u001b[0;32m      4\u001b[0m \u001b[38;5;28;01mfrom\u001b[39;00m \u001b[38;5;21;01m.\u001b[39;00m\u001b[38;5;21;01mstrings\u001b[39;00m \u001b[38;5;28;01mimport\u001b[39;00m safe_string\n\u001b[0;32m      6\u001b[0m \u001b[38;5;28;01mimport\u001b[39;00m \u001b[38;5;21;01mwarnings\u001b[39;00m\n",
            "File \u001b[1;32m<frozen importlib._bootstrap>:1176\u001b[0m, in \u001b[0;36m_find_and_load\u001b[1;34m(name, import_)\u001b[0m\n",
            "File \u001b[1;32m<frozen importlib._bootstrap>:1138\u001b[0m, in \u001b[0;36m_find_and_load_unlocked\u001b[1;34m(name, import_)\u001b[0m\n",
            "File \u001b[1;32m<frozen importlib._bootstrap>:1078\u001b[0m, in \u001b[0;36m_find_spec\u001b[1;34m(name, path, target)\u001b[0m\n",
            "File \u001b[1;32m<frozen importlib._bootstrap_external>:1504\u001b[0m, in \u001b[0;36mfind_spec\u001b[1;34m(cls, fullname, path, target)\u001b[0m\n",
            "File \u001b[1;32m<frozen importlib._bootstrap_external>:1476\u001b[0m, in \u001b[0;36m_get_spec\u001b[1;34m(cls, fullname, path, target)\u001b[0m\n",
            "File \u001b[1;32m<frozen importlib._bootstrap_external>:1645\u001b[0m, in \u001b[0;36mfind_spec\u001b[1;34m(self, fullname, target)\u001b[0m\n",
            "File \u001b[1;32m<frozen importlib._bootstrap_external>:161\u001b[0m, in \u001b[0;36m_path_isfile\u001b[1;34m(path)\u001b[0m\n",
            "File \u001b[1;32m<frozen importlib._bootstrap_external>:153\u001b[0m, in \u001b[0;36m_path_is_mode_type\u001b[1;34m(path, mode)\u001b[0m\n",
            "File \u001b[1;32m<frozen importlib._bootstrap_external>:147\u001b[0m, in \u001b[0;36m_path_stat\u001b[1;34m(path)\u001b[0m\n",
            "\u001b[1;31mKeyboardInterrupt\u001b[0m: "
          ]
        }
      ],
      "source": [
        "import json\n",
        "import pandas as pd\n",
        "import os\n",
        "import numpy as np\n",
        "\n",
        "import matplotlib.pyplot as plt\n",
        "import seaborn as sns\n",
        "import matplotlib.dates as mdates\n",
        "from matplotlib.dates import DateFormatter, HourLocator, MinuteLocator\n",
        "\n",
        "import networkx as nx\n",
        "import ollama\n",
        "import openpyxl\n",
        "\n",
        "import time\n",
        "from tqdm import tqdm  # для прогресс-бара"
      ]
    },
    {
      "cell_type": "code",
      "execution_count": 7,
      "metadata": {
        "colab": {
          "base_uri": "https://localhost:8080/"
        },
        "id": "_g3hWbUL3KFD",
        "outputId": "d0d93a70-fff5-4834-fec4-ceee9df37ce9"
      },
      "outputs": [],
      "source": [
        "# # робота с Google Диском\n",
        "# from google.colab import drive\n",
        "# drive.mount('/content/drive')"
      ]
    },
    {
      "cell_type": "code",
      "execution_count": 8,
      "metadata": {
        "colab": {
          "base_uri": "https://localhost:8080/",
          "height": 54
        },
        "id": "vnGCFMYf4ZRo",
        "outputId": "eacf00af-29c6-4c63-a72a-0a817d79f42e"
      },
      "outputs": [],
      "source": [
        "# # Путь к json ввожу вручную\n",
        "# %cd /content/drive/My Drive/Colab Notebooks/Projects/Master_Ya\n",
        "# path_json = os.getcwd() + '/down/маркетинг/result.json'\n",
        "# path_json"
      ]
    },
    {
      "cell_type": "code",
      "execution_count": 3,
      "metadata": {},
      "outputs": [
        {
          "data": {
            "text/plain": [
              "'c:\\\\Users\\\\Виталик\\\\Desktop\\\\Pro\\\\Pet\\\\Master_yandex\\\\result.json'"
            ]
          },
          "execution_count": 3,
          "metadata": {},
          "output_type": "execute_result"
        }
      ],
      "source": [
        "path_json = os.getcwd() + '\\\\result.json'\n",
        "path_json"
      ]
    },
    {
      "cell_type": "code",
      "execution_count": 4,
      "metadata": {
        "id": "VlrKRmr43IHO"
      },
      "outputs": [],
      "source": [
        "# Загружаем JSON-файл\n",
        "with open(path_json, 'r', encoding='utf-8') as file:\n",
        "    chat_data = json.load(file)"
      ]
    },
    {
      "cell_type": "code",
      "execution_count": 5,
      "metadata": {
        "id": "AF6JRUlW3IEj"
      },
      "outputs": [],
      "source": [
        "# Извлекаем сообщения, а также название чата(в JSON-файл один чат) и chat_id\n",
        "messages = chat_data.get('messages', [])\n",
        "chat_name = chat_data.get('name')\n",
        "chat_id = chat_data.get('id')"
      ]
    },
    {
      "cell_type": "code",
      "execution_count": 6,
      "metadata": {
        "id": "jeZ3V0K73ICG"
      },
      "outputs": [],
      "source": [
        "# Парсим текстовые сообщения\n",
        "parsed_messages = []\n",
        "for message in messages:\n",
        "    # отсекаем служебные сообщения  type: service\n",
        "    if message.get('type') == 'message':\n",
        "        text = message['text']\n",
        "        parsed_messages.append({\n",
        "            'message_id': message['id'],\n",
        "            'date': message['date'],\n",
        "            'chat_name': chat_name,\n",
        "            'chat_id': chat_id,\n",
        "            'sender_id': message.get('from_id'),\n",
        "            'from': message.get('from', 'Unknown'),\n",
        "            'text': text\n",
        "        })"
      ]
    },
    {
      "cell_type": "code",
      "execution_count": 7,
      "metadata": {
        "id": "xHqq6VyO3H_p"
      },
      "outputs": [],
      "source": [
        "# Создаем датафрейм\n",
        "df = pd.DataFrame(parsed_messages)"
      ]
    },
    {
      "cell_type": "code",
      "execution_count": 8,
      "metadata": {
        "colab": {
          "base_uri": "https://localhost:8080/",
          "height": 423
        },
        "id": "p4yNrIfr3H8t",
        "outputId": "afedda60-ab3a-4df6-8d94-f61f88ebbd30"
      },
      "outputs": [
        {
          "data": {
            "text/html": [
              "<div>\n",
              "<style scoped>\n",
              "    .dataframe tbody tr th:only-of-type {\n",
              "        vertical-align: middle;\n",
              "    }\n",
              "\n",
              "    .dataframe tbody tr th {\n",
              "        vertical-align: top;\n",
              "    }\n",
              "\n",
              "    .dataframe thead th {\n",
              "        text-align: right;\n",
              "    }\n",
              "</style>\n",
              "<table border=\"1\" class=\"dataframe\">\n",
              "  <thead>\n",
              "    <tr style=\"text-align: right;\">\n",
              "      <th></th>\n",
              "      <th>message_id</th>\n",
              "      <th>date</th>\n",
              "      <th>chat_name</th>\n",
              "      <th>chat_id</th>\n",
              "      <th>sender_id</th>\n",
              "      <th>from</th>\n",
              "      <th>text</th>\n",
              "    </tr>\n",
              "  </thead>\n",
              "  <tbody>\n",
              "    <tr>\n",
              "      <th>0</th>\n",
              "      <td>42471</td>\n",
              "      <td>2025-02-01T07:35:54</td>\n",
              "      <td>💬 Marketing Practicum Chat</td>\n",
              "      <td>1782474569</td>\n",
              "      <td>user1272493086</td>\n",
              "      <td>Pasha Sannikov</td>\n",
              "      <td>[Доброе утро, люди! Это ОК, в РСЯ алгоритмы вы...</td>\n",
              "    </tr>\n",
              "    <tr>\n",
              "      <th>1</th>\n",
              "      <td>42472</td>\n",
              "      <td>2025-02-01T07:40:03</td>\n",
              "      <td>💬 Marketing Practicum Chat</td>\n",
              "      <td>1782474569</td>\n",
              "      <td>user1272493086</td>\n",
              "      <td>Pasha Sannikov</td>\n",
              "      <td>А вот регионы, в которых живут ITшники с интер...</td>\n",
              "    </tr>\n",
              "    <tr>\n",
              "      <th>2</th>\n",
              "      <td>42473</td>\n",
              "      <td>2025-02-01T07:48:53</td>\n",
              "      <td>💬 Marketing Practicum Chat</td>\n",
              "      <td>1782474569</td>\n",
              "      <td>user1272493086</td>\n",
              "      <td>Pasha Sannikov</td>\n",
              "      <td>Если смотреть по интересам, то кажется, что ау...</td>\n",
              "    </tr>\n",
              "    <tr>\n",
              "      <th>3</th>\n",
              "      <td>42474</td>\n",
              "      <td>2025-02-01T07:50:31</td>\n",
              "      <td>💬 Marketing Practicum Chat</td>\n",
              "      <td>1782474569</td>\n",
              "      <td>user1272493086</td>\n",
              "      <td>Pasha Sannikov</td>\n",
              "      <td>А путь пользователя почему-то выглядит так. Ко...</td>\n",
              "    </tr>\n",
              "    <tr>\n",
              "      <th>4</th>\n",
              "      <td>42475</td>\n",
              "      <td>2025-02-01T08:12:42</td>\n",
              "      <td>💬 Marketing Practicum Chat</td>\n",
              "      <td>1782474569</td>\n",
              "      <td>user1164775873</td>\n",
              "      <td>Данилов | Маркетолог</td>\n",
              "      <td>Опять он</td>\n",
              "    </tr>\n",
              "    <tr>\n",
              "      <th>...</th>\n",
              "      <td>...</td>\n",
              "      <td>...</td>\n",
              "      <td>...</td>\n",
              "      <td>...</td>\n",
              "      <td>...</td>\n",
              "      <td>...</td>\n",
              "      <td>...</td>\n",
              "    </tr>\n",
              "    <tr>\n",
              "      <th>3675</th>\n",
              "      <td>46400</td>\n",
              "      <td>2025-02-27T20:11:04</td>\n",
              "      <td>💬 Marketing Practicum Chat</td>\n",
              "      <td>1782474569</td>\n",
              "      <td>user1829741608</td>\n",
              "      <td>Алексей Ермолов</td>\n",
              "      <td>Напишу им, спасибо.</td>\n",
              "    </tr>\n",
              "    <tr>\n",
              "      <th>3676</th>\n",
              "      <td>46401</td>\n",
              "      <td>2025-02-27T20:23:08</td>\n",
              "      <td>💬 Marketing Practicum Chat</td>\n",
              "      <td>1782474569</td>\n",
              "      <td>user1912824918</td>\n",
              "      <td>S</td>\n",
              "      <td>Старые профили не удаляются, номер на который ...</td>\n",
              "    </tr>\n",
              "    <tr>\n",
              "      <th>3677</th>\n",
              "      <td>46402</td>\n",
              "      <td>2025-02-27T20:24:44</td>\n",
              "      <td>💬 Marketing Practicum Chat</td>\n",
              "      <td>1782474569</td>\n",
              "      <td>user1912824918</td>\n",
              "      <td>S</td>\n",
              "      <td>Пишите оператору (позовите пожалуйста оператор...</td>\n",
              "    </tr>\n",
              "    <tr>\n",
              "      <th>3678</th>\n",
              "      <td>46403</td>\n",
              "      <td>2025-02-27T20:29:44</td>\n",
              "      <td>💬 Marketing Practicum Chat</td>\n",
              "      <td>1782474569</td>\n",
              "      <td>user1829741608</td>\n",
              "      <td>Алексей Ермолов</td>\n",
              "      <td>Отлично! Благодарю.</td>\n",
              "    </tr>\n",
              "    <tr>\n",
              "      <th>3679</th>\n",
              "      <td>46405</td>\n",
              "      <td>2025-02-27T20:30:53</td>\n",
              "      <td>💬 Marketing Practicum Chat</td>\n",
              "      <td>1782474569</td>\n",
              "      <td>user1912824918</td>\n",
              "      <td>S</td>\n",
              "      <td>Да там часто отвечает бот, поэтому надо добить...</td>\n",
              "    </tr>\n",
              "  </tbody>\n",
              "</table>\n",
              "<p>3680 rows × 7 columns</p>\n",
              "</div>"
            ],
            "text/plain": [
              "      message_id                 date                   chat_name     chat_id  \\\n",
              "0          42471  2025-02-01T07:35:54  💬 Marketing Practicum Chat  1782474569   \n",
              "1          42472  2025-02-01T07:40:03  💬 Marketing Practicum Chat  1782474569   \n",
              "2          42473  2025-02-01T07:48:53  💬 Marketing Practicum Chat  1782474569   \n",
              "3          42474  2025-02-01T07:50:31  💬 Marketing Practicum Chat  1782474569   \n",
              "4          42475  2025-02-01T08:12:42  💬 Marketing Practicum Chat  1782474569   \n",
              "...          ...                  ...                         ...         ...   \n",
              "3675       46400  2025-02-27T20:11:04  💬 Marketing Practicum Chat  1782474569   \n",
              "3676       46401  2025-02-27T20:23:08  💬 Marketing Practicum Chat  1782474569   \n",
              "3677       46402  2025-02-27T20:24:44  💬 Marketing Practicum Chat  1782474569   \n",
              "3678       46403  2025-02-27T20:29:44  💬 Marketing Practicum Chat  1782474569   \n",
              "3679       46405  2025-02-27T20:30:53  💬 Marketing Practicum Chat  1782474569   \n",
              "\n",
              "           sender_id                  from  \\\n",
              "0     user1272493086        Pasha Sannikov   \n",
              "1     user1272493086        Pasha Sannikov   \n",
              "2     user1272493086        Pasha Sannikov   \n",
              "3     user1272493086        Pasha Sannikov   \n",
              "4     user1164775873  Данилов | Маркетолог   \n",
              "...              ...                   ...   \n",
              "3675  user1829741608       Алексей Ермолов   \n",
              "3676  user1912824918                     S   \n",
              "3677  user1912824918                     S   \n",
              "3678  user1829741608       Алексей Ермолов   \n",
              "3679  user1912824918                     S   \n",
              "\n",
              "                                                   text  \n",
              "0     [Доброе утро, люди! Это ОК, в РСЯ алгоритмы вы...  \n",
              "1     А вот регионы, в которых живут ITшники с интер...  \n",
              "2     Если смотреть по интересам, то кажется, что ау...  \n",
              "3     А путь пользователя почему-то выглядит так. Ко...  \n",
              "4                                              Опять он  \n",
              "...                                                 ...  \n",
              "3675                                Напишу им, спасибо.  \n",
              "3676  Старые профили не удаляются, номер на который ...  \n",
              "3677  Пишите оператору (позовите пожалуйста оператор...  \n",
              "3678                                Отлично! Благодарю.  \n",
              "3679  Да там часто отвечает бот, поэтому надо добить...  \n",
              "\n",
              "[3680 rows x 7 columns]"
            ]
          },
          "execution_count": 8,
          "metadata": {},
          "output_type": "execute_result"
        }
      ],
      "source": [
        "df"
      ]
    },
    {
      "cell_type": "code",
      "execution_count": 10,
      "metadata": {},
      "outputs": [
        {
          "name": "stdout",
          "output_type": "stream",
          "text": [
            "0    [Доброе утро, люди! Это ОК, в РСЯ алгоритмы вы...\n",
            "1    А вот регионы, в которых живут ITшники с интер...\n",
            "2    Если смотреть по интересам, то кажется, что ау...\n",
            "3    А путь пользователя почему-то выглядит так. Ко...\n",
            "4                                             Опять он\n",
            "Name: text, dtype: object\n"
          ]
        }
      ],
      "source": [
        "print(df['text'].head())"
      ]
    },
    {
      "cell_type": "code",
      "execution_count": 15,
      "metadata": {
        "colab": {
          "base_uri": "https://localhost:8080/",
          "height": 554
        },
        "id": "EwbNwx73gbBK",
        "outputId": "bcf271b7-24c6-4c64-8600-98a855f0ed76"
      },
      "outputs": [
        {
          "data": {
            "text/html": [
              "<style type=\"text/css\">\n",
              "#T_eafb1_row0_col0, #T_eafb1_row0_col1, #T_eafb1_row0_col2, #T_eafb1_row0_col3, #T_eafb1_row0_col4, #T_eafb1_row0_col5, #T_eafb1_row0_col6, #T_eafb1_row1_col0, #T_eafb1_row1_col1, #T_eafb1_row1_col2, #T_eafb1_row1_col3, #T_eafb1_row1_col4, #T_eafb1_row1_col5, #T_eafb1_row1_col6, #T_eafb1_row2_col0, #T_eafb1_row2_col1, #T_eafb1_row2_col2, #T_eafb1_row2_col3, #T_eafb1_row2_col4, #T_eafb1_row2_col5, #T_eafb1_row2_col6, #T_eafb1_row3_col0, #T_eafb1_row3_col1, #T_eafb1_row3_col2, #T_eafb1_row3_col3, #T_eafb1_row3_col4, #T_eafb1_row3_col5, #T_eafb1_row3_col6, #T_eafb1_row4_col0, #T_eafb1_row4_col1, #T_eafb1_row4_col2, #T_eafb1_row4_col3, #T_eafb1_row4_col4, #T_eafb1_row4_col5, #T_eafb1_row4_col6, #T_eafb1_row5_col0, #T_eafb1_row5_col1, #T_eafb1_row5_col2, #T_eafb1_row5_col3, #T_eafb1_row5_col4, #T_eafb1_row5_col5, #T_eafb1_row5_col6, #T_eafb1_row6_col0, #T_eafb1_row6_col1, #T_eafb1_row6_col2, #T_eafb1_row6_col3, #T_eafb1_row6_col4, #T_eafb1_row6_col5, #T_eafb1_row6_col6, #T_eafb1_row7_col0, #T_eafb1_row7_col1, #T_eafb1_row7_col2, #T_eafb1_row7_col3, #T_eafb1_row7_col4, #T_eafb1_row7_col5, #T_eafb1_row7_col6, #T_eafb1_row8_col0, #T_eafb1_row8_col1, #T_eafb1_row8_col2, #T_eafb1_row8_col3, #T_eafb1_row8_col4, #T_eafb1_row8_col5, #T_eafb1_row8_col6, #T_eafb1_row9_col0, #T_eafb1_row9_col1, #T_eafb1_row9_col2, #T_eafb1_row9_col3, #T_eafb1_row9_col4, #T_eafb1_row9_col5, #T_eafb1_row9_col6 {\n",
              "  text-align: left;\n",
              "  white-space: pre-wrap;\n",
              "}\n",
              "</style>\n",
              "<table id=\"T_eafb1\">\n",
              "  <thead>\n",
              "    <tr>\n",
              "      <th class=\"blank level0\" >&nbsp;</th>\n",
              "      <th id=\"T_eafb1_level0_col0\" class=\"col_heading level0 col0\" >message_id</th>\n",
              "      <th id=\"T_eafb1_level0_col1\" class=\"col_heading level0 col1\" >date</th>\n",
              "      <th id=\"T_eafb1_level0_col2\" class=\"col_heading level0 col2\" >chat_name</th>\n",
              "      <th id=\"T_eafb1_level0_col3\" class=\"col_heading level0 col3\" >chat_id</th>\n",
              "      <th id=\"T_eafb1_level0_col4\" class=\"col_heading level0 col4\" >sender_id</th>\n",
              "      <th id=\"T_eafb1_level0_col5\" class=\"col_heading level0 col5\" >from</th>\n",
              "      <th id=\"T_eafb1_level0_col6\" class=\"col_heading level0 col6\" >text</th>\n",
              "    </tr>\n",
              "  </thead>\n",
              "  <tbody>\n",
              "    <tr>\n",
              "      <th id=\"T_eafb1_level0_row0\" class=\"row_heading level0 row0\" >0</th>\n",
              "      <td id=\"T_eafb1_row0_col0\" class=\"data row0 col0\" >42471</td>\n",
              "      <td id=\"T_eafb1_row0_col1\" class=\"data row0 col1\" >2025-02-01T07:35:54</td>\n",
              "      <td id=\"T_eafb1_row0_col2\" class=\"data row0 col2\" >💬 Marketing Practicum Chat</td>\n",
              "      <td id=\"T_eafb1_row0_col3\" class=\"data row0 col3\" >1782474569</td>\n",
              "      <td id=\"T_eafb1_row0_col4\" class=\"data row0 col4\" >user1272493086</td>\n",
              "      <td id=\"T_eafb1_row0_col5\" class=\"data row0 col5\" >Pasha Sannikov</td>\n",
              "      <td id=\"T_eafb1_row0_col6\" class=\"data row0 col6\" >['Доброе утро, люди! Это ОК, в РСЯ алгоритмы выбрали только 1 площадку для объявлений? Объект рекламы - \"консультации для IT компаний\". Почему решили все объявления показывать на ', {'type': 'link', 'text': 'game.yandex.ru'}, ', Я в корректировках рекламной кампании поставил ограничения аудитории по возрасту, от 24 лет... Получается, что все айтишники старше 24 лет обитают в играх Яндекс?']</td>\n",
              "    </tr>\n",
              "    <tr>\n",
              "      <th id=\"T_eafb1_level0_row1\" class=\"row_heading level0 row1\" >1</th>\n",
              "      <td id=\"T_eafb1_row1_col0\" class=\"data row1 col0\" >42472</td>\n",
              "      <td id=\"T_eafb1_row1_col1\" class=\"data row1 col1\" >2025-02-01T07:40:03</td>\n",
              "      <td id=\"T_eafb1_row1_col2\" class=\"data row1 col2\" >💬 Marketing Practicum Chat</td>\n",
              "      <td id=\"T_eafb1_row1_col3\" class=\"data row1 col3\" >1782474569</td>\n",
              "      <td id=\"T_eafb1_row1_col4\" class=\"data row1 col4\" >user1272493086</td>\n",
              "      <td id=\"T_eafb1_row1_col5\" class=\"data row1 col5\" >Pasha Sannikov</td>\n",
              "      <td id=\"T_eafb1_row1_col6\" class=\"data row1 col6\" >А вот регионы, в которых живут ITшники с интересом к нашему предложению. Эти люди провели на сайте больше 1 минуты</td>\n",
              "    </tr>\n",
              "    <tr>\n",
              "      <th id=\"T_eafb1_level0_row2\" class=\"row_heading level0 row2\" >2</th>\n",
              "      <td id=\"T_eafb1_row2_col0\" class=\"data row2 col0\" >42473</td>\n",
              "      <td id=\"T_eafb1_row2_col1\" class=\"data row2 col1\" >2025-02-01T07:48:53</td>\n",
              "      <td id=\"T_eafb1_row2_col2\" class=\"data row2 col2\" >💬 Marketing Practicum Chat</td>\n",
              "      <td id=\"T_eafb1_row2_col3\" class=\"data row2 col3\" >1782474569</td>\n",
              "      <td id=\"T_eafb1_row2_col4\" class=\"data row2 col4\" >user1272493086</td>\n",
              "      <td id=\"T_eafb1_row2_col5\" class=\"data row2 col5\" >Pasha Sannikov</td>\n",
              "      <td id=\"T_eafb1_row2_col6\" class=\"data row2 col6\" >Если смотреть по интересам, то кажется, что аудитория релевантная</td>\n",
              "    </tr>\n",
              "    <tr>\n",
              "      <th id=\"T_eafb1_level0_row3\" class=\"row_heading level0 row3\" >3</th>\n",
              "      <td id=\"T_eafb1_row3_col0\" class=\"data row3 col0\" >42474</td>\n",
              "      <td id=\"T_eafb1_row3_col1\" class=\"data row3 col1\" >2025-02-01T07:50:31</td>\n",
              "      <td id=\"T_eafb1_row3_col2\" class=\"data row3 col2\" >💬 Marketing Practicum Chat</td>\n",
              "      <td id=\"T_eafb1_row3_col3\" class=\"data row3 col3\" >1782474569</td>\n",
              "      <td id=\"T_eafb1_row3_col4\" class=\"data row3 col4\" >user1272493086</td>\n",
              "      <td id=\"T_eafb1_row3_col5\" class=\"data row3 col5\" >Pasha Sannikov</td>\n",
              "      <td id=\"T_eafb1_row3_col6\" class=\"data row3 col6\" >А путь пользователя почему-то выглядит так. Конверсий в заявку нету😭</td>\n",
              "    </tr>\n",
              "    <tr>\n",
              "      <th id=\"T_eafb1_level0_row4\" class=\"row_heading level0 row4\" >4</th>\n",
              "      <td id=\"T_eafb1_row4_col0\" class=\"data row4 col0\" >42475</td>\n",
              "      <td id=\"T_eafb1_row4_col1\" class=\"data row4 col1\" >2025-02-01T08:12:42</td>\n",
              "      <td id=\"T_eafb1_row4_col2\" class=\"data row4 col2\" >💬 Marketing Practicum Chat</td>\n",
              "      <td id=\"T_eafb1_row4_col3\" class=\"data row4 col3\" >1782474569</td>\n",
              "      <td id=\"T_eafb1_row4_col4\" class=\"data row4 col4\" >user1164775873</td>\n",
              "      <td id=\"T_eafb1_row4_col5\" class=\"data row4 col5\" >Данилов | Маркетолог</td>\n",
              "      <td id=\"T_eafb1_row4_col6\" class=\"data row4 col6\" >Опять он</td>\n",
              "    </tr>\n",
              "    <tr>\n",
              "      <th id=\"T_eafb1_level0_row5\" class=\"row_heading level0 row5\" >5</th>\n",
              "      <td id=\"T_eafb1_row5_col0\" class=\"data row5 col0\" >42476</td>\n",
              "      <td id=\"T_eafb1_row5_col1\" class=\"data row5 col1\" >2025-02-01T08:12:42</td>\n",
              "      <td id=\"T_eafb1_row5_col2\" class=\"data row5 col2\" >💬 Marketing Practicum Chat</td>\n",
              "      <td id=\"T_eafb1_row5_col3\" class=\"data row5 col3\" >1782474569</td>\n",
              "      <td id=\"T_eafb1_row5_col4\" class=\"data row5 col4\" >user1164775873</td>\n",
              "      <td id=\"T_eafb1_row5_col5\" class=\"data row5 col5\" >Данилов | Маркетолог</td>\n",
              "      <td id=\"T_eafb1_row5_col6\" class=\"data row5 col6\" ></td>\n",
              "    </tr>\n",
              "    <tr>\n",
              "      <th id=\"T_eafb1_level0_row6\" class=\"row_heading level0 row6\" >6</th>\n",
              "      <td id=\"T_eafb1_row6_col0\" class=\"data row6 col0\" >42477</td>\n",
              "      <td id=\"T_eafb1_row6_col1\" class=\"data row6 col1\" >2025-02-01T08:15:13</td>\n",
              "      <td id=\"T_eafb1_row6_col2\" class=\"data row6 col2\" >💬 Marketing Practicum Chat</td>\n",
              "      <td id=\"T_eafb1_row6_col3\" class=\"data row6 col3\" >1782474569</td>\n",
              "      <td id=\"T_eafb1_row6_col4\" class=\"data row6 col4\" >user87502689</td>\n",
              "      <td id=\"T_eafb1_row6_col5\" class=\"data row6 col5\" >Андрей Дамаскин</td>\n",
              "      <td id=\"T_eafb1_row6_col6\" class=\"data row6 col6\" >Потому и выбрал</td>\n",
              "    </tr>\n",
              "    <tr>\n",
              "      <th id=\"T_eafb1_level0_row7\" class=\"row_heading level0 row7\" >7</th>\n",
              "      <td id=\"T_eafb1_row7_col0\" class=\"data row7 col0\" >42478</td>\n",
              "      <td id=\"T_eafb1_row7_col1\" class=\"data row7 col1\" >2025-02-01T08:15:32</td>\n",
              "      <td id=\"T_eafb1_row7_col2\" class=\"data row7 col2\" >💬 Marketing Practicum Chat</td>\n",
              "      <td id=\"T_eafb1_row7_col3\" class=\"data row7 col3\" >1782474569</td>\n",
              "      <td id=\"T_eafb1_row7_col4\" class=\"data row7 col4\" >user87502689</td>\n",
              "      <td id=\"T_eafb1_row7_col5\" class=\"data row7 col5\" >Андрей Дамаскин</td>\n",
              "      <td id=\"T_eafb1_row7_col6\" class=\"data row7 col6\" >Ну если это вся статистика, то пока алгоритм еще ничего не выбрал</td>\n",
              "    </tr>\n",
              "    <tr>\n",
              "      <th id=\"T_eafb1_level0_row8\" class=\"row_heading level0 row8\" >8</th>\n",
              "      <td id=\"T_eafb1_row8_col0\" class=\"data row8 col0\" >42479</td>\n",
              "      <td id=\"T_eafb1_row8_col1\" class=\"data row8 col1\" >2025-02-01T08:16:44</td>\n",
              "      <td id=\"T_eafb1_row8_col2\" class=\"data row8 col2\" >💬 Marketing Practicum Chat</td>\n",
              "      <td id=\"T_eafb1_row8_col3\" class=\"data row8 col3\" >1782474569</td>\n",
              "      <td id=\"T_eafb1_row8_col4\" class=\"data row8 col4\" >user87502689</td>\n",
              "      <td id=\"T_eafb1_row8_col5\" class=\"data row8 col5\" >Андрей Дамаскин</td>\n",
              "      <td id=\"T_eafb1_row8_col6\" class=\"data row8 col6\" >Чтобы 34 визита из РСЯ превратились в заявку нужна конверсия на уровне 3%, для необученной РК не реально же</td>\n",
              "    </tr>\n",
              "    <tr>\n",
              "      <th id=\"T_eafb1_level0_row9\" class=\"row_heading level0 row9\" >9</th>\n",
              "      <td id=\"T_eafb1_row9_col0\" class=\"data row9 col0\" >42480</td>\n",
              "      <td id=\"T_eafb1_row9_col1\" class=\"data row9 col1\" >2025-02-01T08:17:32</td>\n",
              "      <td id=\"T_eafb1_row9_col2\" class=\"data row9 col2\" >💬 Marketing Practicum Chat</td>\n",
              "      <td id=\"T_eafb1_row9_col3\" class=\"data row9 col3\" >1782474569</td>\n",
              "      <td id=\"T_eafb1_row9_col4\" class=\"data row9 col4\" >user1164775873</td>\n",
              "      <td id=\"T_eafb1_row9_col5\" class=\"data row9 col5\" >Данилов | Маркетолог</td>\n",
              "      <td id=\"T_eafb1_row9_col6\" class=\"data row9 col6\" >Батя привет</td>\n",
              "    </tr>\n",
              "  </tbody>\n",
              "</table>\n"
            ],
            "text/plain": [
              "<pandas.io.formats.style.Styler at 0x1c54b88d010>"
            ]
          },
          "execution_count": 15,
          "metadata": {},
          "output_type": "execute_result"
        }
      ],
      "source": [
        "df.head(10).style.set_properties(**{'text-align': 'left', 'white-space': 'pre-wrap'})"
      ]
    },
    {
      "cell_type": "markdown",
      "metadata": {
        "id": "wU95V5geU7hr"
      },
      "source": [
        "Вывод: В резельтате парсинга json-файла про маркетинг. Получил датафрейм с признаками\n",
        "* message_id - индекс сообщения\n",
        "* date - время\n",
        "* chat_name - название чата\n",
        "* chat_id\t- индекс чата\n",
        "* sender_id\t- индекс пользователя\n",
        "* from - ФИ пользователя\n",
        "* text - текст сообщения\n",
        "* 3680 rows × 7 columns"
      ]
    },
    {
      "cell_type": "markdown",
      "metadata": {
        "id": "L2q_RPQJT93N"
      },
      "source": [
        "# Метод №1. Кластеризация по reply и по соседним сообщениям с временным threshold`ом"
      ]
    },
    {
      "cell_type": "markdown",
      "metadata": {
        "id": "I8obHTdiS5aM"
      },
      "source": [
        "Суть подхода:  \n",
        "Необходимо выделить в кластеры сообщения, связанные между собой с помощью механики reply. Также добавить в эти кластеры соседние сообщения с маленьким временным порогом. Я использовал th_minute=0.5.  \n",
        "\n",
        "\n",
        "План реализации:\n",
        "* добавить в датафрейм информацию об reply\n",
        "* собрать в список пары индексов сообщений связанных reply\n",
        "* добавить в список пары индексов соседних сообщений (30 секунд)\n",
        "* разбиваем сообщения на кластеры с помощью полученных связей через networkx и Graf\n",
        "* топ 10 диалогов по количеству сообщений\n",
        "* анализ результата"
      ]
    },
    {
      "cell_type": "code",
      "execution_count": 16,
      "metadata": {
        "id": "T-K2cpUfkSkB"
      },
      "outputs": [],
      "source": [
        "# Добавил в парсинг reply_to_message_id\n",
        "parsed_messages = []\n",
        "for message in messages:\n",
        "    if message.get('type') == 'message':\n",
        "        text = message['text']\n",
        "        parsed_messages.append({\n",
        "            'message_id': message['id'],\n",
        "            'date': message['date'],\n",
        "            'chat_name': chat_name,\n",
        "            'chat_id': chat_id,\n",
        "            'sender_id': message.get('from_id'),\n",
        "            'from': message.get('from', 'Unknown'),\n",
        "            'reply_to_message_id': message.get('reply_to_message_id'),\n",
        "            'text': text\n",
        "        })"
      ]
    },
    {
      "cell_type": "code",
      "execution_count": 17,
      "metadata": {
        "id": "MW7ZoKzaIk8X"
      },
      "outputs": [],
      "source": [
        "df = pd.DataFrame(parsed_messages)"
      ]
    },
    {
      "cell_type": "code",
      "execution_count": 18,
      "metadata": {
        "id": "ZdrDbgiknMhD"
      },
      "outputs": [],
      "source": [
        "# Собирю пары Id сообщений по reply_to_message_id\n",
        "x = []\n",
        "for i in range(len(df)-1, -1, -1):\n",
        "  if not pd.isna(df.loc[i, 'reply_to_message_id']):\n",
        "    x.append([df.loc[i, 'message_id'], df.loc[i, 'reply_to_message_id']])"
      ]
    },
    {
      "cell_type": "code",
      "execution_count": 19,
      "metadata": {
        "id": "xmuVDkZVI-b9"
      },
      "outputs": [],
      "source": [
        "df['date'] = pd.to_datetime(df['date'])"
      ]
    },
    {
      "cell_type": "code",
      "execution_count": 20,
      "metadata": {
        "id": "T5db_Lml4iQr"
      },
      "outputs": [],
      "source": [
        "# Добавляю пары соседних сообщений с порогом в полминуты\n",
        "# Порог выбрал в ручную, при таком порого 1500 событий\n",
        "th_minute=0.5\n",
        "for i in range(len(df)-1):\n",
        "  if df.loc[i+1, 'date']-df.loc[i, 'date'] < pd.Timedelta(minutes=th_minute):\n",
        "    x.append([df.loc[i, 'message_id'], df.loc[i+1, 'message_id']])"
      ]
    },
    {
      "cell_type": "code",
      "execution_count": 21,
      "metadata": {
        "colab": {
          "base_uri": "https://localhost:8080/"
        },
        "id": "HCCeOJsYI18j",
        "outputId": "b54cf14c-536f-4630-a16f-1ac2630e80a8"
      },
      "outputs": [
        {
          "data": {
            "text/plain": [
              "3809"
            ]
          },
          "execution_count": 21,
          "metadata": {},
          "output_type": "execute_result"
        }
      ],
      "source": [
        "# Количество пар(связей)\n",
        "len(x)"
      ]
    },
    {
      "cell_type": "code",
      "execution_count": 22,
      "metadata": {
        "id": "ERB8Sh1M74W3"
      },
      "outputs": [],
      "source": [
        "para = pd.DataFrame(x, columns=['one','two'])"
      ]
    },
    {
      "cell_type": "code",
      "execution_count": 23,
      "metadata": {
        "id": "J0k28VqF-u5b"
      },
      "outputs": [],
      "source": [
        "para['two'] = para['two'].astype('int')"
      ]
    },
    {
      "cell_type": "code",
      "execution_count": 24,
      "metadata": {
        "colab": {
          "base_uri": "https://localhost:8080/",
          "height": 423
        },
        "id": "A87yCY6NDUxo",
        "outputId": "eed1a4c7-1abf-486d-9456-db20ec339751"
      },
      "outputs": [
        {
          "data": {
            "text/html": [
              "<div>\n",
              "<style scoped>\n",
              "    .dataframe tbody tr th:only-of-type {\n",
              "        vertical-align: middle;\n",
              "    }\n",
              "\n",
              "    .dataframe tbody tr th {\n",
              "        vertical-align: top;\n",
              "    }\n",
              "\n",
              "    .dataframe thead th {\n",
              "        text-align: right;\n",
              "    }\n",
              "</style>\n",
              "<table border=\"1\" class=\"dataframe\">\n",
              "  <thead>\n",
              "    <tr style=\"text-align: right;\">\n",
              "      <th></th>\n",
              "      <th>one</th>\n",
              "      <th>two</th>\n",
              "    </tr>\n",
              "  </thead>\n",
              "  <tbody>\n",
              "    <tr>\n",
              "      <th>0</th>\n",
              "      <td>46405</td>\n",
              "      <td>46403</td>\n",
              "    </tr>\n",
              "    <tr>\n",
              "      <th>1</th>\n",
              "      <td>46403</td>\n",
              "      <td>46402</td>\n",
              "    </tr>\n",
              "    <tr>\n",
              "      <th>2</th>\n",
              "      <td>46401</td>\n",
              "      <td>46394</td>\n",
              "    </tr>\n",
              "    <tr>\n",
              "      <th>3</th>\n",
              "      <td>46398</td>\n",
              "      <td>46396</td>\n",
              "    </tr>\n",
              "    <tr>\n",
              "      <th>4</th>\n",
              "      <td>46396</td>\n",
              "      <td>46394</td>\n",
              "    </tr>\n",
              "    <tr>\n",
              "      <th>...</th>\n",
              "      <td>...</td>\n",
              "      <td>...</td>\n",
              "    </tr>\n",
              "    <tr>\n",
              "      <th>3804</th>\n",
              "      <td>46395</td>\n",
              "      <td>46396</td>\n",
              "    </tr>\n",
              "    <tr>\n",
              "      <th>3805</th>\n",
              "      <td>46396</td>\n",
              "      <td>46397</td>\n",
              "    </tr>\n",
              "    <tr>\n",
              "      <th>3806</th>\n",
              "      <td>46397</td>\n",
              "      <td>46398</td>\n",
              "    </tr>\n",
              "    <tr>\n",
              "      <th>3807</th>\n",
              "      <td>46398</td>\n",
              "      <td>46399</td>\n",
              "    </tr>\n",
              "    <tr>\n",
              "      <th>3808</th>\n",
              "      <td>46399</td>\n",
              "      <td>46400</td>\n",
              "    </tr>\n",
              "  </tbody>\n",
              "</table>\n",
              "<p>3809 rows × 2 columns</p>\n",
              "</div>"
            ],
            "text/plain": [
              "        one    two\n",
              "0     46405  46403\n",
              "1     46403  46402\n",
              "2     46401  46394\n",
              "3     46398  46396\n",
              "4     46396  46394\n",
              "...     ...    ...\n",
              "3804  46395  46396\n",
              "3805  46396  46397\n",
              "3806  46397  46398\n",
              "3807  46398  46399\n",
              "3808  46399  46400\n",
              "\n",
              "[3809 rows x 2 columns]"
            ]
          },
          "execution_count": 24,
          "metadata": {},
          "output_type": "execute_result"
        }
      ],
      "source": [
        "para"
      ]
    },
    {
      "cell_type": "code",
      "execution_count": 25,
      "metadata": {
        "colab": {
          "base_uri": "https://localhost:8080/"
        },
        "id": "0MOMQZbHCzHA",
        "outputId": "9ac6c032-2d6c-420a-d2d0-8f48fb7b1a44"
      },
      "outputs": [
        {
          "data": {
            "text/plain": [
              "np.int64(46405)"
            ]
          },
          "execution_count": 25,
          "metadata": {},
          "output_type": "execute_result"
        }
      ],
      "source": [
        "para.loc[0, 'one']"
      ]
    },
    {
      "cell_type": "code",
      "execution_count": 26,
      "metadata": {
        "colab": {
          "base_uri": "https://localhost:8080/"
        },
        "id": "9UKqdQoZGbej",
        "outputId": "f37da115-1c3f-4376-cd33-4f85c8362048"
      },
      "outputs": [
        {
          "name": "stdout",
          "output_type": "stream",
          "text": [
            "[[np.int64(42473), np.int64(42477), np.int64(42478), np.int64(42480), np.int64(42481)], [np.int64(42475), np.int64(42476), np.int64(42554)]]\n"
          ]
        }
      ],
      "source": [
        "# Создаем граф из пар значений\n",
        "G = nx.Graph()\n",
        "for _, row in para.iterrows():\n",
        "    G.add_edge(row['one'], row['two'])\n",
        "\n",
        "# Находим связные компоненты\n",
        "connected_components = list(nx.connected_components(G))\n",
        "\n",
        "# Преобразуем в список списков и сортируем каждый подсписок\n",
        "result = [sorted(list(component)) for component in connected_components]\n",
        "\n",
        "# Сортируем общий список по первому элементу каждого подсписка\n",
        "result.sort(key=lambda x: x[0])\n",
        "\n",
        "print(result[1:3])"
      ]
    },
    {
      "cell_type": "code",
      "execution_count": 27,
      "metadata": {
        "colab": {
          "base_uri": "https://localhost:8080/"
        },
        "id": "CONZuLJwJqd1",
        "outputId": "3da14088-3998-42fb-b842-68535924ecdb"
      },
      "outputs": [
        {
          "data": {
            "text/plain": [
              "341"
            ]
          },
          "execution_count": 27,
          "metadata": {},
          "output_type": "execute_result"
        }
      ],
      "source": [
        "# Количество диалогов\n",
        "len(result)"
      ]
    },
    {
      "cell_type": "code",
      "execution_count": 28,
      "metadata": {
        "colab": {
          "base_uri": "https://localhost:8080/"
        },
        "id": "CRK0l5zeKuk0",
        "outputId": "34bd4d99-3a27-4cf0-aca0-b24d2096fce9"
      },
      "outputs": [
        {
          "data": {
            "text/plain": [
              "3459"
            ]
          },
          "execution_count": 28,
          "metadata": {},
          "output_type": "execute_result"
        }
      ],
      "source": [
        "# Количество сообщений попавших в диалоги\n",
        "total = sum(len(sublist) for sublist in result)\n",
        "total"
      ]
    },
    {
      "cell_type": "code",
      "execution_count": 29,
      "metadata": {
        "colab": {
          "base_uri": "https://localhost:8080/"
        },
        "id": "IczaTr3yeoi-",
        "outputId": "b21b8320-a912-46cd-939d-4e7c1278527a"
      },
      "outputs": [
        {
          "data": {
            "text/plain": [
              "103"
            ]
          },
          "execution_count": 29,
          "metadata": {},
          "output_type": "execute_result"
        }
      ],
      "source": [
        "# Количество сообщенией в наибольшем диалоге\n",
        "total = max(len(sublist) for sublist in result)\n",
        "total"
      ]
    },
    {
      "cell_type": "code",
      "execution_count": 30,
      "metadata": {
        "id": "uz5W0mfFeogR"
      },
      "outputs": [],
      "source": [
        "# Сортирую\n",
        "sorted_result = sorted(result, key=lambda x: len(x), reverse=True)"
      ]
    },
    {
      "cell_type": "code",
      "execution_count": 31,
      "metadata": {
        "id": "vhlE4AZeWuUh"
      },
      "outputs": [],
      "source": [
        "# Топ 10 диалогов\n",
        "sorted_result_top = sorted_result[0:10]"
      ]
    },
    {
      "cell_type": "code",
      "execution_count": 32,
      "metadata": {
        "colab": {
          "base_uri": "https://localhost:8080/"
        },
        "id": "GlePohcQeoYU",
        "outputId": "b1a8c1e5-b051-46c3-91ca-a97969528362"
      },
      "outputs": [
        {
          "name": "stdout",
          "output_type": "stream",
          "text": [
            "Количество сообщений в диалоге  51\n",
            "1509                                                                                                                                                                                                                                                                                         А пока сижу я такой, листаю и вижу эти \"глаза\" \\nДумал такое банят, но видимо нет 😅\n",
            "1510                                                                                                                                                                                                                                                               Слишком читерский креатив, ибо на другое смотреть сложно 😅😂Что скажете коллеги? одобряемс? или фу так делать?\n",
            "1511                                                                                                                                                                                                                                                                                                                                           пресс вижу, спортиком занимается?\n",
            "1512                                                                                                                                                                                                                                                                                                                                                        Либо пфотоджопсиком.\n",
            "1513       Простите, что я опять о своем... Директ всю неделю гнал мусорный трафик. Видимо, \"вумные алгоритмы\" так хорошо учатся. В пятницу поставил кучу минус   корректировок по полу, возрасту,  устройствам. Трафик стал более-менее нормальным.... Служба поддержки пишет, что я слишком ограничил таргетинг и советуют расширить его 😂 Даже не знаю как относиться к этому\n",
            "1514                                                                                                                                                                                                                                                 Мегамаркет очень любит такие кревасы на грани, смотришь и вообще голые люди, присмотришься — чуть заметное боди в цвет тела\n",
            "1515                                                                                                                                                                                                                                                                                                                                                               На грани фола\n",
            "1516                                                                                                                                                                                                                                                               Самообладание надо прокачать чтобы можно было смотреть на что угодно в любой ситуации, обстановке и окруженим\n",
            "1517                                                                                                                                                                                                                                                                                                                                                 наркоманы они. че поделаешь\n",
            "1518                                                                                                                                                                                                                                                                                                                              Пол, возраст, гео, все не поможет. Какие цели?\n",
            "1519                                                                                                                                                                                                                                                                         Если \"наркоманы\" считают, что вот такое на грани продает, то что поделать, будут юзать до посинения\n",
            "1520                                                                                                                                                               на сайте есть карусель кейсов.  цели - посетитель долистал до 3 кейса портфолио и так показал свой интерес к предложению. до лидов еще не дошли, потому что конверсия по лидам совсем не принесла результатов\n",
            "1521                                                                                                                                                                                                                                                                                                                                                продает ли? вот в чем вопрос\n",
            "1522                                                                                                                                                                                                                                                                                                                                    И с покерфейсом. (Холодом, прагматизмом)\n",
            "1523                                                                                                                                                                                         минус-корректировки по полу, возрасту и гео помогли отсечь мусорный трафик. точно стало меньше его. Если раньше на 1 визит приходилось больше 2 кликов, то сейчас = 1,2 - 1,4 клика\n",
            "1524                                     за все время в маркетинге понял, что проблема российского маркетинга в том, что тут слишком много \"гуманитариев\", минимум логики, зато \"красиво\".\\n\\nЕсли на новогоднем стриме человек из Яндекс Директ не смог посчитать что-то простое и отделался фразой в стиле \"ой, я не понимаю это. я - гуманитарий\"... то нафиг такой маркетинг\n",
            "1525                                                                                                                                                                                                                                                                                                                                                      Простая цель для ботов\n",
            "1526                                                                                                                                                                                                                                                                                                                                      пока еще не достигли ни боты, ни люди)\n",
            "1527                                                                                                                                                                                                                                                                                                                                   Они на нее учатся и достигают без проблем\n",
            "1528                                                                                                                                                                                                                                                                                                                                                            Какой CTR и СРС?\n",
            "1529                                                                                                                                                                                                                                                                                                                                CTR  = 0,11% CPC 36 рублей. Сегодня запустил\n",
            "1530                                                                                                                                                                                                                                                                                                                                                            завтра посмотрим\n",
            "1531                                                                                                                                                                                                                                                                                                                                                                 Ну это норм\n",
            "1532                                                                                                                                                                                                                                                                                                       Просто когда там CTR 2% и клики по 5 рублей, то вот тут уже вопросики\n",
            "1533                                                                                                                                                                                                                                                                                     В начале же ей надо обучиться искать целевую аудиторию среди буквально миллионов юзеров\n",
            "1534                                                                                                                                                                                                                                                                                      Согласен. Понимаю это и, конечно, нужно подождать. если приходят, действительно, юзеры\n",
            "1535                                                                                                                                                                                                                                                                                                                                   Но это первая рк? Или были другие до нее?\n",
            "1536    Даже при 36 рублях за клик приходят боты. Например, есть первый визит юзера  длительностью 8 секунд, в котором посетитель сразу нажал на кнопку формы заявки. Я не знаю людей, которые при первом посещении сайта в первые 10 секунды сразу идут заполнять форму заявки на консультации. Писать об этом в ЯДирект уже не хочется, там снова ответят, что \"это нормально\"\n",
            "1537                                                                                                                                                                                                                                               Была другая. CTR 0.3%, CPC = 7.51 - эта  кампания как раз привлекла мусорного трафика намного больше, чем целевых посетителей\n",
            "1538                                   По логам на хосте найди такие посещения, ищи похожие и есть ли закономерности, посмотри поведение по вебвизору, на форме нужны поля ловушки, чтобы понять что это бот, даже полуавтоматические боты не понимают спрятанные поля.\\nПосле надо самому их блокировать по: юзерагенту (если есть какие то особенности) или подсеть ip (cidr )\n",
            "1540                                                                                                                                                                                                                                                                                                                                                          Спасибо за совет 👍\n",
            "1541                                                                                                     [Вот в юзер агентах слова которые могут скликивать рекламу и некоторые ищут что взломать\\npython-requests\\nPython\\nApacheBench\\nApache-HttpClient\\nPHP/\\ngo-resty\\nвзлом\\n, {'type': 'link', 'text': 'binance.com'}, \\n, {'type': 'link', 'text': 'linkfluence.com'}, ]\n",
            "1542                                                                                                                                                                                                                                                                                                           Ты совсем от ботов не избавишься никогда, даже когда все обучится\n",
            "1543                                                                                                                                                                                                                                                                                                 А есть ли какие-то формы доступные на условном js которые боты не понимают?\n",
            "1544                                                                                                                                                                                                                                                                        Для ботов оставить форму обычную, для людей ту, которую боты не видят в коде явно как форму с полями\n",
            "1547                                                                                                                                                                                                                          Есть такой вариант, если нет возможности поработать с js и css то тоже вариант.\\nСтавишь её первую по порядку в коде, прячешь, на неё ловишь ботов\n",
            "1548                                                                                                                                                                                                                                                                                                                                    Но все равно выглядит норм, на удивление\n",
            "1549                                                                                                                                                                                                                                                                                                                                      Главное цель в метрику повесить на нее\n",
            "1550                                                                                                                                                                                                                                                                                                                                           Чтобы боты думали, что это профит\n",
            "1551                                                                                                                                                                                                                                                                                                             Зачем? Я их записываю в файл, ну и автоматом заодно блокируются\n",
            "1552                                                                                                                                                                                                                                         Ну я их на 404 специально подготовленную где написано что спам не пройдёт с точки зрения банальной эрудиции не правильно так делать\n",
            "1553                                                                                                                                                                                                                                                                                                                                           Боты ищут где отправки целей идут\n",
            "1554                                                                                                                                                                                                                                                                                             Не ищут ничего, нет у меня целей на формах, они по js работают в момент sucsess\n",
            "1555                                                                                                                                                                                                                                                                                                       Им нужно достигать целей чтобы казаться норм трафом и норм площадками\n",
            "1556                                                                                                                                                                                                                                    Настраиваешь цель на одну кнопку, через неделю боты ее давят, настраиваешь на другую и снимаешь с первой, боты через неделю вторую давят\n",
            "1557                                                                                                                                                                                                                                                                                                                             Их цель казаться хорошим конверсионным трафиком\n",
            "1558                                                                                                                                                                                                                                                                                                      Возможно, но прямых целей практически нет или совсем мало, а боты есть\n",
            "1559                                                                                                                                                                                                                                                                               Есть отдельная категория ботов, которая ходит на сайты и проверяет где отправка js-целей идет\n",
            "1560                                                                                                                                                                                                                                                                                                                                      вот сканеров я блокирую по юзер агенту\n",
            "1561                                                                                                                                                                                                                                                                                                                                                    Они не всегда отличаются\n",
            "1562                                                                                                                                                                                                                                                                                                                 Да вот с такими возится приходится и по одному ИП выщемлять\n",
            "Name: text, dtype: object\n"
          ]
        }
      ],
      "source": [
        "# Отображаю 10 место\n",
        "cluster_10 = df.loc[df['message_id'].isin(sorted_result_top[9]), 'text']#.tolist()\n",
        "print('Количество сообщений в диалоге ', len(cluster_10))\n",
        "with pd.option_context('display.max_colwidth', 500):\n",
        "    print(cluster_10)"
      ]
    },
    {
      "cell_type": "markdown",
      "metadata": {
        "id": "D8Ku81f1YICZ"
      },
      "source": [
        "Вывод:\n",
        "* Провел кластеризацию по reply и по соседним сообщениям с временным threshold`ом.\n",
        "* Порог по времени пол минуты. Это порог выбрал вручную сравнивая с количеством полученных пар. При этом пороге 1500 пар из датасета в 3680\n",
        "* Собрал диалоги(кластеры) из 3809 связей(пар)\n",
        "* 3459 сообщение (из 3680) попали в диалоги\n",
        "* Получил 341 диалог.\n",
        "* Выделил самые длинные (10шт).\n",
        "* 103 собщения в самом большом, 51 в маленьком.\n",
        "* Метрику оценил пока только визульно(почитал сообщения в диалоге). Связь между сообщениями прослеживается."
      ]
    },
    {
      "cell_type": "markdown",
      "metadata": {
        "id": "jcsk72c2Y_V9"
      },
      "source": [
        "# Метод № 2. Кластеризация по всплескам активности по времени"
      ]
    },
    {
      "cell_type": "markdown",
      "metadata": {
        "id": "YKAt-jgWaL_r"
      },
      "source": [
        "Суть подхода:\n",
        "Необходимо выделить в кластеры всплески активности - соседние сообщения с временным порогом. Я использовал порог в 30 мин. Если в чате пауза 30 мин, до переходим к следующему диалогу.\n",
        "\n",
        "План реализации:\n",
        "\n",
        "* Для определения порога провезти анализ распределения сообщений по времени\n",
        "* Выбрать порог\n",
        "* Добавить в список пары индексов соседних сообщений с порогом в 30 мин\n",
        "* Разбиваем сообщения на кластеры с помощью полученных связей через networkx и Graf\n",
        "* Топ 10 диалогов по количеству сообщений\n",
        "* Анализ результата"
      ]
    },
    {
      "cell_type": "code",
      "execution_count": 33,
      "metadata": {
        "colab": {
          "base_uri": "https://localhost:8080/",
          "height": 206
        },
        "id": "nWyqDTJuZWJJ",
        "outputId": "690a6d96-99e7-4ef6-8eb8-6f6f34b4f44e"
      },
      "outputs": [
        {
          "data": {
            "text/html": [
              "<div>\n",
              "<style scoped>\n",
              "    .dataframe tbody tr th:only-of-type {\n",
              "        vertical-align: middle;\n",
              "    }\n",
              "\n",
              "    .dataframe tbody tr th {\n",
              "        vertical-align: top;\n",
              "    }\n",
              "\n",
              "    .dataframe thead th {\n",
              "        text-align: right;\n",
              "    }\n",
              "</style>\n",
              "<table border=\"1\" class=\"dataframe\">\n",
              "  <thead>\n",
              "    <tr style=\"text-align: right;\">\n",
              "      <th></th>\n",
              "      <th>message_id</th>\n",
              "      <th>date</th>\n",
              "      <th>chat_name</th>\n",
              "      <th>chat_id</th>\n",
              "      <th>sender_id</th>\n",
              "      <th>from</th>\n",
              "      <th>reply_to_message_id</th>\n",
              "      <th>text</th>\n",
              "    </tr>\n",
              "  </thead>\n",
              "  <tbody>\n",
              "    <tr>\n",
              "      <th>0</th>\n",
              "      <td>42471</td>\n",
              "      <td>2025-02-01 07:35:54</td>\n",
              "      <td>💬 Marketing Practicum Chat</td>\n",
              "      <td>1782474569</td>\n",
              "      <td>user1272493086</td>\n",
              "      <td>Pasha Sannikov</td>\n",
              "      <td>NaN</td>\n",
              "      <td>[Доброе утро, люди! Это ОК, в РСЯ алгоритмы вы...</td>\n",
              "    </tr>\n",
              "    <tr>\n",
              "      <th>1</th>\n",
              "      <td>42472</td>\n",
              "      <td>2025-02-01 07:40:03</td>\n",
              "      <td>💬 Marketing Practicum Chat</td>\n",
              "      <td>1782474569</td>\n",
              "      <td>user1272493086</td>\n",
              "      <td>Pasha Sannikov</td>\n",
              "      <td>NaN</td>\n",
              "      <td>А вот регионы, в которых живут ITшники с интер...</td>\n",
              "    </tr>\n",
              "    <tr>\n",
              "      <th>2</th>\n",
              "      <td>42473</td>\n",
              "      <td>2025-02-01 07:48:53</td>\n",
              "      <td>💬 Marketing Practicum Chat</td>\n",
              "      <td>1782474569</td>\n",
              "      <td>user1272493086</td>\n",
              "      <td>Pasha Sannikov</td>\n",
              "      <td>NaN</td>\n",
              "      <td>Если смотреть по интересам, то кажется, что ау...</td>\n",
              "    </tr>\n",
              "    <tr>\n",
              "      <th>3</th>\n",
              "      <td>42474</td>\n",
              "      <td>2025-02-01 07:50:31</td>\n",
              "      <td>💬 Marketing Practicum Chat</td>\n",
              "      <td>1782474569</td>\n",
              "      <td>user1272493086</td>\n",
              "      <td>Pasha Sannikov</td>\n",
              "      <td>NaN</td>\n",
              "      <td>А путь пользователя почему-то выглядит так. Ко...</td>\n",
              "    </tr>\n",
              "    <tr>\n",
              "      <th>4</th>\n",
              "      <td>42475</td>\n",
              "      <td>2025-02-01 08:12:42</td>\n",
              "      <td>💬 Marketing Practicum Chat</td>\n",
              "      <td>1782474569</td>\n",
              "      <td>user1164775873</td>\n",
              "      <td>Данилов | Маркетолог</td>\n",
              "      <td>NaN</td>\n",
              "      <td>Опять он</td>\n",
              "    </tr>\n",
              "  </tbody>\n",
              "</table>\n",
              "</div>"
            ],
            "text/plain": [
              "   message_id                date                   chat_name     chat_id  \\\n",
              "0       42471 2025-02-01 07:35:54  💬 Marketing Practicum Chat  1782474569   \n",
              "1       42472 2025-02-01 07:40:03  💬 Marketing Practicum Chat  1782474569   \n",
              "2       42473 2025-02-01 07:48:53  💬 Marketing Practicum Chat  1782474569   \n",
              "3       42474 2025-02-01 07:50:31  💬 Marketing Practicum Chat  1782474569   \n",
              "4       42475 2025-02-01 08:12:42  💬 Marketing Practicum Chat  1782474569   \n",
              "\n",
              "        sender_id                  from  reply_to_message_id  \\\n",
              "0  user1272493086        Pasha Sannikov                  NaN   \n",
              "1  user1272493086        Pasha Sannikov                  NaN   \n",
              "2  user1272493086        Pasha Sannikov                  NaN   \n",
              "3  user1272493086        Pasha Sannikov                  NaN   \n",
              "4  user1164775873  Данилов | Маркетолог                  NaN   \n",
              "\n",
              "                                                text  \n",
              "0  [Доброе утро, люди! Это ОК, в РСЯ алгоритмы вы...  \n",
              "1  А вот регионы, в которых живут ITшники с интер...  \n",
              "2  Если смотреть по интересам, то кажется, что ау...  \n",
              "3  А путь пользователя почему-то выглядит так. Ко...  \n",
              "4                                           Опять он  "
            ]
          },
          "execution_count": 33,
          "metadata": {},
          "output_type": "execute_result"
        }
      ],
      "source": [
        "df.head()"
      ]
    },
    {
      "cell_type": "markdown",
      "metadata": {
        "id": "rQVbUlrQeH0g"
      },
      "source": [
        "**Линейный график сообщений по дням (агрегация по дням)**"
      ]
    },
    {
      "cell_type": "code",
      "execution_count": 34,
      "metadata": {
        "colab": {
          "base_uri": "https://localhost:8080/",
          "height": 607
        },
        "id": "kNX-pJ_JdzVc",
        "outputId": "d431cdbe-b8fb-4a17-a7cf-78b6d5ca1ff8"
      },
      "outputs": [
        {
          "data": {
            "image/png": "[encoded data removed]",
            "text/plain": [
              "<Figure size 1200x600 with 1 Axes>"
            ]
          },
          "metadata": {},
          "output_type": "display_data"
        }
      ],
      "source": [
        "# Группируем по дате и считаем количество сообщений\n",
        "daily_counts = df['date'].dt.floor('D').value_counts().sort_index()\n",
        "\n",
        "plt.figure(figsize=(12, 6))\n",
        "daily_counts.plot(kind='line', marker='o', color='blue', linestyle='-')\n",
        "\n",
        "# Добавляем подписи\n",
        "plt.title('Активность сообщений по дням', fontsize=14)\n",
        "plt.xlabel('Дата', fontsize=12)\n",
        "plt.ylabel('Количество сообщений', fontsize=12)\n",
        "plt.grid(True, linestyle='--', alpha=0.7)\n",
        "plt.tight_layout()\n",
        "plt.show()"
      ]
    },
    {
      "cell_type": "markdown",
      "metadata": {
        "id": "6Oo5olAXfB00"
      },
      "source": [
        "**Построения линейного графика активности сообщений за один день без агрегации**"
      ]
    },
    {
      "cell_type": "code",
      "execution_count": 35,
      "metadata": {
        "colab": {
          "base_uri": "https://localhost:8080/",
          "height": 543
        },
        "id": "tqkMy_pSe7WB",
        "outputId": "e101802a-d34c-41dd-9814-017ca74f44fc"
      },
      "outputs": [
        {
          "name": "stderr",
          "output_type": "stream",
          "text": [
            "C:\\Users\\Виталик\\AppData\\Local\\Temp\\ipykernel_6320\\89590428.py:31: UserWarning: No artists with labels found to put in legend.  Note that artists whose label start with an underscore are ignored when legend() is called with no argument.\n",
            "  plt.legend()\n"
          ]
        },
        {
          "data": {
            "image/png": "[encoded data removed]",
            "text/plain": [
              "<Figure size 1500x500 with 1 Axes>"
            ]
          },
          "metadata": {},
          "output_type": "display_data"
        }
      ],
      "source": [
        "# Выбираем только первый день\n",
        "first_day = df['date'].dt.date.min()\n",
        "df_day = df[df['date'].dt.date == first_day].copy()\n",
        "\n",
        "# Настройка стиля\n",
        "plt.figure(figsize=(15, 5))\n",
        "\n",
        "# Создаем график\n",
        "ax = plt.gca()\n",
        "\n",
        "# Вариант 1: Точечный график (каждое сообщение как точка)\n",
        "ax.plot(df_day['date'],\n",
        "        [1]*len(df_day),  # Все точки на y=1\n",
        "        marker='o',\n",
        "        markersize=5,\n",
        "        linestyle='',\n",
        "        alpha=0.7,\n",
        "        color='royalblue')\n",
        "\n",
        "# Настройка временной оси\n",
        "ax.xaxis.set_major_locator(HourLocator(interval=1))  # Основные деления - каждый час\n",
        "ax.xaxis.set_major_formatter(DateFormatter('%H:%M'))  # Формат времени\n",
        "\n",
        "# Подписи и оформление\n",
        "plt.title(f'Активность сообщений за {first_day.strftime(\"%d.%m.%Y\")}', fontsize=16, pad=20)\n",
        "plt.xlabel('Время', fontsize=12)\n",
        "plt.ylabel('Сообщения', fontsize=12)\n",
        "plt.grid(True, which='both', linestyle='--', alpha=0.3)\n",
        "plt.ylim(0.8, 1.2)  # Для точечного графика\n",
        "\n",
        "plt.legend()\n",
        "plt.xticks(rotation=45)\n",
        "plt.tight_layout()\n",
        "plt.show()"
      ]
    },
    {
      "cell_type": "markdown",
      "metadata": {
        "id": "fOY15rjmmmrm"
      },
      "source": [
        "Выбираю пороговое значения - 30 минут"
      ]
    },
    {
      "cell_type": "code",
      "execution_count": 36,
      "metadata": {
        "id": "L16rpXN2iPeK"
      },
      "outputs": [],
      "source": [
        "threshold_vspl = 30"
      ]
    },
    {
      "cell_type": "code",
      "execution_count": 37,
      "metadata": {
        "colab": {
          "base_uri": "https://localhost:8080/"
        },
        "id": "O978o-1BnGer",
        "outputId": "e4e31100-d253-4a24-e534-e1af3cd6abbb"
      },
      "outputs": [
        {
          "data": {
            "text/plain": [
              "3466"
            ]
          },
          "execution_count": 37,
          "metadata": {},
          "output_type": "execute_result"
        }
      ],
      "source": [
        "# Добавляю пары соседних сообщений с порогом в 30 минут (в прошлом методе было 30 секунд)\n",
        "# Порог выбрал вручную, глядя на графики активности сообщений\n",
        "threshold_vspl = 30\n",
        "y = []\n",
        "for i in range(len(df)-1):\n",
        "  if df.loc[i+1, 'date']-df.loc[i, 'date'] < pd.Timedelta(minutes=threshold_vspl):\n",
        "    y.append([df.loc[i, 'message_id'], df.loc[i+1, 'message_id']])\n",
        "len(y)"
      ]
    },
    {
      "cell_type": "code",
      "execution_count": 38,
      "metadata": {
        "colab": {
          "base_uri": "https://localhost:8080/",
          "height": 423
        },
        "id": "l1de0RbcpMel",
        "outputId": "dded4fa0-7548-4cd5-d031-d5e9e6460700"
      },
      "outputs": [
        {
          "data": {
            "text/html": [
              "<div>\n",
              "<style scoped>\n",
              "    .dataframe tbody tr th:only-of-type {\n",
              "        vertical-align: middle;\n",
              "    }\n",
              "\n",
              "    .dataframe tbody tr th {\n",
              "        vertical-align: top;\n",
              "    }\n",
              "\n",
              "    .dataframe thead th {\n",
              "        text-align: right;\n",
              "    }\n",
              "</style>\n",
              "<table border=\"1\" class=\"dataframe\">\n",
              "  <thead>\n",
              "    <tr style=\"text-align: right;\">\n",
              "      <th></th>\n",
              "      <th>one</th>\n",
              "      <th>two</th>\n",
              "    </tr>\n",
              "  </thead>\n",
              "  <tbody>\n",
              "    <tr>\n",
              "      <th>0</th>\n",
              "      <td>42471</td>\n",
              "      <td>42472</td>\n",
              "    </tr>\n",
              "    <tr>\n",
              "      <th>1</th>\n",
              "      <td>42472</td>\n",
              "      <td>42473</td>\n",
              "    </tr>\n",
              "    <tr>\n",
              "      <th>2</th>\n",
              "      <td>42473</td>\n",
              "      <td>42474</td>\n",
              "    </tr>\n",
              "    <tr>\n",
              "      <th>3</th>\n",
              "      <td>42474</td>\n",
              "      <td>42475</td>\n",
              "    </tr>\n",
              "    <tr>\n",
              "      <th>4</th>\n",
              "      <td>42475</td>\n",
              "      <td>42476</td>\n",
              "    </tr>\n",
              "    <tr>\n",
              "      <th>...</th>\n",
              "      <td>...</td>\n",
              "      <td>...</td>\n",
              "    </tr>\n",
              "    <tr>\n",
              "      <th>3461</th>\n",
              "      <td>46399</td>\n",
              "      <td>46400</td>\n",
              "    </tr>\n",
              "    <tr>\n",
              "      <th>3462</th>\n",
              "      <td>46400</td>\n",
              "      <td>46401</td>\n",
              "    </tr>\n",
              "    <tr>\n",
              "      <th>3463</th>\n",
              "      <td>46401</td>\n",
              "      <td>46402</td>\n",
              "    </tr>\n",
              "    <tr>\n",
              "      <th>3464</th>\n",
              "      <td>46402</td>\n",
              "      <td>46403</td>\n",
              "    </tr>\n",
              "    <tr>\n",
              "      <th>3465</th>\n",
              "      <td>46403</td>\n",
              "      <td>46405</td>\n",
              "    </tr>\n",
              "  </tbody>\n",
              "</table>\n",
              "<p>3466 rows × 2 columns</p>\n",
              "</div>"
            ],
            "text/plain": [
              "        one    two\n",
              "0     42471  42472\n",
              "1     42472  42473\n",
              "2     42473  42474\n",
              "3     42474  42475\n",
              "4     42475  42476\n",
              "...     ...    ...\n",
              "3461  46399  46400\n",
              "3462  46400  46401\n",
              "3463  46401  46402\n",
              "3464  46402  46403\n",
              "3465  46403  46405\n",
              "\n",
              "[3466 rows x 2 columns]"
            ]
          },
          "execution_count": 38,
          "metadata": {},
          "output_type": "execute_result"
        }
      ],
      "source": [
        "para_vspl = pd.DataFrame(y, columns=['one','two'])\n",
        "para_vspl"
      ]
    },
    {
      "cell_type": "code",
      "execution_count": 39,
      "metadata": {
        "colab": {
          "base_uri": "https://localhost:8080/"
        },
        "id": "C6QI8Mmfpwqx",
        "outputId": "d6411be9-3102-4e15-9906-ca61ba6a5e8a"
      },
      "outputs": [
        {
          "name": "stdout",
          "output_type": "stream",
          "text": [
            "[[np.int64(42543), np.int64(42544), np.int64(42545), np.int64(42546), np.int64(42547), np.int64(42548), np.int64(42549)], [np.int64(42554), np.int64(42555), np.int64(42556), np.int64(42557), np.int64(42558), np.int64(42559), np.int64(42560), np.int64(42561), np.int64(42562), np.int64(42563), np.int64(42564)]]\n"
          ]
        }
      ],
      "source": [
        "# Составляем списки id сообщений в диалоги с помощью networkx\n",
        "G = nx.Graph()\n",
        "for _, row in para_vspl.iterrows():\n",
        "    G.add_edge(row['one'], row['two'])\n",
        "connected_components = list(nx.connected_components(G))\n",
        "result_vspl = [sorted(list(component)) for component in connected_components]\n",
        "result_vspl.sort(key=lambda x: x[0])\n",
        "print(result_vspl[1:3])"
      ]
    },
    {
      "cell_type": "code",
      "execution_count": 40,
      "metadata": {
        "colab": {
          "base_uri": "https://localhost:8080/"
        },
        "id": "_UuEWLA_pq6v",
        "outputId": "bf9957b5-10e6-47bc-e393-870112bac5f4"
      },
      "outputs": [
        {
          "data": {
            "text/plain": [
              "153"
            ]
          },
          "execution_count": 40,
          "metadata": {},
          "output_type": "execute_result"
        }
      ],
      "source": [
        "# Количество диалогов\n",
        "len(result_vspl)"
      ]
    },
    {
      "cell_type": "code",
      "execution_count": 41,
      "metadata": {
        "colab": {
          "base_uri": "https://localhost:8080/"
        },
        "id": "tAGyd6z_qZhh",
        "outputId": "87d3fe09-8444-4951-a7c5-797c9feda967"
      },
      "outputs": [
        {
          "data": {
            "text/plain": [
              "3619"
            ]
          },
          "execution_count": 41,
          "metadata": {},
          "output_type": "execute_result"
        }
      ],
      "source": [
        "# Количество сообщений попавших в диалоги\n",
        "total_vspl = sum(len(sublist) for sublist in result_vspl)\n",
        "total_vspl"
      ]
    },
    {
      "cell_type": "code",
      "execution_count": 42,
      "metadata": {
        "colab": {
          "base_uri": "https://localhost:8080/"
        },
        "id": "11tmrdzfql9W",
        "outputId": "eb0eadc2-f065-4c67-b2cb-78df4f13a2ee"
      },
      "outputs": [
        {
          "data": {
            "text/plain": [
              "206"
            ]
          },
          "execution_count": 42,
          "metadata": {},
          "output_type": "execute_result"
        }
      ],
      "source": [
        "# Количество сообщенией в наибольшем диалоге\n",
        "total_vspl = max(len(sublist) for sublist in result_vspl)\n",
        "total_vspl"
      ]
    },
    {
      "cell_type": "code",
      "execution_count": 43,
      "metadata": {
        "id": "_VrDHH9qql6r"
      },
      "outputs": [],
      "source": [
        "# Сортирую\n",
        "result_vspl_sorted = sorted(result_vspl, key=lambda x: len(x), reverse=True)\n",
        "result_vspl_sorted_top = result_vspl_sorted[0:10]"
      ]
    },
    {
      "cell_type": "code",
      "execution_count": 44,
      "metadata": {
        "colab": {
          "base_uri": "https://localhost:8080/"
        },
        "id": "kvuwlF9phn72",
        "outputId": "e20cc543-814e-40c8-c9c4-0efe6857db8c"
      },
      "outputs": [
        {
          "name": "stdout",
          "output_type": "stream",
          "text": [
            "Количество сообщений в диалоге  79\n",
            "2565                                                                                                                                                                                                                                                   Через гтм?\n",
            "2566                                                                                                                                                                                                                                          Через oncontextmenu\n",
            "2567                                                                                                                                                                                                                   Очень интересно, но не понятно 😂👍пример бы\n",
            "2568                                                                                                                                                                                                               oncontextmenu(ym(000000,'reachGoal','pochta'))\n",
            "2569                                                                                                                                                                                                                                Это если совсем просто делать\n",
            "2570                                                                                                                                                                                                                               Понял, хотя бы приблизительно.\n",
            "2571                                                                                                                                                                                                                                                    Спасибо 🙏\n",
            "2572                                                                                                                                                                                                                       Даже в голову бы мысль не пришла такая\n",
            "2573                                                                                                                                                                                                Что такое можно тоже сделать.  Вроде бы ситуация тривиальная.\n",
            "2574                                                                                                                                                                                              Кстати, хорошие мысли. 💭 я думаю что есть в ваших рассуждениях.\n",
            "2575                                                                                                [<a onclick=\"goal('pochta')\" oncontextmenu=\"ym(000000,'reachGoal','pochta')\" href=\"mailto:почта@почта.ru\">, {'type': 'link', 'text': 'почта@почта.ru'}, </a>]\n",
            "2576                                                                                                                                                                                                                                                   Сохраню 💪🏽\n",
            "2577                                                                                                                                                                                                                         Но я не такой дурак, нашёл блокнот 😁\n",
            "2578                                                                                                                                                                                                                    маркетинг службы исполнения и наказания 😂\n",
            "2579                                                                                       Вы избалованы жизнью, и стало слишком скучно и одиноко? Приезжайте к нам и почувствуйте невероятные ощущения. Мы всегда помним о вас ❤️ ГУФСИН по Свердловской области\n",
            "2580                                                                                                                                                                                                    Может быть это какая-то локальная версия игры в кальмара?\n",
            "2581                                                                                                                                                                                                                    Вполне возможно. Есть желающие сыграть?:)\n",
            "2582                                                                                                                                                                                                                                       Даже смотреть не буду)\n",
            "2583                                                                                                                                                                                                         Если только ногами пинать не будут, то можно глянуть\n",
            "2584                                                                                                                                                                              Пинать ногами  - это, наверное, в прошлом. Сейчас есть более изысканные решения\n",
            "2585                                                                                                                                                                                      Почему-то ощущаю сейчас себя промоутером ГУФСИН по Свердловской области\n",
            "2586                                                                    [{'type': 'link', 'text': 'https://www.youtube.com/watch?v=H8jKHTlcCkY'},  \\n\\nПошаговый разбор вашей первой рекламной кампании в Директе. Вебинар Андрея Дамаскина. Приятного просмотра]\n",
            "2587                                                                                                                                                                                                                         Какой омерзительный голос у ведущего\n",
            "2588                                                                                                                                                                                                                                                  Борода норм\n",
            "2589                                                                                                                                                                     Андрей, у тебя хороший мягкий голос. Я посмотрел, и как будто на сеансе гипноза  побывал\n",
            "2590                                                                                                                                                                                                   Это потому что свой голос всегда кажется чуть искаженным 😉\n",
            "2591                                                                                                                                   о! да! я не могу слушать себя и тем более смотреть на себя... первые мысли, которые приходят в голову: \"кто этот дурачок?\"\n",
            "2592                                                                                                                    [Я знаю что надо сделать. Тут подгон для владельцев nvidia — , {'type': 'link', 'text': 'https://build.nvidia.com/nvidia/studiovoice'}, ]\n",
            "2593                                                                                                                                                                                                                                      А что сделать-то нужно?\n",
            "2594                                                                                                                                                                                                            Коллеги, а можно через вк вести на аккаунт авито?\n",
            "2595                                                                                                                                                                                                                                 Допустим вакансии покрутить?\n",
            "2596                                                                                                                                                                             Через директ можно, там вроде бы понятно и ясно все. А как это реализуется в вк?\n",
            "2597                                                                                                                                                                                                     Реклама сайта и ссылка на авито. Как тебе такой вариант?\n",
            "2598                                                                                                                                                                                                                         Ссылка на карточку вакансии на авито\n",
            "2599                                                                                                                                                                                                                   Сайта нет. Нужно просто на карточку авито.\n",
            "2600                                                                                                                                                                                                                               Ссылка на карточку вакансии :)\n",
            "2601                                                                                                                                                                                                                                           Так будет рабоать?\n",
            "2602                                                                                                                                                                                                                              У карточки Авито есть же ссылка\n",
            "2603                                                                                                                                                                                                        Ну если карточка в открытом доступе почему не должно?\n",
            "2604                                                                                                                                                                                                                            Только аналитики нигде не увидишь\n",
            "2605                                                                                                                                                                                                                                       Супер! Тогда попробую.\n",
            "2606                                                                                                                                                                                                                                                    Хотяя....\n",
            "2607                                                                                                                                                                                                                                        Я просто засомневался\n",
            "2608                                                                                                                                                                                                                   Наверное, в кабинете Авито есть статистика\n",
            "2609                                                                                                                                                                                                                                Аналитика, пока не так важна.\n",
            "2610                                                                                                                                                                                        Главное чтобы можно было ссылку на конкертное объявление показы были.\n",
            "2611                                                                                                                                                                                                                                               Таким образом?\n",
            "2612                                                                                                                                                                                 просто боюсь что будет делать общую просто ссылку на авито и все. как снизу.\n",
            "2613                                                                                                                                                                                                                                Воу воу, у нас так не принято\n",
            "2614                                                                                                                                                                                                               Я громко сказал, конечно.  Но она очень важна.\n",
            "2615                                                                                                                                                                      Ну нет, ты же указываешь туда ссылки свои на сайт внутренние и не сбрасывает до главной\n",
            "2616                                                                                                                                                                                                      В конце концов потом проверишь что указано в готовой РК\n",
            "2617                                                                                                                                                                                                                                              Понял, принято.\n",
            "2618    [{'type': 'mention', 'text': '@AndreyDamaskin'},  Андрей, пожалуйста, помоги с вопросом по WordPress Elementor. Нужно вносить изменения в код страницы, чтобы поставить мета-теги. Или есть возможно разместить Title и Description в редакторе страниц?]\n",
            "2619                                                                                                                                                                                                                                           Внутри элементора?\n",
            "2620                                                                                                                                                                               Насколько помню мета-теги для страниц все-таки на уровне страниц проставляются\n",
            "2621                                                           Наверное :) Я систему управления сайтом не видел. Доступ не предоставляют. потому что там какие-то связи с правительством или еще с чем-то... просят составить инструкцию как разместить мета-теги\n",
            "2622                                                                                                                                                                                                                                             Большое спасибо!\n",
            "2623                                                                                                                                                                                                                       Связи с правительством и Элементор?)))\n",
            "2624                                                                                                                                                                                                                                         Что-то несовместимое\n",
            "2625                                                                                                                                                                                                                            какие времена - такие решения )))\n",
            "2626                                                     это сайт разработчика программного обеспечения. они создали российскую ОС и софт для работы с документами. Но на сайте нельзя показывать цены, потому что это NDA... Связь с правительством точно есть))\n",
            "2627                                                                                                                                                                                                                                            АстраЛинух чтоле?\n",
            "2628                                                                                                                                                   Тепло. Там еще другие есть. кажется, что сейчас мне низя называть имя, потому что \"NDA\"... Прошу простить)\n",
            "2629                                                                                                                                                                                                                                Продолжаем гадать всем чатом!\n",
            "2630                                                                                                                                    В общем не на уровне Элементора настраивается, а на уровне WP, вероятно нужно будет поставить какой-нибудь сеошный плагин\n",
            "2631                                                                                                                                                                                                         Спасибо. Тогда прошу совета: какой плагин поставить?\n",
            "2632                                                                                              Я до WordPress воообще не дорос, а тут нужно мета-теги расставить там, о чем понятия не имею. Да еще доступа к панели администратора нету. Легких путей не ищем\n",
            "2633                                                                                                                                                                                                                 Самые топовые YoastSEO и All in One SEO Pack\n",
            "2634                                                                                                                                                                                                                              Панели администратора хостинга?\n",
            "2635                                                                                                                                                                                                                         Если у тебя WP, то она тебе не нужна\n",
            "2636                                                                                                                                                                                                                             Даже бэкапы изнутри делать легче\n",
            "2637                                                                                                                                                                                                                                                    WordPress\n",
            "2638                                                                                                                                                                                                                           До панели администратора WordPress\n",
            "2639                                                                                                                                                                                                                 В WordPress есть же панель администратора?:)\n",
            "2640                                                                                                                                                                                                     Мммм, если они так саму админку называют, то наверное да\n",
            "2641                                                                                                                                       Но тут важный момент, что скорее всего нет отдельного доступа только на Элементор, хотя как они там настроили не знаю)\n",
            "2642                                                                                                                                                                                                                    Спасибо. Завтра буду разбираться в этом )\n",
            "2643                      Добрый вечер, дайте совет, какую выбрать стратегию, бизнес доставка суши … уже все заезженно … , куча конкурентов, всякие сервисы по еде, я просто не знаю с чего начать. Ковыряю сижу пока ключи и минусы. Город не большой, не Москва\n",
            "Name: text, dtype: object\n"
          ]
        }
      ],
      "source": [
        "# Отображаю 10 место\n",
        "cluster_vspl_10 = df.loc[df['message_id'].isin(result_vspl_sorted_top[9]), 'text']#.tolist()\n",
        "print('Количество сообщений в диалоге ', len(cluster_vspl_10))\n",
        "with pd.option_context('display.max_rows', None, 'display.max_colwidth', None):\n",
        "    print(cluster_vspl_10)"
      ]
    },
    {
      "cell_type": "markdown",
      "metadata": {
        "id": "L-9qhvI_rSGi"
      },
      "source": [
        "Вывод:\n",
        "* Провел кластеризацию по всплескам активности. Порог по временногу интервалу между соседними сообщениями 30 минут.\n",
        "* Порог по времени 30 минут. Этот порог выбрал после анализа графиков активности\n",
        "* Собрал диалоги(кластеры) из 3466 связей(пар)\n",
        "* 3619 сообщений (из 3680) попали в диалоги\n",
        "* Получил 153 диалога.\n",
        "* Выделил самые длинные (10шт).\n",
        "* 206 собщения в самом большом, 79 в маленьком.\n",
        "* Метрику оценил пока только визульно(почитал сообщения в диалоге). Связь между сообщениями прослеживается."
      ]
    },
    {
      "cell_type": "markdown",
      "metadata": {
        "id": "o6EnwBgnsGuQ"
      },
      "source": [
        "# Оценка и сравнение двух методов"
      ]
    },
    {
      "cell_type": "markdown",
      "metadata": {
        "id": "P0ChyzDrZgMR"
      },
      "source": [
        "Оценил по одному кластеру с помощью DeepSeek."
      ]
    },
    {
      "cell_type": "markdown",
      "metadata": {
        "id": "YXsq5QljQwKs"
      },
      "source": [
        "## Метод №1 кластер 10 - 51 сообщение"
      ]
    },
    {
      "cell_type": "markdown",
      "metadata": {
        "id": "nozvB4LLRDoF"
      },
      "source": [
        "Запрос: Какую основную тему можно выделить в этом диалоге? + cluster_10"
      ]
    },
    {
      "cell_type": "markdown",
      "metadata": {
        "id": "Mr9NPtqqRGsZ"
      },
      "source": [
        "Результат: Основная тема диалога — проблема ботов и мусорного трафика в рекламных кампаниях, а также методы борьбы с ними."
      ]
    },
    {
      "cell_type": "markdown",
      "metadata": {
        "id": "TkyCPqG_RbPq"
      },
      "source": [
        "Запрос: Сколько сообщений из этого диалога относятся к теме: проблема ботов и мусорного трафика в рекламных кампаниях, а также методы борьбы с ними. + cluster_10"
      ]
    },
    {
      "cell_type": "markdown",
      "metadata": {
        "id": "V77zX47cRbMO"
      },
      "source": [
        "Результат из 51 сообщения:\n",
        "* 16 сообщений напрямую относятся к теме проблемы ботов, мусорного трафика и методов борьбы с ними.\n",
        "* 22 сообщения релевантны\n",
        "* остальные носят сопутствующий или оффтопный характер. (например, про креативы на грани фола, критику маркетологов-гуманитариев)"
      ]
    },
    {
      "cell_type": "markdown",
      "metadata": {
        "id": "mILuOiG7RbJS"
      },
      "source": [
        "## Метод №2 кластер 10 - 79 сообщений"
      ]
    },
    {
      "cell_type": "markdown",
      "metadata": {
        "id": "nDG7yICURbGv"
      },
      "source": [
        "Запрос: Какую основную тему можно выделить в этом диалоге? + cluster_10"
      ]
    },
    {
      "cell_type": "markdown",
      "metadata": {
        "id": "KcS17UcAS_k6"
      },
      "source": [
        "Результат: Технические аспекты настройки аналитики и рекламы"
      ]
    },
    {
      "cell_type": "markdown",
      "metadata": {
        "id": "LUtmVTPDS_ic"
      },
      "source": [
        "Запрос: Сколько сообщений из этого диалога относятся к теме: проблема ботов и мусорного трафика в рекламных кампаниях, а также методы борьбы с ними. + cluster_10"
      ]
    },
    {
      "cell_type": "markdown",
      "metadata": {
        "id": "_wVhyf9CS_gH"
      },
      "source": [
        "Результат из 79 сообщения:\n",
        "* 24 сообщений напрямую относятся к теме проблемы ботов, мусорного трафика и методов борьбы с ними.\n",
        "* 36 сообщений релевантны\n",
        "* остальные оффтоп или другие темы."
      ]
    },
    {
      "cell_type": "markdown",
      "metadata": {
        "id": "5fouL0pWZUcC"
      },
      "source": [
        "# Вывод"
      ]
    },
    {
      "cell_type": "markdown",
      "metadata": {
        "id": "qmw0dsAfW8Qk"
      },
      "source": [
        "Вывод: Оценил по одному кластеру с помощью DeepSeek. Также оценил кластеры вручную. Оба метода работают хорошо. Имеем четко сформулированную тему, практически все сообщения из кластера так или иначе в теме участвуют. Мне нравится результат Метода № 1. Кластеры поменьше и подход мне кажется получьше.  \n",
        "\n",
        "Приемущество предствленного подхода для кластеризации:\n",
        "* не используем машинное обучение\n",
        "* точность (не доказано)\n",
        "* простота реализации и интерпретируемость\n",
        "\n",
        "Для нашей задачи считаю приемлем использование Метода №1."
      ]
    },
    {
      "cell_type": "markdown",
      "metadata": {
        "id": "HD7zBUTwOPuW"
      },
      "source": [
        "# Доработка и оценка качества кластеризации Метода №1"
      ]
    },
    {
      "cell_type": "markdown",
      "metadata": {
        "id": "UBg4q1nmQK9R"
      },
      "source": [
        "## th_minute этот параметр зависит от плотности"
      ]
    },
    {
      "cell_type": "markdown",
      "metadata": {
        "id": "UHOb9UuwYc-F"
      },
      "source": [
        "В первом методе мы использовали порог в 30 секунд, найденый вручную на данном датасете. Этот параметр должен быть универсальным. При пороге в 30 секунд мы получbли вот такое количество связей (без реплай):"
      ]
    },
    {
      "cell_type": "code",
      "execution_count": 45,
      "metadata": {
        "colab": {
          "base_uri": "https://localhost:8080/"
        },
        "id": "u26lvWqFX28p",
        "outputId": "3f8ee77b-167d-4826-a5cb-47e42330a107"
      },
      "outputs": [
        {
          "data": {
            "text/plain": [
              "1523"
            ]
          },
          "execution_count": 45,
          "metadata": {},
          "output_type": "execute_result"
        }
      ],
      "source": [
        "x = []\n",
        "th_minute=0.5\n",
        "for i in range(len(df)-1):\n",
        "  if df.loc[i+1, 'date']-df.loc[i, 'date'] < pd.Timedelta(minutes=th_minute):\n",
        "    x.append([df.loc[i, 'message_id'], df.loc[i+1, 'message_id']])\n",
        "len(x)"
      ]
    },
    {
      "cell_type": "code",
      "execution_count": 46,
      "metadata": {
        "colab": {
          "base_uri": "https://localhost:8080/"
        },
        "id": "ogqCWWvRZvSJ",
        "outputId": "4f49763f-194f-4ff1-81a4-b7b2458f14ed"
      },
      "outputs": [
        {
          "data": {
            "text/plain": [
              "41.0"
            ]
          },
          "execution_count": 46,
          "metadata": {},
          "output_type": "execute_result"
        }
      ],
      "source": [
        "# Вычислим процент от всего количества сообщений\n",
        "perc = round(len(x)/len(df), 2)*100\n",
        "perc"
      ]
    },
    {
      "cell_type": "code",
      "execution_count": 47,
      "metadata": {
        "colab": {
          "base_uri": "https://localhost:8080/"
        },
        "id": "RyajIKR2Qabq",
        "outputId": "30b1fb5b-9056-4514-c162-31154c777f5b"
      },
      "outputs": [
        {
          "data": {
            "text/plain": [
              "0.48333333333333334"
            ]
          },
          "execution_count": 47,
          "metadata": {},
          "output_type": "execute_result"
        }
      ],
      "source": [
        "# вычеслим полученый перцентиль на списке временных итервалов всех сообщений\n",
        "pl = []\n",
        "for i in range(len(df)-1):\n",
        "   time_diff = df.loc[i+1, 'date']-df.loc[i, 'date']\n",
        "   seconds = time_diff.total_seconds()\n",
        "   pl.append(seconds)\n",
        "percentile_int = int(np.percentile(pl, perc))\n",
        "# выразим в минутах\n",
        "th_minute = percentile_int/60\n",
        "th_minute"
      ]
    },
    {
      "cell_type": "code",
      "execution_count": 48,
      "metadata": {
        "id": "mBujpMynQqd8"
      },
      "outputs": [],
      "source": [
        "# Занаво соберем кластеры\n",
        "x = []\n",
        "for i in range(len(df)-1, -1, -1):\n",
        "  if not pd.isna(df.loc[i, 'reply_to_message_id']):\n",
        "    x.append([df.loc[i, 'message_id'], df.loc[i, 'reply_to_message_id']])\n",
        "for i in range(len(df)-1):\n",
        "  if df.loc[i+1, 'date']-df.loc[i, 'date'] < pd.Timedelta(minutes=th_minute):\n",
        "    x.append([df.loc[i, 'message_id'], df.loc[i+1, 'message_id']])\n",
        "para = pd.DataFrame(x, columns=['one','two'])\n",
        "G = nx.Graph()\n",
        "for _, row in para.iterrows():\n",
        "    G.add_edge(row['one'], row['two'])\n",
        "connected_components = list(nx.connected_components(G))\n",
        "result = [sorted(list(component)) for component in connected_components]\n",
        "result.sort(key=lambda x: x[0])\n",
        "sorted_result = sorted(result, key=lambda x: len(x), reverse=True)"
      ]
    },
    {
      "cell_type": "markdown",
      "metadata": {
        "id": "b-60xmy1g604"
      },
      "source": [
        "## Соберем датасет с важными признаками"
      ]
    },
    {
      "cell_type": "markdown",
      "metadata": {
        "id": "8ktntvBmpooO"
      },
      "source": [
        "### Столбец с номером кластера"
      ]
    },
    {
      "cell_type": "code",
      "execution_count": 49,
      "metadata": {
        "id": "isZ_KKEddB-c"
      },
      "outputs": [],
      "source": [
        "df_clast = df[['message_id', 'text']]"
      ]
    },
    {
      "cell_type": "code",
      "execution_count": 50,
      "metadata": {
        "colab": {
          "base_uri": "https://localhost:8080/"
        },
        "id": "pD7tQewsiG0I",
        "outputId": "6fe20a60-ddfa-4f17-dfa6-2ecc0036777e"
      },
      "outputs": [
        {
          "data": {
            "text/plain": [
              "347"
            ]
          },
          "execution_count": 50,
          "metadata": {},
          "output_type": "execute_result"
        }
      ],
      "source": [
        "len(sorted_result)"
      ]
    },
    {
      "cell_type": "code",
      "execution_count": 51,
      "metadata": {
        "colab": {
          "base_uri": "https://localhost:8080/",
          "height": 533
        },
        "id": "CyuvGdXRjb5M",
        "outputId": "5ff68510-5a83-4295-f3c9-a0e373b4bd53"
      },
      "outputs": [
        {
          "data": {
            "text/html": [
              "<div>\n",
              "<style scoped>\n",
              "    .dataframe tbody tr th:only-of-type {\n",
              "        vertical-align: middle;\n",
              "    }\n",
              "\n",
              "    .dataframe tbody tr th {\n",
              "        vertical-align: top;\n",
              "    }\n",
              "\n",
              "    .dataframe thead th {\n",
              "        text-align: right;\n",
              "    }\n",
              "</style>\n",
              "<table border=\"1\" class=\"dataframe\">\n",
              "  <thead>\n",
              "    <tr style=\"text-align: right;\">\n",
              "      <th></th>\n",
              "      <th>message_id</th>\n",
              "      <th>text</th>\n",
              "      <th>n_claster</th>\n",
              "    </tr>\n",
              "  </thead>\n",
              "  <tbody>\n",
              "    <tr>\n",
              "      <th>0</th>\n",
              "      <td>42471</td>\n",
              "      <td>[Доброе утро, люди! Это ОК, в РСЯ алгоритмы вы...</td>\n",
              "      <td>NaN</td>\n",
              "    </tr>\n",
              "    <tr>\n",
              "      <th>1</th>\n",
              "      <td>42472</td>\n",
              "      <td>А вот регионы, в которых живут ITшники с интер...</td>\n",
              "      <td>NaN</td>\n",
              "    </tr>\n",
              "    <tr>\n",
              "      <th>2</th>\n",
              "      <td>42473</td>\n",
              "      <td>Если смотреть по интересам, то кажется, что ау...</td>\n",
              "      <td>NaN</td>\n",
              "    </tr>\n",
              "    <tr>\n",
              "      <th>3</th>\n",
              "      <td>42474</td>\n",
              "      <td>А путь пользователя почему-то выглядит так. Ко...</td>\n",
              "      <td>NaN</td>\n",
              "    </tr>\n",
              "    <tr>\n",
              "      <th>4</th>\n",
              "      <td>42475</td>\n",
              "      <td>Опять он</td>\n",
              "      <td>NaN</td>\n",
              "    </tr>\n",
              "    <tr>\n",
              "      <th>...</th>\n",
              "      <td>...</td>\n",
              "      <td>...</td>\n",
              "      <td>...</td>\n",
              "    </tr>\n",
              "    <tr>\n",
              "      <th>3675</th>\n",
              "      <td>46400</td>\n",
              "      <td>Напишу им, спасибо.</td>\n",
              "      <td>NaN</td>\n",
              "    </tr>\n",
              "    <tr>\n",
              "      <th>3676</th>\n",
              "      <td>46401</td>\n",
              "      <td>Старые профили не удаляются, номер на который ...</td>\n",
              "      <td>NaN</td>\n",
              "    </tr>\n",
              "    <tr>\n",
              "      <th>3677</th>\n",
              "      <td>46402</td>\n",
              "      <td>Пишите оператору (позовите пожалуйста оператор...</td>\n",
              "      <td>NaN</td>\n",
              "    </tr>\n",
              "    <tr>\n",
              "      <th>3678</th>\n",
              "      <td>46403</td>\n",
              "      <td>Отлично! Благодарю.</td>\n",
              "      <td>NaN</td>\n",
              "    </tr>\n",
              "    <tr>\n",
              "      <th>3679</th>\n",
              "      <td>46405</td>\n",
              "      <td>Да там часто отвечает бот, поэтому надо добить...</td>\n",
              "      <td>NaN</td>\n",
              "    </tr>\n",
              "  </tbody>\n",
              "</table>\n",
              "<p>3680 rows × 3 columns</p>\n",
              "</div>"
            ],
            "text/plain": [
              "      message_id                                               text  n_claster\n",
              "0          42471  [Доброе утро, люди! Это ОК, в РСЯ алгоритмы вы...        NaN\n",
              "1          42472  А вот регионы, в которых живут ITшники с интер...        NaN\n",
              "2          42473  Если смотреть по интересам, то кажется, что ау...        NaN\n",
              "3          42474  А путь пользователя почему-то выглядит так. Ко...        NaN\n",
              "4          42475                                           Опять он        NaN\n",
              "...          ...                                                ...        ...\n",
              "3675       46400                                Напишу им, спасибо.        NaN\n",
              "3676       46401  Старые профили не удаляются, номер на который ...        NaN\n",
              "3677       46402  Пишите оператору (позовите пожалуйста оператор...        NaN\n",
              "3678       46403                                Отлично! Благодарю.        NaN\n",
              "3679       46405  Да там часто отвечает бот, поэтому надо добить...        NaN\n",
              "\n",
              "[3680 rows x 3 columns]"
            ]
          },
          "execution_count": 51,
          "metadata": {},
          "output_type": "execute_result"
        }
      ],
      "source": [
        "df_clast = df_clast.copy()\n",
        "df_clast.loc[:, 'n_claster'] = np.nan\n",
        "df_clast"
      ]
    },
    {
      "cell_type": "code",
      "execution_count": 52,
      "metadata": {
        "colab": {
          "base_uri": "https://localhost:8080/",
          "height": 423
        },
        "id": "-QNnIDgnkpLX",
        "outputId": "aba016e8-3d94-41ed-ca57-30fa19f1c52b"
      },
      "outputs": [
        {
          "data": {
            "text/html": [
              "<div>\n",
              "<style scoped>\n",
              "    .dataframe tbody tr th:only-of-type {\n",
              "        vertical-align: middle;\n",
              "    }\n",
              "\n",
              "    .dataframe tbody tr th {\n",
              "        vertical-align: top;\n",
              "    }\n",
              "\n",
              "    .dataframe thead th {\n",
              "        text-align: right;\n",
              "    }\n",
              "</style>\n",
              "<table border=\"1\" class=\"dataframe\">\n",
              "  <thead>\n",
              "    <tr style=\"text-align: right;\">\n",
              "      <th></th>\n",
              "      <th>message_id</th>\n",
              "      <th>text</th>\n",
              "      <th>n_claster</th>\n",
              "    </tr>\n",
              "  </thead>\n",
              "  <tbody>\n",
              "    <tr>\n",
              "      <th>0</th>\n",
              "      <td>42471</td>\n",
              "      <td>[Доброе утро, люди! Это ОК, в РСЯ алгоритмы вы...</td>\n",
              "      <td>42.0</td>\n",
              "    </tr>\n",
              "    <tr>\n",
              "      <th>1</th>\n",
              "      <td>42472</td>\n",
              "      <td>А вот регионы, в которых живут ITшники с интер...</td>\n",
              "      <td>NaN</td>\n",
              "    </tr>\n",
              "    <tr>\n",
              "      <th>2</th>\n",
              "      <td>42473</td>\n",
              "      <td>Если смотреть по интересам, то кажется, что ау...</td>\n",
              "      <td>141.0</td>\n",
              "    </tr>\n",
              "    <tr>\n",
              "      <th>3</th>\n",
              "      <td>42474</td>\n",
              "      <td>А путь пользователя почему-то выглядит так. Ко...</td>\n",
              "      <td>42.0</td>\n",
              "    </tr>\n",
              "    <tr>\n",
              "      <th>4</th>\n",
              "      <td>42475</td>\n",
              "      <td>Опять он</td>\n",
              "      <td>197.0</td>\n",
              "    </tr>\n",
              "    <tr>\n",
              "      <th>...</th>\n",
              "      <td>...</td>\n",
              "      <td>...</td>\n",
              "      <td>...</td>\n",
              "    </tr>\n",
              "    <tr>\n",
              "      <th>3675</th>\n",
              "      <td>46400</td>\n",
              "      <td>Напишу им, спасибо.</td>\n",
              "      <td>117.0</td>\n",
              "    </tr>\n",
              "    <tr>\n",
              "      <th>3676</th>\n",
              "      <td>46401</td>\n",
              "      <td>Старые профили не удаляются, номер на который ...</td>\n",
              "      <td>117.0</td>\n",
              "    </tr>\n",
              "    <tr>\n",
              "      <th>3677</th>\n",
              "      <td>46402</td>\n",
              "      <td>Пишите оператору (позовите пожалуйста оператор...</td>\n",
              "      <td>248.0</td>\n",
              "    </tr>\n",
              "    <tr>\n",
              "      <th>3678</th>\n",
              "      <td>46403</td>\n",
              "      <td>Отлично! Благодарю.</td>\n",
              "      <td>248.0</td>\n",
              "    </tr>\n",
              "    <tr>\n",
              "      <th>3679</th>\n",
              "      <td>46405</td>\n",
              "      <td>Да там часто отвечает бот, поэтому надо добить...</td>\n",
              "      <td>248.0</td>\n",
              "    </tr>\n",
              "  </tbody>\n",
              "</table>\n",
              "<p>3680 rows × 3 columns</p>\n",
              "</div>"
            ],
            "text/plain": [
              "      message_id                                               text  n_claster\n",
              "0          42471  [Доброе утро, люди! Это ОК, в РСЯ алгоритмы вы...       42.0\n",
              "1          42472  А вот регионы, в которых живут ITшники с интер...        NaN\n",
              "2          42473  Если смотреть по интересам, то кажется, что ау...      141.0\n",
              "3          42474  А путь пользователя почему-то выглядит так. Ко...       42.0\n",
              "4          42475                                           Опять он      197.0\n",
              "...          ...                                                ...        ...\n",
              "3675       46400                                Напишу им, спасибо.      117.0\n",
              "3676       46401  Старые профили не удаляются, номер на который ...      117.0\n",
              "3677       46402  Пишите оператору (позовите пожалуйста оператор...      248.0\n",
              "3678       46403                                Отлично! Благодарю.      248.0\n",
              "3679       46405  Да там часто отвечает бот, поэтому надо добить...      248.0\n",
              "\n",
              "[3680 rows x 3 columns]"
            ]
          },
          "execution_count": 52,
          "metadata": {},
          "output_type": "execute_result"
        }
      ],
      "source": [
        "# Создаем словарь для быстрого поиска кластера по message_id\n",
        "cluster_mapping = {}\n",
        "for cluster_idx, cluster in enumerate(sorted_result):\n",
        "    for message_id in cluster:\n",
        "        cluster_mapping[float(message_id)] = cluster_idx  # преобразуем np.float64 в float\n",
        "\n",
        "# Заполняем столбец n_claster\n",
        "df_clast.loc[:, 'n_claster'] = df_clast['message_id'].map(cluster_mapping)\n",
        "\n",
        "# Если какие-то message_id не найдены в кластерах, они останутся NaN\n",
        "df_clast"
      ]
    },
    {
      "cell_type": "code",
      "execution_count": 53,
      "metadata": {
        "colab": {
          "base_uri": "https://localhost:8080/"
        },
        "id": "3d_LPfHVdB7e",
        "outputId": "14dc14b3-76d5-4989-f87f-63c4a58cb231"
      },
      "outputs": [
        {
          "data": {
            "text/plain": [
              "51"
            ]
          },
          "execution_count": 53,
          "metadata": {},
          "output_type": "execute_result"
        }
      ],
      "source": [
        "# проверка\n",
        "len(df_clast.query('n_claster == 9'))"
      ]
    },
    {
      "cell_type": "code",
      "execution_count": 54,
      "metadata": {
        "colab": {
          "base_uri": "https://localhost:8080/"
        },
        "collapsed": true,
        "id": "VC-SC8mIO127",
        "outputId": "e6237542-3b46-493f-c274-411aef091a64"
      },
      "outputs": [
        {
          "name": "stdout",
          "output_type": "stream",
          "text": [
            "Количество сообщений в диалоге  51\n"
          ]
        }
      ],
      "source": [
        "cluster_10 = df.loc[df['message_id'].isin(sorted_result[9]), 'text']#.tolist()\n",
        "print('Количество сообщений в диалоге ', len(cluster_10))"
      ]
    },
    {
      "cell_type": "markdown",
      "metadata": {
        "id": "3QU_4LHDpzL3"
      },
      "source": [
        "### Столбец с количеством сообщений в кластере"
      ]
    },
    {
      "cell_type": "code",
      "execution_count": 55,
      "metadata": {
        "colab": {
          "base_uri": "https://localhost:8080/",
          "height": 423
        },
        "id": "6YeG21ApO6V5",
        "outputId": "b078fbe5-b9a8-46a5-e862-f2b4b283118e"
      },
      "outputs": [
        {
          "data": {
            "text/html": [
              "<div>\n",
              "<style scoped>\n",
              "    .dataframe tbody tr th:only-of-type {\n",
              "        vertical-align: middle;\n",
              "    }\n",
              "\n",
              "    .dataframe tbody tr th {\n",
              "        vertical-align: top;\n",
              "    }\n",
              "\n",
              "    .dataframe thead th {\n",
              "        text-align: right;\n",
              "    }\n",
              "</style>\n",
              "<table border=\"1\" class=\"dataframe\">\n",
              "  <thead>\n",
              "    <tr style=\"text-align: right;\">\n",
              "      <th></th>\n",
              "      <th>message_id</th>\n",
              "      <th>text</th>\n",
              "      <th>n_claster</th>\n",
              "      <th>cluster_size</th>\n",
              "    </tr>\n",
              "  </thead>\n",
              "  <tbody>\n",
              "    <tr>\n",
              "      <th>0</th>\n",
              "      <td>42471</td>\n",
              "      <td>[Доброе утро, люди! Это ОК, в РСЯ алгоритмы вы...</td>\n",
              "      <td>42.0</td>\n",
              "      <td>23.0</td>\n",
              "    </tr>\n",
              "    <tr>\n",
              "      <th>1</th>\n",
              "      <td>42472</td>\n",
              "      <td>А вот регионы, в которых живут ITшники с интер...</td>\n",
              "      <td>NaN</td>\n",
              "      <td>NaN</td>\n",
              "    </tr>\n",
              "    <tr>\n",
              "      <th>2</th>\n",
              "      <td>42473</td>\n",
              "      <td>Если смотреть по интересам, то кажется, что ау...</td>\n",
              "      <td>141.0</td>\n",
              "      <td>5.0</td>\n",
              "    </tr>\n",
              "    <tr>\n",
              "      <th>3</th>\n",
              "      <td>42474</td>\n",
              "      <td>А путь пользователя почему-то выглядит так. Ко...</td>\n",
              "      <td>42.0</td>\n",
              "      <td>23.0</td>\n",
              "    </tr>\n",
              "    <tr>\n",
              "      <th>4</th>\n",
              "      <td>42475</td>\n",
              "      <td>Опять он</td>\n",
              "      <td>197.0</td>\n",
              "      <td>3.0</td>\n",
              "    </tr>\n",
              "    <tr>\n",
              "      <th>...</th>\n",
              "      <td>...</td>\n",
              "      <td>...</td>\n",
              "      <td>...</td>\n",
              "      <td>...</td>\n",
              "    </tr>\n",
              "    <tr>\n",
              "      <th>3675</th>\n",
              "      <td>46400</td>\n",
              "      <td>Напишу им, спасибо.</td>\n",
              "      <td>117.0</td>\n",
              "      <td>8.0</td>\n",
              "    </tr>\n",
              "    <tr>\n",
              "      <th>3676</th>\n",
              "      <td>46401</td>\n",
              "      <td>Старые профили не удаляются, номер на который ...</td>\n",
              "      <td>117.0</td>\n",
              "      <td>8.0</td>\n",
              "    </tr>\n",
              "    <tr>\n",
              "      <th>3677</th>\n",
              "      <td>46402</td>\n",
              "      <td>Пишите оператору (позовите пожалуйста оператор...</td>\n",
              "      <td>248.0</td>\n",
              "      <td>3.0</td>\n",
              "    </tr>\n",
              "    <tr>\n",
              "      <th>3678</th>\n",
              "      <td>46403</td>\n",
              "      <td>Отлично! Благодарю.</td>\n",
              "      <td>248.0</td>\n",
              "      <td>3.0</td>\n",
              "    </tr>\n",
              "    <tr>\n",
              "      <th>3679</th>\n",
              "      <td>46405</td>\n",
              "      <td>Да там часто отвечает бот, поэтому надо добить...</td>\n",
              "      <td>248.0</td>\n",
              "      <td>3.0</td>\n",
              "    </tr>\n",
              "  </tbody>\n",
              "</table>\n",
              "<p>3680 rows × 4 columns</p>\n",
              "</div>"
            ],
            "text/plain": [
              "      message_id                                               text  \\\n",
              "0          42471  [Доброе утро, люди! Это ОК, в РСЯ алгоритмы вы...   \n",
              "1          42472  А вот регионы, в которых живут ITшники с интер...   \n",
              "2          42473  Если смотреть по интересам, то кажется, что ау...   \n",
              "3          42474  А путь пользователя почему-то выглядит так. Ко...   \n",
              "4          42475                                           Опять он   \n",
              "...          ...                                                ...   \n",
              "3675       46400                                Напишу им, спасибо.   \n",
              "3676       46401  Старые профили не удаляются, номер на который ...   \n",
              "3677       46402  Пишите оператору (позовите пожалуйста оператор...   \n",
              "3678       46403                                Отлично! Благодарю.   \n",
              "3679       46405  Да там часто отвечает бот, поэтому надо добить...   \n",
              "\n",
              "      n_claster  cluster_size  \n",
              "0          42.0          23.0  \n",
              "1           NaN           NaN  \n",
              "2         141.0           5.0  \n",
              "3          42.0          23.0  \n",
              "4         197.0           3.0  \n",
              "...         ...           ...  \n",
              "3675      117.0           8.0  \n",
              "3676      117.0           8.0  \n",
              "3677      248.0           3.0  \n",
              "3678      248.0           3.0  \n",
              "3679      248.0           3.0  \n",
              "\n",
              "[3680 rows x 4 columns]"
            ]
          },
          "execution_count": 55,
          "metadata": {},
          "output_type": "execute_result"
        }
      ],
      "source": [
        "# Создаем и добавляем столбец с размерами кластеров\n",
        "cluster_sizes = {i: len(cluster) for i, cluster in enumerate(sorted_result)}\n",
        "df_clast.loc[:, 'cluster_size'] = df_clast['n_claster'].map(cluster_sizes)\n",
        "df_clast"
      ]
    },
    {
      "cell_type": "markdown",
      "metadata": {
        "id": "B2K-yVhfvxY7"
      },
      "source": [
        "### Столбец с количеством связей у сообщения"
      ]
    },
    {
      "cell_type": "code",
      "execution_count": 56,
      "metadata": {
        "colab": {
          "base_uri": "https://localhost:8080/",
          "height": 423
        },
        "id": "79HOMROontAr",
        "outputId": "5ad4c371-d7ab-454b-ad50-bb6913405605"
      },
      "outputs": [
        {
          "data": {
            "text/html": [
              "<div>\n",
              "<style scoped>\n",
              "    .dataframe tbody tr th:only-of-type {\n",
              "        vertical-align: middle;\n",
              "    }\n",
              "\n",
              "    .dataframe tbody tr th {\n",
              "        vertical-align: top;\n",
              "    }\n",
              "\n",
              "    .dataframe thead th {\n",
              "        text-align: right;\n",
              "    }\n",
              "</style>\n",
              "<table border=\"1\" class=\"dataframe\">\n",
              "  <thead>\n",
              "    <tr style=\"text-align: right;\">\n",
              "      <th></th>\n",
              "      <th>one</th>\n",
              "      <th>two</th>\n",
              "    </tr>\n",
              "  </thead>\n",
              "  <tbody>\n",
              "    <tr>\n",
              "      <th>0</th>\n",
              "      <td>46405</td>\n",
              "      <td>46403.0</td>\n",
              "    </tr>\n",
              "    <tr>\n",
              "      <th>1</th>\n",
              "      <td>46403</td>\n",
              "      <td>46402.0</td>\n",
              "    </tr>\n",
              "    <tr>\n",
              "      <th>2</th>\n",
              "      <td>46401</td>\n",
              "      <td>46394.0</td>\n",
              "    </tr>\n",
              "    <tr>\n",
              "      <th>3</th>\n",
              "      <td>46398</td>\n",
              "      <td>46396.0</td>\n",
              "    </tr>\n",
              "    <tr>\n",
              "      <th>4</th>\n",
              "      <td>46396</td>\n",
              "      <td>46394.0</td>\n",
              "    </tr>\n",
              "    <tr>\n",
              "      <th>...</th>\n",
              "      <td>...</td>\n",
              "      <td>...</td>\n",
              "    </tr>\n",
              "    <tr>\n",
              "      <th>3765</th>\n",
              "      <td>46395</td>\n",
              "      <td>46396.0</td>\n",
              "    </tr>\n",
              "    <tr>\n",
              "      <th>3766</th>\n",
              "      <td>46396</td>\n",
              "      <td>46397.0</td>\n",
              "    </tr>\n",
              "    <tr>\n",
              "      <th>3767</th>\n",
              "      <td>46397</td>\n",
              "      <td>46398.0</td>\n",
              "    </tr>\n",
              "    <tr>\n",
              "      <th>3768</th>\n",
              "      <td>46398</td>\n",
              "      <td>46399.0</td>\n",
              "    </tr>\n",
              "    <tr>\n",
              "      <th>3769</th>\n",
              "      <td>46399</td>\n",
              "      <td>46400.0</td>\n",
              "    </tr>\n",
              "  </tbody>\n",
              "</table>\n",
              "<p>3770 rows × 2 columns</p>\n",
              "</div>"
            ],
            "text/plain": [
              "        one      two\n",
              "0     46405  46403.0\n",
              "1     46403  46402.0\n",
              "2     46401  46394.0\n",
              "3     46398  46396.0\n",
              "4     46396  46394.0\n",
              "...     ...      ...\n",
              "3765  46395  46396.0\n",
              "3766  46396  46397.0\n",
              "3767  46397  46398.0\n",
              "3768  46398  46399.0\n",
              "3769  46399  46400.0\n",
              "\n",
              "[3770 rows x 2 columns]"
            ]
          },
          "execution_count": 56,
          "metadata": {},
          "output_type": "execute_result"
        }
      ],
      "source": [
        "para"
      ]
    },
    {
      "cell_type": "code",
      "execution_count": 57,
      "metadata": {
        "id": "PWcpOAPTvlfU"
      },
      "outputs": [],
      "source": [
        "# Считаем вхождения каждого ID в обоих столбцах\n",
        "counts_one = para['one'].value_counts()\n",
        "counts_two = para['two'].value_counts()\n",
        "\n",
        "# Объединяем счетчики (складываем значения для одинаковых ID)\n",
        "total_counts = counts_one.add(counts_two, fill_value=0).astype(int)\n",
        "\n",
        "# Добавляем новый столбец в исходный датафрейм\n",
        "para['connection_count'] = para['one'].map(total_counts)"
      ]
    },
    {
      "cell_type": "code",
      "execution_count": 58,
      "metadata": {
        "colab": {
          "base_uri": "https://localhost:8080/",
          "height": 423
        },
        "id": "Cb0X_Mizvmw7",
        "outputId": "ccfe0766-e26a-4aed-aad3-53ba0494468f"
      },
      "outputs": [
        {
          "data": {
            "text/html": [
              "<div>\n",
              "<style scoped>\n",
              "    .dataframe tbody tr th:only-of-type {\n",
              "        vertical-align: middle;\n",
              "    }\n",
              "\n",
              "    .dataframe tbody tr th {\n",
              "        vertical-align: top;\n",
              "    }\n",
              "\n",
              "    .dataframe thead th {\n",
              "        text-align: right;\n",
              "    }\n",
              "</style>\n",
              "<table border=\"1\" class=\"dataframe\">\n",
              "  <thead>\n",
              "    <tr style=\"text-align: right;\">\n",
              "      <th></th>\n",
              "      <th>one</th>\n",
              "      <th>two</th>\n",
              "      <th>connection_count</th>\n",
              "    </tr>\n",
              "  </thead>\n",
              "  <tbody>\n",
              "    <tr>\n",
              "      <th>0</th>\n",
              "      <td>46405</td>\n",
              "      <td>46403.0</td>\n",
              "      <td>1</td>\n",
              "    </tr>\n",
              "    <tr>\n",
              "      <th>1</th>\n",
              "      <td>46403</td>\n",
              "      <td>46402.0</td>\n",
              "      <td>2</td>\n",
              "    </tr>\n",
              "    <tr>\n",
              "      <th>2</th>\n",
              "      <td>46401</td>\n",
              "      <td>46394.0</td>\n",
              "      <td>1</td>\n",
              "    </tr>\n",
              "    <tr>\n",
              "      <th>3</th>\n",
              "      <td>46398</td>\n",
              "      <td>46396.0</td>\n",
              "      <td>3</td>\n",
              "    </tr>\n",
              "    <tr>\n",
              "      <th>4</th>\n",
              "      <td>46396</td>\n",
              "      <td>46394.0</td>\n",
              "      <td>4</td>\n",
              "    </tr>\n",
              "    <tr>\n",
              "      <th>...</th>\n",
              "      <td>...</td>\n",
              "      <td>...</td>\n",
              "      <td>...</td>\n",
              "    </tr>\n",
              "    <tr>\n",
              "      <th>3765</th>\n",
              "      <td>46395</td>\n",
              "      <td>46396.0</td>\n",
              "      <td>2</td>\n",
              "    </tr>\n",
              "    <tr>\n",
              "      <th>3766</th>\n",
              "      <td>46396</td>\n",
              "      <td>46397.0</td>\n",
              "      <td>4</td>\n",
              "    </tr>\n",
              "    <tr>\n",
              "      <th>3767</th>\n",
              "      <td>46397</td>\n",
              "      <td>46398.0</td>\n",
              "      <td>2</td>\n",
              "    </tr>\n",
              "    <tr>\n",
              "      <th>3768</th>\n",
              "      <td>46398</td>\n",
              "      <td>46399.0</td>\n",
              "      <td>3</td>\n",
              "    </tr>\n",
              "    <tr>\n",
              "      <th>3769</th>\n",
              "      <td>46399</td>\n",
              "      <td>46400.0</td>\n",
              "      <td>2</td>\n",
              "    </tr>\n",
              "  </tbody>\n",
              "</table>\n",
              "<p>3770 rows × 3 columns</p>\n",
              "</div>"
            ],
            "text/plain": [
              "        one      two  connection_count\n",
              "0     46405  46403.0                 1\n",
              "1     46403  46402.0                 2\n",
              "2     46401  46394.0                 1\n",
              "3     46398  46396.0                 3\n",
              "4     46396  46394.0                 4\n",
              "...     ...      ...               ...\n",
              "3765  46395  46396.0                 2\n",
              "3766  46396  46397.0                 4\n",
              "3767  46397  46398.0                 2\n",
              "3768  46398  46399.0                 3\n",
              "3769  46399  46400.0                 2\n",
              "\n",
              "[3770 rows x 3 columns]"
            ]
          },
          "execution_count": 58,
          "metadata": {},
          "output_type": "execute_result"
        }
      ],
      "source": [
        "para"
      ]
    },
    {
      "cell_type": "code",
      "execution_count": 59,
      "metadata": {
        "colab": {
          "base_uri": "https://localhost:8080/",
          "height": 423
        },
        "id": "KOsSFS56ns92",
        "outputId": "599dd14c-d698-4926-ee08-09a7da392de7"
      },
      "outputs": [
        {
          "data": {
            "text/html": [
              "<div>\n",
              "<style scoped>\n",
              "    .dataframe tbody tr th:only-of-type {\n",
              "        vertical-align: middle;\n",
              "    }\n",
              "\n",
              "    .dataframe tbody tr th {\n",
              "        vertical-align: top;\n",
              "    }\n",
              "\n",
              "    .dataframe thead th {\n",
              "        text-align: right;\n",
              "    }\n",
              "</style>\n",
              "<table border=\"1\" class=\"dataframe\">\n",
              "  <thead>\n",
              "    <tr style=\"text-align: right;\">\n",
              "      <th></th>\n",
              "      <th>message_id</th>\n",
              "      <th>text</th>\n",
              "      <th>n_claster</th>\n",
              "      <th>cluster_size</th>\n",
              "      <th>connection_count</th>\n",
              "    </tr>\n",
              "  </thead>\n",
              "  <tbody>\n",
              "    <tr>\n",
              "      <th>0</th>\n",
              "      <td>42471</td>\n",
              "      <td>[Доброе утро, люди! Это ОК, в РСЯ алгоритмы вы...</td>\n",
              "      <td>42.0</td>\n",
              "      <td>23.0</td>\n",
              "      <td>2.0</td>\n",
              "    </tr>\n",
              "    <tr>\n",
              "      <th>1</th>\n",
              "      <td>42472</td>\n",
              "      <td>А вот регионы, в которых живут ITшники с интер...</td>\n",
              "      <td>NaN</td>\n",
              "      <td>NaN</td>\n",
              "      <td>NaN</td>\n",
              "    </tr>\n",
              "    <tr>\n",
              "      <th>2</th>\n",
              "      <td>42473</td>\n",
              "      <td>Если смотреть по интересам, то кажется, что ау...</td>\n",
              "      <td>141.0</td>\n",
              "      <td>5.0</td>\n",
              "      <td>1.0</td>\n",
              "    </tr>\n",
              "    <tr>\n",
              "      <th>3</th>\n",
              "      <td>42474</td>\n",
              "      <td>А путь пользователя почему-то выглядит так. Ко...</td>\n",
              "      <td>42.0</td>\n",
              "      <td>23.0</td>\n",
              "      <td>1.0</td>\n",
              "    </tr>\n",
              "    <tr>\n",
              "      <th>4</th>\n",
              "      <td>42475</td>\n",
              "      <td>Опять он</td>\n",
              "      <td>197.0</td>\n",
              "      <td>3.0</td>\n",
              "      <td>2.0</td>\n",
              "    </tr>\n",
              "    <tr>\n",
              "      <th>...</th>\n",
              "      <td>...</td>\n",
              "      <td>...</td>\n",
              "      <td>...</td>\n",
              "      <td>...</td>\n",
              "      <td>...</td>\n",
              "    </tr>\n",
              "    <tr>\n",
              "      <th>3675</th>\n",
              "      <td>46400</td>\n",
              "      <td>Напишу им, спасибо.</td>\n",
              "      <td>117.0</td>\n",
              "      <td>8.0</td>\n",
              "      <td>1.0</td>\n",
              "    </tr>\n",
              "    <tr>\n",
              "      <th>3676</th>\n",
              "      <td>46401</td>\n",
              "      <td>Старые профили не удаляются, номер на который ...</td>\n",
              "      <td>117.0</td>\n",
              "      <td>8.0</td>\n",
              "      <td>1.0</td>\n",
              "    </tr>\n",
              "    <tr>\n",
              "      <th>3677</th>\n",
              "      <td>46402</td>\n",
              "      <td>Пишите оператору (позовите пожалуйста оператор...</td>\n",
              "      <td>248.0</td>\n",
              "      <td>3.0</td>\n",
              "      <td>1.0</td>\n",
              "    </tr>\n",
              "    <tr>\n",
              "      <th>3678</th>\n",
              "      <td>46403</td>\n",
              "      <td>Отлично! Благодарю.</td>\n",
              "      <td>248.0</td>\n",
              "      <td>3.0</td>\n",
              "      <td>2.0</td>\n",
              "    </tr>\n",
              "    <tr>\n",
              "      <th>3679</th>\n",
              "      <td>46405</td>\n",
              "      <td>Да там часто отвечает бот, поэтому надо добить...</td>\n",
              "      <td>248.0</td>\n",
              "      <td>3.0</td>\n",
              "      <td>1.0</td>\n",
              "    </tr>\n",
              "  </tbody>\n",
              "</table>\n",
              "<p>3680 rows × 5 columns</p>\n",
              "</div>"
            ],
            "text/plain": [
              "      message_id                                               text  \\\n",
              "0          42471  [Доброе утро, люди! Это ОК, в РСЯ алгоритмы вы...   \n",
              "1          42472  А вот регионы, в которых живут ITшники с интер...   \n",
              "2          42473  Если смотреть по интересам, то кажется, что ау...   \n",
              "3          42474  А путь пользователя почему-то выглядит так. Ко...   \n",
              "4          42475                                           Опять он   \n",
              "...          ...                                                ...   \n",
              "3675       46400                                Напишу им, спасибо.   \n",
              "3676       46401  Старые профили не удаляются, номер на который ...   \n",
              "3677       46402  Пишите оператору (позовите пожалуйста оператор...   \n",
              "3678       46403                                Отлично! Благодарю.   \n",
              "3679       46405  Да там часто отвечает бот, поэтому надо добить...   \n",
              "\n",
              "      n_claster  cluster_size  connection_count  \n",
              "0          42.0          23.0               2.0  \n",
              "1           NaN           NaN               NaN  \n",
              "2         141.0           5.0               1.0  \n",
              "3          42.0          23.0               1.0  \n",
              "4         197.0           3.0               2.0  \n",
              "...         ...           ...               ...  \n",
              "3675      117.0           8.0               1.0  \n",
              "3676      117.0           8.0               1.0  \n",
              "3677      248.0           3.0               1.0  \n",
              "3678      248.0           3.0               2.0  \n",
              "3679      248.0           3.0               1.0  \n",
              "\n",
              "[3680 rows x 5 columns]"
            ]
          },
          "execution_count": 59,
          "metadata": {},
          "output_type": "execute_result"
        }
      ],
      "source": [
        "# Добавляем счетчик связей в df_clast\n",
        "df_clast.loc[:,'connection_count'] = df_clast['message_id'].map(total_counts)\n",
        "df_clast"
      ]
    },
    {
      "cell_type": "code",
      "execution_count": 60,
      "metadata": {
        "colab": {
          "base_uri": "https://localhost:8080/",
          "height": 448
        },
        "id": "viCYVWkfns7Z",
        "outputId": "e3e0ba46-a4b9-4f85-bc73-ac3ca058bb70"
      },
      "outputs": [
        {
          "data": {
            "text/plain": [
              "<Axes: >"
            ]
          },
          "execution_count": 60,
          "metadata": {},
          "output_type": "execute_result"
        },
        {
          "data": {
            "image/png": "[encoded data removed]",
            "text/plain": [
              "<Figure size 640x480 with 1 Axes>"
            ]
          },
          "metadata": {},
          "output_type": "display_data"
        }
      ],
      "source": [
        "df_clast['connection_count'].hist()"
      ]
    },
    {
      "cell_type": "code",
      "execution_count": 61,
      "metadata": {
        "colab": {
          "base_uri": "https://localhost:8080/"
        },
        "id": "YTxB2xEfns2X",
        "outputId": "73cacf9a-bbdb-4bd3-d2ef-2a2c1e258d3d"
      },
      "outputs": [
        {
          "data": {
            "text/plain": [
              "509    Ребят, привет!\\n\\nМожет кто знает, участвовал ...\n",
              "512    Интересно. А в чем собственно сложность? Слишк...\n",
              "583      Привет, Влад. Предлагаю самим запустить хакатон\n",
              "586                                    Хахатон запустите\n",
              "587      Запускаю, кручу верчу, запутать хочу хахахаха 😀\n",
              "588                      Ахалай Махалай Ляськи Масяськи?\n",
              "589            И если не дунуть - то чуда не произойдет?\n",
              "591                                    Крутите барабан 😁\n",
              "596    [{'type': 'bold', 'text': '⚡️ Kingdom Come: De...\n",
              "599    Первая часть была супер, уверен, вторая тоже с...\n",
              "600    На рутьюбе ща даже конкурс по ворлд оф тенкс, ...\n",
              "601                          Спасибо тебе мил человек 🙌🏻\n",
              "602                          Но это прям зашквар же жуть\n",
              "799                                          Скачал блин\n",
              "803    Так, а зачем ты решил ее себе поставить? Пока ...\n",
              "806                                       Кого? Игрушку?\n",
              "807    Блин, я думал ты решил китайскую нейросетку у ...\n",
              "808                                                 Ахах\n",
              "812    Чтобы средневековым дамам читать поэмы и отруб...\n",
              "816    Ну вот чего тебя потянуло на это не понимаю, п...\n",
              "817                             Я уже два раза проходил.\n",
              "818                                          Новые обои?\n",
              "819    Ну или Скайрим поставить, точно такого не буде...\n",
              "820                         Тоже уже давно, неинтересно.\n",
              "821                                                     \n",
              "822                                                Ахаха\n",
              "823                                                     \n",
              "825             Что мне нужно лицензию Скайрима заиметь.\n",
              "826                                                     \n",
              "827                                                     \n",
              "829                                                     \n",
              "831                                                     \n",
              "833                                                     \n",
              "834                                                     \n",
              "835                          В общем идеальный стикерпак\n",
              "836                                             Согласен\n",
              "837         Нет, ты правда думаешь кто-то будет слушать?\n",
              "838    Хорошо, что у меня всегда в рюкзаке с собой фл...\n",
              "839                                                   Да\n",
              "840                                        Со Скайримом?\n",
              "841                                                Квэк4\n",
              "843    Одна с виндой вторая с ведьмаком, третья со Ск...\n",
              "844                                                     \n",
              "846        Шутки в сторону, че там в стиме за нее просят\n",
              "847                           Ты знаешь, я бы посмотрел.\n",
              "848                                                     \n",
              "850    Может быть моник у тебя недостаточно широкофор...\n",
              "851    Ты тоже хочешь читать сонеты дамам и отрубать ...\n",
              "854    Можно я просто буду вести себя как в Ведьмаке ...\n",
              "855                                 Там всем всем нельзя\n",
              "856                                       Я про монитор.\n",
              "857    Уговорил, не буду брать пока моды не сделают н...\n",
              "859                                             Ганметал\n",
              "861        Зачем тебе девушка, если у тебя есть Скайрим.\n",
              "Name: text, dtype: object"
            ]
          },
          "execution_count": 61,
          "metadata": {},
          "output_type": "execute_result"
        }
      ],
      "source": [
        "df_clast.query('n_claster == 1 & connection_count > 2')['text']"
      ]
    },
    {
      "cell_type": "code",
      "execution_count": 62,
      "metadata": {
        "id": "43nifQEnnszj",
        "outputId": "5d649ce1-47d6-449c-b21c-d6026b370584"
      },
      "outputs": [
        {
          "name": "stdout",
          "output_type": "stream",
          "text": [
            "Игры (Kingdom Come: Deliverance 2, Skyrim)\n"
          ]
        }
      ],
      "source": [
        "filtered_messages = df_clast.query('n_claster == 1 & connection_count > 2')['text']\n",
        "messages = \"\\n\".join([str(msg) if not isinstance(msg, str) else msg for msg in filtered_messages])\n",
        "\n",
        "prompt = f\"\"\"\n",
        "Проанализируй следующие сообщения из одного кластера и определи основную тему диалога.\n",
        "Сообщения должны иметь общую тематику, так как они попали в один кластер. Напиши только основную тему. Без пояснений.\n",
        "\n",
        "Сообщения:\n",
        "{messages}\n",
        "\n",
        "Основная тема диалога:\n",
        "\"\"\"\n",
        "\n",
        "response = ollama.generate(model=\"llama3:8b\", prompt=prompt)\n",
        "print(response['response'])"
      ]
    },
    {
      "cell_type": "code",
      "execution_count": 63,
      "metadata": {
        "id": "qgro2h0ASKAf",
        "outputId": "ab27242e-be5b-47e4-fd51-93cd2ba3bd35"
      },
      "outputs": [
        {
          "data": {
            "text/html": [
              "<div>\n",
              "<style scoped>\n",
              "    .dataframe tbody tr th:only-of-type {\n",
              "        vertical-align: middle;\n",
              "    }\n",
              "\n",
              "    .dataframe tbody tr th {\n",
              "        vertical-align: top;\n",
              "    }\n",
              "\n",
              "    .dataframe thead th {\n",
              "        text-align: right;\n",
              "    }\n",
              "</style>\n",
              "<table border=\"1\" class=\"dataframe\">\n",
              "  <thead>\n",
              "    <tr style=\"text-align: right;\">\n",
              "      <th></th>\n",
              "      <th>message_id</th>\n",
              "      <th>text</th>\n",
              "      <th>n_claster</th>\n",
              "      <th>cluster_size</th>\n",
              "      <th>connection_count</th>\n",
              "    </tr>\n",
              "  </thead>\n",
              "  <tbody>\n",
              "    <tr>\n",
              "      <th>6</th>\n",
              "      <td>42477</td>\n",
              "      <td>Потому и выбрал</td>\n",
              "      <td>141.0</td>\n",
              "      <td>5.0</td>\n",
              "      <td>3.0</td>\n",
              "    </tr>\n",
              "    <tr>\n",
              "      <th>11</th>\n",
              "      <td>42482</td>\n",
              "      <td>Что такое Яндекс Игры? Я вот сижу, работаю, пр...</td>\n",
              "      <td>42.0</td>\n",
              "      <td>23.0</td>\n",
              "      <td>3.0</td>\n",
              "    </tr>\n",
              "    <tr>\n",
              "      <th>15</th>\n",
              "      <td>42487</td>\n",
              "      <td>Ок. А как тогда получается, что пользователь о...</td>\n",
              "      <td>42.0</td>\n",
              "      <td>23.0</td>\n",
              "      <td>3.0</td>\n",
              "    </tr>\n",
              "    <tr>\n",
              "      <th>16</th>\n",
              "      <td>42488</td>\n",
              "      <td>В смысле?</td>\n",
              "      <td>42.0</td>\n",
              "      <td>23.0</td>\n",
              "      <td>3.0</td>\n",
              "    </tr>\n",
              "    <tr>\n",
              "      <th>19</th>\n",
              "      <td>42491</td>\n",
              "      <td>Если Яндекс Игры открыли для ребенка на телефо...</td>\n",
              "      <td>42.0</td>\n",
              "      <td>23.0</td>\n",
              "      <td>3.0</td>\n",
              "    </tr>\n",
              "    <tr>\n",
              "      <th>...</th>\n",
              "      <td>...</td>\n",
              "      <td>...</td>\n",
              "      <td>...</td>\n",
              "      <td>...</td>\n",
              "      <td>...</td>\n",
              "    </tr>\n",
              "    <tr>\n",
              "      <th>3661</th>\n",
              "      <td>46385</td>\n",
              "      <td>Можно. Буду благодарен. Освою что-То новое.</td>\n",
              "      <td>74.0</td>\n",
              "      <td>14.0</td>\n",
              "      <td>5.0</td>\n",
              "    </tr>\n",
              "    <tr>\n",
              "      <th>3662</th>\n",
              "      <td>46386</td>\n",
              "      <td>Только тг аккаунты и прокси сам покупай они та...</td>\n",
              "      <td>74.0</td>\n",
              "      <td>14.0</td>\n",
              "      <td>3.0</td>\n",
              "    </tr>\n",
              "    <tr>\n",
              "      <th>3669</th>\n",
              "      <td>46394</td>\n",
              "      <td>Коллеги, вопрос такой. У компании есть забытый...</td>\n",
              "      <td>117.0</td>\n",
              "      <td>8.0</td>\n",
              "      <td>3.0</td>\n",
              "    </tr>\n",
              "    <tr>\n",
              "      <th>3671</th>\n",
              "      <td>46396</td>\n",
              "      <td>Через поддержку вроде все</td>\n",
              "      <td>117.0</td>\n",
              "      <td>8.0</td>\n",
              "      <td>4.0</td>\n",
              "    </tr>\n",
              "    <tr>\n",
              "      <th>3673</th>\n",
              "      <td>46398</td>\n",
              "      <td>Да, мысль была такая.</td>\n",
              "      <td>117.0</td>\n",
              "      <td>8.0</td>\n",
              "      <td>3.0</td>\n",
              "    </tr>\n",
              "  </tbody>\n",
              "</table>\n",
              "<p>1186 rows × 5 columns</p>\n",
              "</div>"
            ],
            "text/plain": [
              "      message_id                                               text  \\\n",
              "6          42477                                    Потому и выбрал   \n",
              "11         42482  Что такое Яндекс Игры? Я вот сижу, работаю, пр...   \n",
              "15         42487  Ок. А как тогда получается, что пользователь о...   \n",
              "16         42488                                          В смысле?   \n",
              "19         42491  Если Яндекс Игры открыли для ребенка на телефо...   \n",
              "...          ...                                                ...   \n",
              "3661       46385        Можно. Буду благодарен. Освою что-То новое.   \n",
              "3662       46386  Только тг аккаунты и прокси сам покупай они та...   \n",
              "3669       46394  Коллеги, вопрос такой. У компании есть забытый...   \n",
              "3671       46396                          Через поддержку вроде все   \n",
              "3673       46398                              Да, мысль была такая.   \n",
              "\n",
              "      n_claster  cluster_size  connection_count  \n",
              "6         141.0           5.0               3.0  \n",
              "11         42.0          23.0               3.0  \n",
              "15         42.0          23.0               3.0  \n",
              "16         42.0          23.0               3.0  \n",
              "19         42.0          23.0               3.0  \n",
              "...         ...           ...               ...  \n",
              "3661       74.0          14.0               5.0  \n",
              "3662       74.0          14.0               3.0  \n",
              "3669      117.0           8.0               3.0  \n",
              "3671      117.0           8.0               4.0  \n",
              "3673      117.0           8.0               3.0  \n",
              "\n",
              "[1186 rows x 5 columns]"
            ]
          },
          "execution_count": 63,
          "metadata": {},
          "output_type": "execute_result"
        }
      ],
      "source": [
        "df_clast_filtred = df_clast.query('connection_count > 2')\n",
        "df_clast_filtred"
      ]
    },
    {
      "cell_type": "code",
      "execution_count": 65,
      "metadata": {
        "id": "qjWrCVyASKAf"
      },
      "outputs": [],
      "source": [
        "clusters = df_clast_filtred.groupby('n_claster')['text'].apply(list).reset_index()"
      ]
    },
    {
      "cell_type": "code",
      "execution_count": 66,
      "metadata": {
        "id": "3SQyoR-mSKAf",
        "outputId": "2ad97643-599f-4914-a040-393ba7b0ad5b"
      },
      "outputs": [
        {
          "data": {
            "text/html": [
              "<div>\n",
              "<style scoped>\n",
              "    .dataframe tbody tr th:only-of-type {\n",
              "        vertical-align: middle;\n",
              "    }\n",
              "\n",
              "    .dataframe tbody tr th {\n",
              "        vertical-align: top;\n",
              "    }\n",
              "\n",
              "    .dataframe thead th {\n",
              "        text-align: right;\n",
              "    }\n",
              "</style>\n",
              "<table border=\"1\" class=\"dataframe\">\n",
              "  <thead>\n",
              "    <tr style=\"text-align: right;\">\n",
              "      <th></th>\n",
              "      <th>n_claster</th>\n",
              "      <th>text</th>\n",
              "    </tr>\n",
              "  </thead>\n",
              "  <tbody>\n",
              "    <tr>\n",
              "      <th>0</th>\n",
              "      <td>0.0</td>\n",
              "      <td>[Коллеги, добры день, за советом. \\nВзяли РК, ...</td>\n",
              "    </tr>\n",
              "    <tr>\n",
              "      <th>1</th>\n",
              "      <td>1.0</td>\n",
              "      <td>[Ребят, привет!\\n\\nМожет кто знает, участвовал...</td>\n",
              "    </tr>\n",
              "    <tr>\n",
              "      <th>2</th>\n",
              "      <td>2.0</td>\n",
              "      <td>[А пока я одну расскажу\\n\\nРоскомнадзор будет ...</td>\n",
              "    </tr>\n",
              "    <tr>\n",
              "      <th>3</th>\n",
              "      <td>3.0</td>\n",
              "      <td>[, Чувствую этот запах), Как будто там огонь п...</td>\n",
              "    </tr>\n",
              "    <tr>\n",
              "      <th>4</th>\n",
              "      <td>4.0</td>\n",
              "      <td>[Правило действительно хорошее, думаю последую...</td>\n",
              "    </tr>\n",
              "    <tr>\n",
              "      <th>...</th>\n",
              "      <td>...</td>\n",
              "      <td>...</td>\n",
              "    </tr>\n",
              "    <tr>\n",
              "      <th>162</th>\n",
              "      <td>207.0</td>\n",
              "      <td>[Тут надо аккуратней силы рассчитывать, а то к...</td>\n",
              "    </tr>\n",
              "    <tr>\n",
              "      <th>163</th>\n",
              "      <td>208.0</td>\n",
              "      <td>[То есть половина данных потеряется, а может и...</td>\n",
              "    </tr>\n",
              "    <tr>\n",
              "      <th>164</th>\n",
              "      <td>213.0</td>\n",
              "      <td>[Хочешь отучиться?]</td>\n",
              "    </tr>\n",
              "    <tr>\n",
              "      <th>165</th>\n",
              "      <td>222.0</td>\n",
              "      <td>[Площадку добавляли (вк) или она сама туда поп...</td>\n",
              "    </tr>\n",
              "    <tr>\n",
              "      <th>166</th>\n",
              "      <td>244.0</td>\n",
              "      <td>[Спасибо. Посмотрю)]</td>\n",
              "    </tr>\n",
              "  </tbody>\n",
              "</table>\n",
              "<p>167 rows × 2 columns</p>\n",
              "</div>"
            ],
            "text/plain": [
              "     n_claster                                               text\n",
              "0          0.0  [Коллеги, добры день, за советом. \\nВзяли РК, ...\n",
              "1          1.0  [Ребят, привет!\\n\\nМожет кто знает, участвовал...\n",
              "2          2.0  [А пока я одну расскажу\\n\\nРоскомнадзор будет ...\n",
              "3          3.0  [, Чувствую этот запах), Как будто там огонь п...\n",
              "4          4.0  [Правило действительно хорошее, думаю последую...\n",
              "..         ...                                                ...\n",
              "162      207.0  [Тут надо аккуратней силы рассчитывать, а то к...\n",
              "163      208.0  [То есть половина данных потеряется, а может и...\n",
              "164      213.0                                [Хочешь отучиться?]\n",
              "165      222.0  [Площадку добавляли (вк) или она сама туда поп...\n",
              "166      244.0                               [Спасибо. Посмотрю)]\n",
              "\n",
              "[167 rows x 2 columns]"
            ]
          },
          "execution_count": 66,
          "metadata": {},
          "output_type": "execute_result"
        }
      ],
      "source": [
        "clusters"
      ]
    },
    {
      "cell_type": "code",
      "execution_count": 62,
      "metadata": {
        "id": "qabI1rxJSKAf"
      },
      "outputs": [],
      "source": [
        "# 2. Определим функцию для получения темы от LLM\n",
        "def get_cluster_topic(messages):\n",
        "    # Преобразуем сообщения в строку, учитывая что они могут быть списками\n",
        "    if isinstance(messages, list):\n",
        "        # Если это список, соединяем все элементы\n",
        "        processed_text = ' '.join([str(item) if not isinstance(item, dict) else item.get('text', '') for item in messages])\n",
        "    else:\n",
        "        processed_text = str(messages)\n",
        "\n",
        "    prompt = f\"\"\"\n",
        "    Проанализируй следующие сообщения из одного кластера и определи основную тему диалога.\n",
        "    Сообщения должны иметь общую тематику, так как они попали в один кластер. Напиши только основную тему. Без пояснений.\n",
        "\n",
        "    Сообщения:\n",
        "    {processed_text}\n",
        "\n",
        "    Основная тема диалога:\n",
        "    \"\"\"\n",
        "\n",
        "    try:\n",
        "        response = ollama.generate(\n",
        "            model=\"llama3:8b\",\n",
        "            prompt=prompt,\n",
        "            options={'temperature': 0.3} # Для более консервативных ответов\n",
        "        )\n",
        "        return response['response'].strip()\n",
        "    except Exception as e:\n",
        "        print(f\"Ошибка для кластера: {e}\")\n",
        "        return \"Не определена\""
      ]
    },
    {
      "cell_type": "code",
      "execution_count": 63,
      "metadata": {},
      "outputs": [
        {
          "name": "stdout",
          "output_type": "stream",
          "text": [
            "1                      Игры (RPG)\n",
            "2    Роскомнадзор и киберразведка\n",
            "Name: text, dtype: object\n"
          ]
        }
      ],
      "source": [
        "clusters['text'].iloc[1:3]\n",
        "fff = clusters['text'].iloc[1:3].apply(get_cluster_topic)\n",
        "print(fff)"
      ]
    },
    {
      "cell_type": "code",
      "execution_count": 64,
      "metadata": {
        "id": "c_SKP_WmSKAg"
      },
      "outputs": [],
      "source": [
        "# 3. Получим темы для каждого кластера\n",
        "clusters['topic'] = clusters['text'].apply(get_cluster_topic)\n",
        "# 4. Объединим результаты с исходным датафреймом\n",
        "df_clast = df_clast.merge(\n",
        "    clusters[['n_claster', 'topic']],\n",
        "    on='n_claster',\n",
        "    how='left'\n",
        ")"
      ]
    },
    {
      "cell_type": "code",
      "execution_count": 65,
      "metadata": {},
      "outputs": [
        {
          "data": {
            "text/html": [
              "<div>\n",
              "<style scoped>\n",
              "    .dataframe tbody tr th:only-of-type {\n",
              "        vertical-align: middle;\n",
              "    }\n",
              "\n",
              "    .dataframe tbody tr th {\n",
              "        vertical-align: top;\n",
              "    }\n",
              "\n",
              "    .dataframe thead th {\n",
              "        text-align: right;\n",
              "    }\n",
              "</style>\n",
              "<table border=\"1\" class=\"dataframe\">\n",
              "  <thead>\n",
              "    <tr style=\"text-align: right;\">\n",
              "      <th></th>\n",
              "      <th>message_id</th>\n",
              "      <th>text</th>\n",
              "      <th>n_claster</th>\n",
              "      <th>cluster_size</th>\n",
              "      <th>connection_count</th>\n",
              "      <th>topic</th>\n",
              "    </tr>\n",
              "  </thead>\n",
              "  <tbody>\n",
              "    <tr>\n",
              "      <th>0</th>\n",
              "      <td>42471</td>\n",
              "      <td>[Доброе утро, люди! Это ОК, в РСЯ алгоритмы вы...</td>\n",
              "      <td>42.0</td>\n",
              "      <td>23.0</td>\n",
              "      <td>2.0</td>\n",
              "      <td>Яндекс Игры</td>\n",
              "    </tr>\n",
              "    <tr>\n",
              "      <th>1</th>\n",
              "      <td>42472</td>\n",
              "      <td>А вот регионы, в которых живут ITшники с интер...</td>\n",
              "      <td>NaN</td>\n",
              "      <td>NaN</td>\n",
              "      <td>NaN</td>\n",
              "      <td>NaN</td>\n",
              "    </tr>\n",
              "    <tr>\n",
              "      <th>2</th>\n",
              "      <td>42473</td>\n",
              "      <td>Если смотреть по интересам, то кажется, что ау...</td>\n",
              "      <td>141.0</td>\n",
              "      <td>5.0</td>\n",
              "      <td>1.0</td>\n",
              "      <td>Выбор</td>\n",
              "    </tr>\n",
              "    <tr>\n",
              "      <th>3</th>\n",
              "      <td>42474</td>\n",
              "      <td>А путь пользователя почему-то выглядит так. Ко...</td>\n",
              "      <td>42.0</td>\n",
              "      <td>23.0</td>\n",
              "      <td>1.0</td>\n",
              "      <td>Яндекс Игры</td>\n",
              "    </tr>\n",
              "    <tr>\n",
              "      <th>4</th>\n",
              "      <td>42475</td>\n",
              "      <td>Опять он</td>\n",
              "      <td>197.0</td>\n",
              "      <td>3.0</td>\n",
              "      <td>2.0</td>\n",
              "      <td>NaN</td>\n",
              "    </tr>\n",
              "    <tr>\n",
              "      <th>...</th>\n",
              "      <td>...</td>\n",
              "      <td>...</td>\n",
              "      <td>...</td>\n",
              "      <td>...</td>\n",
              "      <td>...</td>\n",
              "      <td>...</td>\n",
              "    </tr>\n",
              "    <tr>\n",
              "      <th>3675</th>\n",
              "      <td>46400</td>\n",
              "      <td>Напишу им, спасибо.</td>\n",
              "      <td>117.0</td>\n",
              "      <td>8.0</td>\n",
              "      <td>1.0</td>\n",
              "      <td>Удаление профиля в Яндексе и создание нового.</td>\n",
              "    </tr>\n",
              "    <tr>\n",
              "      <th>3676</th>\n",
              "      <td>46401</td>\n",
              "      <td>Старые профили не удаляются, номер на который ...</td>\n",
              "      <td>117.0</td>\n",
              "      <td>8.0</td>\n",
              "      <td>1.0</td>\n",
              "      <td>Удаление профиля в Яндексе и создание нового.</td>\n",
              "    </tr>\n",
              "    <tr>\n",
              "      <th>3677</th>\n",
              "      <td>46402</td>\n",
              "      <td>Пишите оператору (позовите пожалуйста оператор...</td>\n",
              "      <td>248.0</td>\n",
              "      <td>3.0</td>\n",
              "      <td>1.0</td>\n",
              "      <td>NaN</td>\n",
              "    </tr>\n",
              "    <tr>\n",
              "      <th>3678</th>\n",
              "      <td>46403</td>\n",
              "      <td>Отлично! Благодарю.</td>\n",
              "      <td>248.0</td>\n",
              "      <td>3.0</td>\n",
              "      <td>2.0</td>\n",
              "      <td>NaN</td>\n",
              "    </tr>\n",
              "    <tr>\n",
              "      <th>3679</th>\n",
              "      <td>46405</td>\n",
              "      <td>Да там часто отвечает бот, поэтому надо добить...</td>\n",
              "      <td>248.0</td>\n",
              "      <td>3.0</td>\n",
              "      <td>1.0</td>\n",
              "      <td>NaN</td>\n",
              "    </tr>\n",
              "  </tbody>\n",
              "</table>\n",
              "<p>3680 rows × 6 columns</p>\n",
              "</div>"
            ],
            "text/plain": [
              "      message_id                                               text  \\\n",
              "0          42471  [Доброе утро, люди! Это ОК, в РСЯ алгоритмы вы...   \n",
              "1          42472  А вот регионы, в которых живут ITшники с интер...   \n",
              "2          42473  Если смотреть по интересам, то кажется, что ау...   \n",
              "3          42474  А путь пользователя почему-то выглядит так. Ко...   \n",
              "4          42475                                           Опять он   \n",
              "...          ...                                                ...   \n",
              "3675       46400                                Напишу им, спасибо.   \n",
              "3676       46401  Старые профили не удаляются, номер на который ...   \n",
              "3677       46402  Пишите оператору (позовите пожалуйста оператор...   \n",
              "3678       46403                                Отлично! Благодарю.   \n",
              "3679       46405  Да там часто отвечает бот, поэтому надо добить...   \n",
              "\n",
              "      n_claster  cluster_size  connection_count  \\\n",
              "0          42.0          23.0               2.0   \n",
              "1           NaN           NaN               NaN   \n",
              "2         141.0           5.0               1.0   \n",
              "3          42.0          23.0               1.0   \n",
              "4         197.0           3.0               2.0   \n",
              "...         ...           ...               ...   \n",
              "3675      117.0           8.0               1.0   \n",
              "3676      117.0           8.0               1.0   \n",
              "3677      248.0           3.0               1.0   \n",
              "3678      248.0           3.0               2.0   \n",
              "3679      248.0           3.0               1.0   \n",
              "\n",
              "                                              topic  \n",
              "0                                       Яндекс Игры  \n",
              "1                                               NaN  \n",
              "2                                             Выбор  \n",
              "3                                       Яндекс Игры  \n",
              "4                                               NaN  \n",
              "...                                             ...  \n",
              "3675  Удаление профиля в Яндексе и создание нового.  \n",
              "3676  Удаление профиля в Яндексе и создание нового.  \n",
              "3677                                            NaN  \n",
              "3678                                            NaN  \n",
              "3679                                            NaN  \n",
              "\n",
              "[3680 rows x 6 columns]"
            ]
          },
          "execution_count": 65,
          "metadata": {},
          "output_type": "execute_result"
        }
      ],
      "source": [
        "df_clast"
      ]
    },
    {
      "cell_type": "code",
      "execution_count": 66,
      "metadata": {
        "id": "uJV-bdD1SKAg"
      },
      "outputs": [],
      "source": [
        "\n",
        "# 5. Для сообщений без кластера заполним тему\n",
        "df_clast['topic'] = df_clast['topic'].fillna('Неизвестная тема')"
      ]
    },
    {
      "cell_type": "code",
      "execution_count": 67,
      "metadata": {
        "id": "wEz_iXTcSKAg",
        "outputId": "ad58f286-f3d1-4ea1-87eb-6fdae10e041d"
      },
      "outputs": [
        {
          "data": {
            "text/html": [
              "<div>\n",
              "<style scoped>\n",
              "    .dataframe tbody tr th:only-of-type {\n",
              "        vertical-align: middle;\n",
              "    }\n",
              "\n",
              "    .dataframe tbody tr th {\n",
              "        vertical-align: top;\n",
              "    }\n",
              "\n",
              "    .dataframe thead th {\n",
              "        text-align: right;\n",
              "    }\n",
              "</style>\n",
              "<table border=\"1\" class=\"dataframe\">\n",
              "  <thead>\n",
              "    <tr style=\"text-align: right;\">\n",
              "      <th></th>\n",
              "      <th>message_id</th>\n",
              "      <th>text</th>\n",
              "      <th>n_claster</th>\n",
              "      <th>cluster_size</th>\n",
              "      <th>connection_count</th>\n",
              "      <th>topic</th>\n",
              "    </tr>\n",
              "  </thead>\n",
              "  <tbody>\n",
              "    <tr>\n",
              "      <th>0</th>\n",
              "      <td>42471</td>\n",
              "      <td>[Доброе утро, люди! Это ОК, в РСЯ алгоритмы вы...</td>\n",
              "      <td>42.0</td>\n",
              "      <td>23.0</td>\n",
              "      <td>2.0</td>\n",
              "      <td>Яндекс Игры</td>\n",
              "    </tr>\n",
              "    <tr>\n",
              "      <th>1</th>\n",
              "      <td>42472</td>\n",
              "      <td>А вот регионы, в которых живут ITшники с интер...</td>\n",
              "      <td>NaN</td>\n",
              "      <td>NaN</td>\n",
              "      <td>NaN</td>\n",
              "      <td>Неизвестная тема</td>\n",
              "    </tr>\n",
              "    <tr>\n",
              "      <th>2</th>\n",
              "      <td>42473</td>\n",
              "      <td>Если смотреть по интересам, то кажется, что ау...</td>\n",
              "      <td>141.0</td>\n",
              "      <td>5.0</td>\n",
              "      <td>1.0</td>\n",
              "      <td>Выбор</td>\n",
              "    </tr>\n",
              "    <tr>\n",
              "      <th>3</th>\n",
              "      <td>42474</td>\n",
              "      <td>А путь пользователя почему-то выглядит так. Ко...</td>\n",
              "      <td>42.0</td>\n",
              "      <td>23.0</td>\n",
              "      <td>1.0</td>\n",
              "      <td>Яндекс Игры</td>\n",
              "    </tr>\n",
              "    <tr>\n",
              "      <th>4</th>\n",
              "      <td>42475</td>\n",
              "      <td>Опять он</td>\n",
              "      <td>197.0</td>\n",
              "      <td>3.0</td>\n",
              "      <td>2.0</td>\n",
              "      <td>Неизвестная тема</td>\n",
              "    </tr>\n",
              "    <tr>\n",
              "      <th>...</th>\n",
              "      <td>...</td>\n",
              "      <td>...</td>\n",
              "      <td>...</td>\n",
              "      <td>...</td>\n",
              "      <td>...</td>\n",
              "      <td>...</td>\n",
              "    </tr>\n",
              "    <tr>\n",
              "      <th>3675</th>\n",
              "      <td>46400</td>\n",
              "      <td>Напишу им, спасибо.</td>\n",
              "      <td>117.0</td>\n",
              "      <td>8.0</td>\n",
              "      <td>1.0</td>\n",
              "      <td>Удаление профиля в Яндексе и создание нового.</td>\n",
              "    </tr>\n",
              "    <tr>\n",
              "      <th>3676</th>\n",
              "      <td>46401</td>\n",
              "      <td>Старые профили не удаляются, номер на который ...</td>\n",
              "      <td>117.0</td>\n",
              "      <td>8.0</td>\n",
              "      <td>1.0</td>\n",
              "      <td>Удаление профиля в Яндексе и создание нового.</td>\n",
              "    </tr>\n",
              "    <tr>\n",
              "      <th>3677</th>\n",
              "      <td>46402</td>\n",
              "      <td>Пишите оператору (позовите пожалуйста оператор...</td>\n",
              "      <td>248.0</td>\n",
              "      <td>3.0</td>\n",
              "      <td>1.0</td>\n",
              "      <td>Неизвестная тема</td>\n",
              "    </tr>\n",
              "    <tr>\n",
              "      <th>3678</th>\n",
              "      <td>46403</td>\n",
              "      <td>Отлично! Благодарю.</td>\n",
              "      <td>248.0</td>\n",
              "      <td>3.0</td>\n",
              "      <td>2.0</td>\n",
              "      <td>Неизвестная тема</td>\n",
              "    </tr>\n",
              "    <tr>\n",
              "      <th>3679</th>\n",
              "      <td>46405</td>\n",
              "      <td>Да там часто отвечает бот, поэтому надо добить...</td>\n",
              "      <td>248.0</td>\n",
              "      <td>3.0</td>\n",
              "      <td>1.0</td>\n",
              "      <td>Неизвестная тема</td>\n",
              "    </tr>\n",
              "  </tbody>\n",
              "</table>\n",
              "<p>3680 rows × 6 columns</p>\n",
              "</div>"
            ],
            "text/plain": [
              "      message_id                                               text  \\\n",
              "0          42471  [Доброе утро, люди! Это ОК, в РСЯ алгоритмы вы...   \n",
              "1          42472  А вот регионы, в которых живут ITшники с интер...   \n",
              "2          42473  Если смотреть по интересам, то кажется, что ау...   \n",
              "3          42474  А путь пользователя почему-то выглядит так. Ко...   \n",
              "4          42475                                           Опять он   \n",
              "...          ...                                                ...   \n",
              "3675       46400                                Напишу им, спасибо.   \n",
              "3676       46401  Старые профили не удаляются, номер на который ...   \n",
              "3677       46402  Пишите оператору (позовите пожалуйста оператор...   \n",
              "3678       46403                                Отлично! Благодарю.   \n",
              "3679       46405  Да там часто отвечает бот, поэтому надо добить...   \n",
              "\n",
              "      n_claster  cluster_size  connection_count  \\\n",
              "0          42.0          23.0               2.0   \n",
              "1           NaN           NaN               NaN   \n",
              "2         141.0           5.0               1.0   \n",
              "3          42.0          23.0               1.0   \n",
              "4         197.0           3.0               2.0   \n",
              "...         ...           ...               ...   \n",
              "3675      117.0           8.0               1.0   \n",
              "3676      117.0           8.0               1.0   \n",
              "3677      248.0           3.0               1.0   \n",
              "3678      248.0           3.0               2.0   \n",
              "3679      248.0           3.0               1.0   \n",
              "\n",
              "                                              topic  \n",
              "0                                       Яндекс Игры  \n",
              "1                                  Неизвестная тема  \n",
              "2                                             Выбор  \n",
              "3                                       Яндекс Игры  \n",
              "4                                  Неизвестная тема  \n",
              "...                                             ...  \n",
              "3675  Удаление профиля в Яндексе и создание нового.  \n",
              "3676  Удаление профиля в Яндексе и создание нового.  \n",
              "3677                               Неизвестная тема  \n",
              "3678                               Неизвестная тема  \n",
              "3679                               Неизвестная тема  \n",
              "\n",
              "[3680 rows x 6 columns]"
            ]
          },
          "execution_count": 67,
          "metadata": {},
          "output_type": "execute_result"
        }
      ],
      "source": [
        "df_clast"
      ]
    },
    {
      "cell_type": "code",
      "execution_count": 68,
      "metadata": {
        "id": "RAXTZ2iVSKAg",
        "outputId": "8cf8bd0f-9556-4f6e-9078-945e16f748b7"
      },
      "outputs": [
        {
          "data": {
            "text/html": [
              "<div>\n",
              "<style scoped>\n",
              "    .dataframe tbody tr th:only-of-type {\n",
              "        vertical-align: middle;\n",
              "    }\n",
              "\n",
              "    .dataframe tbody tr th {\n",
              "        vertical-align: top;\n",
              "    }\n",
              "\n",
              "    .dataframe thead th {\n",
              "        text-align: right;\n",
              "    }\n",
              "</style>\n",
              "<table border=\"1\" class=\"dataframe\">\n",
              "  <thead>\n",
              "    <tr style=\"text-align: right;\">\n",
              "      <th></th>\n",
              "      <th>n_claster</th>\n",
              "      <th>topic</th>\n",
              "    </tr>\n",
              "  </thead>\n",
              "  <tbody>\n",
              "    <tr>\n",
              "      <th>0</th>\n",
              "      <td>0.0</td>\n",
              "      <td>Маркетинг и реклама</td>\n",
              "    </tr>\n",
              "    <tr>\n",
              "      <th>1</th>\n",
              "      <td>1.0</td>\n",
              "      <td>Игры (RPG)</td>\n",
              "    </tr>\n",
              "    <tr>\n",
              "      <th>2</th>\n",
              "      <td>2.0</td>\n",
              "      <td>Мониторинг и контроль граждан</td>\n",
              "    </tr>\n",
              "    <tr>\n",
              "      <th>3</th>\n",
              "      <td>3.0</td>\n",
              "      <td>Ностальгия по компьютерам и интернету 90-х годов.</td>\n",
              "    </tr>\n",
              "    <tr>\n",
              "      <th>4</th>\n",
              "      <td>4.0</td>\n",
              "      <td>Бизнес/Продвижение</td>\n",
              "    </tr>\n",
              "    <tr>\n",
              "      <th>...</th>\n",
              "      <td>...</td>\n",
              "      <td>...</td>\n",
              "    </tr>\n",
              "    <tr>\n",
              "      <th>162</th>\n",
              "      <td>207.0</td>\n",
              "      <td>Финансы/Бюджет</td>\n",
              "    </tr>\n",
              "    <tr>\n",
              "      <th>163</th>\n",
              "      <td>208.0</td>\n",
              "      <td>Данные/информация</td>\n",
              "    </tr>\n",
              "    <tr>\n",
              "      <th>164</th>\n",
              "      <td>213.0</td>\n",
              "      <td>Образование</td>\n",
              "    </tr>\n",
              "    <tr>\n",
              "      <th>165</th>\n",
              "      <td>222.0</td>\n",
              "      <td>Вопросы о социальных сетях</td>\n",
              "    </tr>\n",
              "    <tr>\n",
              "      <th>166</th>\n",
              "      <td>244.0</td>\n",
              "      <td>Вопрос/Ответ</td>\n",
              "    </tr>\n",
              "  </tbody>\n",
              "</table>\n",
              "<p>167 rows × 2 columns</p>\n",
              "</div>"
            ],
            "text/plain": [
              "     n_claster                                              topic\n",
              "0          0.0                                Маркетинг и реклама\n",
              "1          1.0                                         Игры (RPG)\n",
              "2          2.0                      Мониторинг и контроль граждан\n",
              "3          3.0  Ностальгия по компьютерам и интернету 90-х годов.\n",
              "4          4.0                                 Бизнес/Продвижение\n",
              "..         ...                                                ...\n",
              "162      207.0                                     Финансы/Бюджет\n",
              "163      208.0                                  Данные/информация\n",
              "164      213.0                                        Образование\n",
              "165      222.0                         Вопросы о социальных сетях\n",
              "166      244.0                                       Вопрос/Ответ\n",
              "\n",
              "[167 rows x 2 columns]"
            ]
          },
          "execution_count": 68,
          "metadata": {},
          "output_type": "execute_result"
        }
      ],
      "source": [
        "clusters[['n_claster', 'topic']]"
      ]
    },
    {
      "cell_type": "code",
      "execution_count": null,
      "metadata": {
        "id": "InDzvcFWSKAg",
        "outputId": "986a85b3-f375-4c6a-b9b2-6555feb0fc81"
      },
      "outputs": [
        {
          "name": "stdout",
          "output_type": "stream",
          "text": [
            "Файл успешно сохранён: df_clast.xlsx\n"
          ]
        }
      ],
      "source": [
        "# Экспорт DataFrame в Excel файл\n",
        "df_clast.to_excel('df_clast.xlsx', index=False, engine='openpyxl')\n",
        "\n",
        "print(\"Файл успешно сохранён: df_clast.xlsx\")"
      ]
    },
    {
      "cell_type": "code",
      "execution_count": null,
      "metadata": {
        "id": "_wHPfeVHSKAg",
        "outputId": "a9382c74-f3ef-47d0-881f-d1c16dddaf74"
      },
      "outputs": [
        {
          "name": "stdout",
          "output_type": "stream",
          "text": [
            "Файл успешно сохранён: clusters.xlsx\n"
          ]
        }
      ],
      "source": [
        "# Экспорт DataFrame в Excel файл\n",
        "clusters[['n_claster', 'topic']].to_excel('clusters.xlsx', index=False, engine='openpyxl')\n",
        "\n",
        "print(\"Файл успешно сохранён: clusters.xlsx\")"
      ]
    },
    {
      "cell_type": "markdown",
      "metadata": {
        "id": "yOi1wiDDSKAh"
      },
      "source": [
        "# Вывод"
      ]
    },
    {
      "cell_type": "markdown",
      "metadata": {
        "id": "h-GXOvoJSKAh"
      },
      "source": [
        "1. На основе метода №1 провел кластеризацию\n",
        "2. Собрал Датафрейм\n",
        "    * message_id\n",
        "    * text\n",
        "    * n_claster - номер кластера от  0 по количеству сообщений в кластере (нулевой самый большой)\n",
        "    * cluster_size - количество сообщений в кластере\n",
        "    * connection_count - количество связей сообщение с другими сообщениями\n",
        "    * topic - название темы диалога.\n",
        "Название темы диалога заполнил на основе работы llama3:8b (код выполнялся примерно 10 минут)\n",
        "Запрос:  'Проанализируй следующие сообщения из одного кластера и определи основную тему диалога.\n",
        "    Сообщения должны иметь общую тематику, так как они попали в один кластер. Напиши только основную тему. Без пояснений.  \n",
        "\n",
        "    Сообщения:\n",
        "    {messages}\n",
        "\n",
        "    Основная тема диалога:'  \n",
        "В качестве сообщений подовались соошения: серия сообщений message преобразованная в строку \"как есть\".  \n",
        "Предворительно сообщения были отфильтрованы по признаку количество связей больше двух.  \n",
        "Температура модели: Пониженная температура (0.3) для более предсказуемых ответов  \n",
        "\n",
        "В результате создал два файла в Excel. Основной датафрейм и список названий кластеров."
      ]
    },
    {
      "cell_type": "markdown",
      "metadata": {
        "id": "bo7gvF1CTYdh"
      },
      "source": [
        "# Призентация метода"
      ]
    },
    {
      "cell_type": "markdown",
      "metadata": {
        "id": "YBtYlgGITgbb"
      },
      "source": [
        "Суть метода: Необходимо выделить в диалоги сообщения, связанные между собой с помощью механики reply. Также добавить в эти диалоги соседние сообщения с маленьким временным порогом. Я использовал для этого чата th_minute=0.5. Связь это два связонных по методике метода сообщения.\n",
        "1. Парсинг  \n",
        "2. Кластеризация:\n",
        "  * Провел кластеризацию по reply и по соседним сообщениям с временным threshold`ом.\n",
        "  * Порог по времени пол минуты. Это порог выбрал вручную сравнивая с количеством полученных пар. При этом пороге 1500 пар из датасета в 3680\n",
        "  * Собрал диалоги(кластеры) из 3809 связей(пар)\n",
        "  * 3459 сообщение (из 3680) попали в диалоги\n",
        "  * Получил 341 диалог.\n",
        "  * Выделил самые длинные (10шт).\n",
        "  * 103 собщения в самом большом, 51 в маленьком.\n",
        "  * Метрику оценил пока только визульно(почитал сообщения в диалоге). Связь между сообщениями прослеживается.\n",
        "3. Название тем диалога:  \n",
        " 3.1 Собрал Датафрейм\n",
        "    * message_id\n",
        "    * text\n",
        "    * n_claster - номер кластера от  0 по количеству сообщений в кластере (нулевой самый большой)\n",
        "    * cluster_size - количество сообщений в кластере\n",
        "    * connection_count - количество связей сообщение с другими сообщениями\n",
        "    * topic - название темы диалога.\n",
        "  \n",
        "Название темы диалога заполнил на основе работы llama3:8b (запрос выполнялся примерно 10 минут)  \n",
        "Запрос:  \"Проанализируй следующие сообщения из одного кластера и определи основную тему диалога. Сообщения должны иметь общую тематику, так как они попали в один кластер. Напиши только основную тему. Без пояснений. Сообщения:  {messages} Основная тема диалога:\"  \n",
        "* В качестве сообщений подовались соошения: серия сообщений message преобразованная в строку \"как есть\".  \n",
        "* Предворительно сообщения были отфильтрованы по признаку количество связей больше двух.  \n",
        "* Температура модели: Пониженная температура (0.3) для более предсказуемых ответов  \n",
        "\n",
        "В результате создал два файла в Excel. Основной датафрейм и список названий кластеров.  \n",
        "Пример из датафрейма:\n",
        "\n"
      ]
    },
    {
      "cell_type": "code",
      "execution_count": null,
      "metadata": {
        "id": "5Vz_gFc1ZJJp",
        "outputId": "ad58f286-f3d1-4ea1-87eb-6fdae10e041d"
      },
      "outputs": [
        {
          "data": {
            "text/html": [
              "<div>\n",
              "<style scoped>\n",
              "    .dataframe tbody tr th:only-of-type {\n",
              "        vertical-align: middle;\n",
              "    }\n",
              "\n",
              "    .dataframe tbody tr th {\n",
              "        vertical-align: top;\n",
              "    }\n",
              "\n",
              "    .dataframe thead th {\n",
              "        text-align: right;\n",
              "    }\n",
              "</style>\n",
              "<table border=\"1\" class=\"dataframe\">\n",
              "  <thead>\n",
              "    <tr style=\"text-align: right;\">\n",
              "      <th></th>\n",
              "      <th>message_id</th>\n",
              "      <th>text</th>\n",
              "      <th>n_claster</th>\n",
              "      <th>cluster_size</th>\n",
              "      <th>connection_count</th>\n",
              "      <th>topic</th>\n",
              "    </tr>\n",
              "  </thead>\n",
              "  <tbody>\n",
              "    <tr>\n",
              "      <th>0</th>\n",
              "      <td>42471</td>\n",
              "      <td>[Доброе утро, люди! Это ОК, в РСЯ алгоритмы вы...</td>\n",
              "      <td>42.0</td>\n",
              "      <td>23.0</td>\n",
              "      <td>2.0</td>\n",
              "      <td>Яндекс Игры</td>\n",
              "    </tr>\n",
              "    <tr>\n",
              "      <th>1</th>\n",
              "      <td>42472</td>\n",
              "      <td>А вот регионы, в которых живут ITшники с интер...</td>\n",
              "      <td>NaN</td>\n",
              "      <td>NaN</td>\n",
              "      <td>NaN</td>\n",
              "      <td>Неизвестная тема</td>\n",
              "    </tr>\n",
              "    <tr>\n",
              "      <th>2</th>\n",
              "      <td>42473</td>\n",
              "      <td>Если смотреть по интересам, то кажется, что ау...</td>\n",
              "      <td>141.0</td>\n",
              "      <td>5.0</td>\n",
              "      <td>1.0</td>\n",
              "      <td>Выбор</td>\n",
              "    </tr>\n",
              "    <tr>\n",
              "      <th>3</th>\n",
              "      <td>42474</td>\n",
              "      <td>А путь пользователя почему-то выглядит так. Ко...</td>\n",
              "      <td>42.0</td>\n",
              "      <td>23.0</td>\n",
              "      <td>1.0</td>\n",
              "      <td>Яндекс Игры</td>\n",
              "    </tr>\n",
              "    <tr>\n",
              "      <th>4</th>\n",
              "      <td>42475</td>\n",
              "      <td>Опять он</td>\n",
              "      <td>197.0</td>\n",
              "      <td>3.0</td>\n",
              "      <td>2.0</td>\n",
              "      <td>Неизвестная тема</td>\n",
              "    </tr>\n",
              "    <tr>\n",
              "      <th>...</th>\n",
              "      <td>...</td>\n",
              "      <td>...</td>\n",
              "      <td>...</td>\n",
              "      <td>...</td>\n",
              "      <td>...</td>\n",
              "      <td>...</td>\n",
              "    </tr>\n",
              "    <tr>\n",
              "      <th>3675</th>\n",
              "      <td>46400</td>\n",
              "      <td>Напишу им, спасибо.</td>\n",
              "      <td>117.0</td>\n",
              "      <td>8.0</td>\n",
              "      <td>1.0</td>\n",
              "      <td>Удаление забытого профиля в Яндексе и создание...</td>\n",
              "    </tr>\n",
              "    <tr>\n",
              "      <th>3676</th>\n",
              "      <td>46401</td>\n",
              "      <td>Старые профили не удаляются, номер на который ...</td>\n",
              "      <td>117.0</td>\n",
              "      <td>8.0</td>\n",
              "      <td>1.0</td>\n",
              "      <td>Удаление забытого профиля в Яндексе и создание...</td>\n",
              "    </tr>\n",
              "    <tr>\n",
              "      <th>3677</th>\n",
              "      <td>46402</td>\n",
              "      <td>Пишите оператору (позовите пожалуйста оператор...</td>\n",
              "      <td>248.0</td>\n",
              "      <td>3.0</td>\n",
              "      <td>1.0</td>\n",
              "      <td>Неизвестная тема</td>\n",
              "    </tr>\n",
              "    <tr>\n",
              "      <th>3678</th>\n",
              "      <td>46403</td>\n",
              "      <td>Отлично! Благодарю.</td>\n",
              "      <td>248.0</td>\n",
              "      <td>3.0</td>\n",
              "      <td>2.0</td>\n",
              "      <td>Неизвестная тема</td>\n",
              "    </tr>\n",
              "    <tr>\n",
              "      <th>3679</th>\n",
              "      <td>46405</td>\n",
              "      <td>Да там часто отвечает бот, поэтому надо добить...</td>\n",
              "      <td>248.0</td>\n",
              "      <td>3.0</td>\n",
              "      <td>1.0</td>\n",
              "      <td>Неизвестная тема</td>\n",
              "    </tr>\n",
              "  </tbody>\n",
              "</table>\n",
              "<p>3680 rows × 6 columns</p>\n",
              "</div>"
            ],
            "text/plain": [
              "      message_id                                               text  \\\n",
              "0          42471  [Доброе утро, люди! Это ОК, в РСЯ алгоритмы вы...   \n",
              "1          42472  А вот регионы, в которых живут ITшники с интер...   \n",
              "2          42473  Если смотреть по интересам, то кажется, что ау...   \n",
              "3          42474  А путь пользователя почему-то выглядит так. Ко...   \n",
              "4          42475                                           Опять он   \n",
              "...          ...                                                ...   \n",
              "3675       46400                                Напишу им, спасибо.   \n",
              "3676       46401  Старые профили не удаляются, номер на который ...   \n",
              "3677       46402  Пишите оператору (позовите пожалуйста оператор...   \n",
              "3678       46403                                Отлично! Благодарю.   \n",
              "3679       46405  Да там часто отвечает бот, поэтому надо добить...   \n",
              "\n",
              "      n_claster  cluster_size  connection_count  \\\n",
              "0          42.0          23.0               2.0   \n",
              "1           NaN           NaN               NaN   \n",
              "2         141.0           5.0               1.0   \n",
              "3          42.0          23.0               1.0   \n",
              "4         197.0           3.0               2.0   \n",
              "...         ...           ...               ...   \n",
              "3675      117.0           8.0               1.0   \n",
              "3676      117.0           8.0               1.0   \n",
              "3677      248.0           3.0               1.0   \n",
              "3678      248.0           3.0               2.0   \n",
              "3679      248.0           3.0               1.0   \n",
              "\n",
              "                                                  topic  \n",
              "0                                           Яндекс Игры  \n",
              "1                                      Неизвестная тема  \n",
              "2                                                 Выбор  \n",
              "3                                           Яндекс Игры  \n",
              "4                                      Неизвестная тема  \n",
              "...                                                 ...  \n",
              "3675  Удаление забытого профиля в Яндексе и создание...  \n",
              "3676  Удаление забытого профиля в Яндексе и создание...  \n",
              "3677                                   Неизвестная тема  \n",
              "3678                                   Неизвестная тема  \n",
              "3679                                   Неизвестная тема  \n",
              "\n",
              "[3680 rows x 6 columns]"
            ]
          },
          "execution_count": 92,
          "metadata": {},
          "output_type": "execute_result"
        }
      ],
      "source": [
        "df_clast"
      ]
    },
    {
      "cell_type": "markdown",
      "metadata": {
        "id": "57Q17IxJZONi"
      },
      "source": [
        "Пример списка названий кластеров:"
      ]
    },
    {
      "cell_type": "code",
      "execution_count": null,
      "metadata": {
        "id": "cmP-hfBxZa8p",
        "outputId": "8cf8bd0f-9556-4f6e-9078-945e16f748b7"
      },
      "outputs": [
        {
          "data": {
            "text/html": [
              "<div>\n",
              "<style scoped>\n",
              "    .dataframe tbody tr th:only-of-type {\n",
              "        vertical-align: middle;\n",
              "    }\n",
              "\n",
              "    .dataframe tbody tr th {\n",
              "        vertical-align: top;\n",
              "    }\n",
              "\n",
              "    .dataframe thead th {\n",
              "        text-align: right;\n",
              "    }\n",
              "</style>\n",
              "<table border=\"1\" class=\"dataframe\">\n",
              "  <thead>\n",
              "    <tr style=\"text-align: right;\">\n",
              "      <th></th>\n",
              "      <th>n_claster</th>\n",
              "      <th>topic</th>\n",
              "    </tr>\n",
              "  </thead>\n",
              "  <tbody>\n",
              "    <tr>\n",
              "      <th>0</th>\n",
              "      <td>0.0</td>\n",
              "      <td>Реклама и маркетинг</td>\n",
              "    </tr>\n",
              "    <tr>\n",
              "      <th>1</th>\n",
              "      <td>1.0</td>\n",
              "      <td>РPG игры (Kingdom Come: Deliverance 2, Skyrim)</td>\n",
              "    </tr>\n",
              "    <tr>\n",
              "      <th>2</th>\n",
              "      <td>2.0</td>\n",
              "      <td>Битрикс</td>\n",
              "    </tr>\n",
              "    <tr>\n",
              "      <th>3</th>\n",
              "      <td>3.0</td>\n",
              "      <td>Компьютеры и интернет.</td>\n",
              "    </tr>\n",
              "    <tr>\n",
              "      <th>4</th>\n",
              "      <td>4.0</td>\n",
              "      <td>Бизнес/экономика</td>\n",
              "    </tr>\n",
              "    <tr>\n",
              "      <th>...</th>\n",
              "      <td>...</td>\n",
              "      <td>...</td>\n",
              "    </tr>\n",
              "    <tr>\n",
              "      <th>162</th>\n",
              "      <td>207.0</td>\n",
              "      <td>Финансы/Бюджет</td>\n",
              "    </tr>\n",
              "    <tr>\n",
              "      <th>163</th>\n",
              "      <td>208.0</td>\n",
              "      <td>Качество данных</td>\n",
              "    </tr>\n",
              "    <tr>\n",
              "      <th>164</th>\n",
              "      <td>213.0</td>\n",
              "      <td>Образование</td>\n",
              "    </tr>\n",
              "    <tr>\n",
              "      <th>165</th>\n",
              "      <td>222.0</td>\n",
              "      <td>Местоположение/география</td>\n",
              "    </tr>\n",
              "    <tr>\n",
              "      <th>166</th>\n",
              "      <td>244.0</td>\n",
              "      <td>Обсуждение или рекомендация о просмотре какого...</td>\n",
              "    </tr>\n",
              "  </tbody>\n",
              "</table>\n",
              "<p>167 rows × 2 columns</p>\n",
              "</div>"
            ],
            "text/plain": [
              "     n_claster                                              topic\n",
              "0          0.0                                Реклама и маркетинг\n",
              "1          1.0     РPG игры (Kingdom Come: Deliverance 2, Skyrim)\n",
              "2          2.0                                            Битрикс\n",
              "3          3.0                             Компьютеры и интернет.\n",
              "4          4.0                                   Бизнес/экономика\n",
              "..         ...                                                ...\n",
              "162      207.0                                     Финансы/Бюджет\n",
              "163      208.0                                    Качество данных\n",
              "164      213.0                                        Образование\n",
              "165      222.0                           Местоположение/география\n",
              "166      244.0  Обсуждение или рекомендация о просмотре какого...\n",
              "\n",
              "[167 rows x 2 columns]"
            ]
          },
          "execution_count": 96,
          "metadata": {},
          "output_type": "execute_result"
        }
      ],
      "source": [
        "clusters[['n_claster', 'topic']]"
      ]
    },
    {
      "cell_type": "markdown",
      "metadata": {
        "id": "v9YEkZ-MZchE"
      },
      "source": [
        "Приемущество предствленного подхода:\n",
        "* не используем машинное обучение при кластеризации\n",
        "* точность (не доказано). Логика что сообщения участвуют в одном диалоге через reply очивидна. Логика что сообщения близкие к друг другу по времени (~30 секунд) будут в одном диалоге имеет высокую вероятность.\n",
        "* простота реализации и интерпретируемость  \n",
        "\n",
        "Недостатки:\n",
        "* очень много диалогов на выходе, нужен фильтр по рейтингу для дайджеста\n",
        "* Некотрые полученные диалоги могут быть на одну и ту же тему или даже по сути быть в одном диалоге, но в результате данной обработки разнесены в разные кластеры\n",
        "* есть вероятность, что сообщения через механику reply сгруппируются в один диалог, а на самом деле в определенный момент после некоторго количиства последовательных реплаев тема разговора плавно поменятеся с одной на другую   \n",
        "\n",
        "Что можно доработать:\n",
        "* Для уточнения рейтинга диалогов помимо количества сообщений можно использовать количество реакций на на сообщения в диалоге\n",
        "* Темы диалогов представлены короткими фразами, это можно расширить до двух предложений\n",
        "* Запросить у LLM добавить описание диалога, раскрыть его суть в коротком тексте.\n",
        "\n",
        "Вопрос: почему я не захотел использовать модели машинного обучения для определения кластеров?  \n",
        "Ответ:\n",
        "* по ембендингам модель сможет отнести к класу только если уже есть готовые составленные темы\n",
        "* если выделять тему деалога по одному сообщению. Не с каждым сообщением это получется. В чате есть мусорные сообщения, сообщения которые раскрывает тему только в совокупности а не по отдельности.\n",
        "* возможно качества моего метода будет достаточно для текущей задачи (вопрос к заказчику)\n",
        "* идея моего метода является прекрасной альтернативой для сравнения с результатами других участников проекта. А также может вдохновить на новые решения поставленной задачи."
      ]
    },
    {
      "cell_type": "markdown",
      "metadata": {},
      "source": [
        "# Доработка и отладка готового решения"
      ]
    },
    {
      "cell_type": "markdown",
      "metadata": {},
      "source": [
        "## Метрика полученных кластеров"
      ]
    },
    {
      "cell_type": "code",
      "execution_count": null,
      "metadata": {},
      "outputs": [
        {
          "name": "stderr",
          "output_type": "stream",
          "text": [
            "c:\\Users\\Виталик\\Desktop\\Pro\\Pet\\Telegram_Bot\\venv\\Lib\\site-packages\\tqdm\\auto.py:21: TqdmWarning: IProgress not found. Please update jupyter and ipywidgets. See https://ipywidgets.readthedocs.io/en/stable/user_install.html\n",
            "  from .autonotebook import tqdm as notebook_tqdm\n"
          ]
        }
      ],
      "source": [
        "from sklearn.metrics import silhouette_score\n",
        "from sentence_transformers import SentenceTransformer"
      ]
    },
    {
      "cell_type": "code",
      "execution_count": null,
      "metadata": {},
      "outputs": [],
      "source": [
        "# Загружаем модель для эмбеддингов\n",
        "encoder = SentenceTransformer('paraphrase-multilingual-MiniLM-L12-v2')"
      ]
    },
    {
      "cell_type": "code",
      "execution_count": null,
      "metadata": {},
      "outputs": [
        {
          "data": {
            "text/html": [
              "<div>\n",
              "<style scoped>\n",
              "    .dataframe tbody tr th:only-of-type {\n",
              "        vertical-align: middle;\n",
              "    }\n",
              "\n",
              "    .dataframe tbody tr th {\n",
              "        vertical-align: top;\n",
              "    }\n",
              "\n",
              "    .dataframe thead th {\n",
              "        text-align: right;\n",
              "    }\n",
              "</style>\n",
              "<table border=\"1\" class=\"dataframe\">\n",
              "  <thead>\n",
              "    <tr style=\"text-align: right;\">\n",
              "      <th></th>\n",
              "      <th>message_id</th>\n",
              "      <th>text</th>\n",
              "      <th>n_claster</th>\n",
              "      <th>cluster_size</th>\n",
              "      <th>connection_count</th>\n",
              "      <th>topic</th>\n",
              "    </tr>\n",
              "  </thead>\n",
              "  <tbody>\n",
              "    <tr>\n",
              "      <th>0</th>\n",
              "      <td>42471</td>\n",
              "      <td>[Доброе утро, люди! Это ОК, в РСЯ алгоритмы вы...</td>\n",
              "      <td>42.0</td>\n",
              "      <td>23.0</td>\n",
              "      <td>2.0</td>\n",
              "      <td>Яндекс Игры</td>\n",
              "    </tr>\n",
              "    <tr>\n",
              "      <th>1</th>\n",
              "      <td>42472</td>\n",
              "      <td>А вот регионы, в которых живут ITшники с интер...</td>\n",
              "      <td>NaN</td>\n",
              "      <td>NaN</td>\n",
              "      <td>NaN</td>\n",
              "      <td>Неизвестная тема</td>\n",
              "    </tr>\n",
              "    <tr>\n",
              "      <th>2</th>\n",
              "      <td>42473</td>\n",
              "      <td>Если смотреть по интересам, то кажется, что ау...</td>\n",
              "      <td>141.0</td>\n",
              "      <td>5.0</td>\n",
              "      <td>1.0</td>\n",
              "      <td>Выбор</td>\n",
              "    </tr>\n",
              "    <tr>\n",
              "      <th>3</th>\n",
              "      <td>42474</td>\n",
              "      <td>А путь пользователя почему-то выглядит так. Ко...</td>\n",
              "      <td>42.0</td>\n",
              "      <td>23.0</td>\n",
              "      <td>1.0</td>\n",
              "      <td>Яндекс Игры</td>\n",
              "    </tr>\n",
              "    <tr>\n",
              "      <th>4</th>\n",
              "      <td>42475</td>\n",
              "      <td>Опять он</td>\n",
              "      <td>197.0</td>\n",
              "      <td>3.0</td>\n",
              "      <td>2.0</td>\n",
              "      <td>Неизвестная тема</td>\n",
              "    </tr>\n",
              "    <tr>\n",
              "      <th>...</th>\n",
              "      <td>...</td>\n",
              "      <td>...</td>\n",
              "      <td>...</td>\n",
              "      <td>...</td>\n",
              "      <td>...</td>\n",
              "      <td>...</td>\n",
              "    </tr>\n",
              "    <tr>\n",
              "      <th>3675</th>\n",
              "      <td>46400</td>\n",
              "      <td>Напишу им, спасибо.</td>\n",
              "      <td>117.0</td>\n",
              "      <td>8.0</td>\n",
              "      <td>1.0</td>\n",
              "      <td>Удаление забытого профиля в Яндексе и создание...</td>\n",
              "    </tr>\n",
              "    <tr>\n",
              "      <th>3676</th>\n",
              "      <td>46401</td>\n",
              "      <td>Старые профили не удаляются, номер на который ...</td>\n",
              "      <td>117.0</td>\n",
              "      <td>8.0</td>\n",
              "      <td>1.0</td>\n",
              "      <td>Удаление забытого профиля в Яндексе и создание...</td>\n",
              "    </tr>\n",
              "    <tr>\n",
              "      <th>3677</th>\n",
              "      <td>46402</td>\n",
              "      <td>Пишите оператору (позовите пожалуйста оператор...</td>\n",
              "      <td>248.0</td>\n",
              "      <td>3.0</td>\n",
              "      <td>1.0</td>\n",
              "      <td>Неизвестная тема</td>\n",
              "    </tr>\n",
              "    <tr>\n",
              "      <th>3678</th>\n",
              "      <td>46403</td>\n",
              "      <td>Отлично! Благодарю.</td>\n",
              "      <td>248.0</td>\n",
              "      <td>3.0</td>\n",
              "      <td>2.0</td>\n",
              "      <td>Неизвестная тема</td>\n",
              "    </tr>\n",
              "    <tr>\n",
              "      <th>3679</th>\n",
              "      <td>46405</td>\n",
              "      <td>Да там часто отвечает бот, поэтому надо добить...</td>\n",
              "      <td>248.0</td>\n",
              "      <td>3.0</td>\n",
              "      <td>1.0</td>\n",
              "      <td>Неизвестная тема</td>\n",
              "    </tr>\n",
              "  </tbody>\n",
              "</table>\n",
              "<p>3680 rows × 6 columns</p>\n",
              "</div>"
            ],
            "text/plain": [
              "      message_id                                               text  \\\n",
              "0          42471  [Доброе утро, люди! Это ОК, в РСЯ алгоритмы вы...   \n",
              "1          42472  А вот регионы, в которых живут ITшники с интер...   \n",
              "2          42473  Если смотреть по интересам, то кажется, что ау...   \n",
              "3          42474  А путь пользователя почему-то выглядит так. Ко...   \n",
              "4          42475                                           Опять он   \n",
              "...          ...                                                ...   \n",
              "3675       46400                                Напишу им, спасибо.   \n",
              "3676       46401  Старые профили не удаляются, номер на который ...   \n",
              "3677       46402  Пишите оператору (позовите пожалуйста оператор...   \n",
              "3678       46403                                Отлично! Благодарю.   \n",
              "3679       46405  Да там часто отвечает бот, поэтому надо добить...   \n",
              "\n",
              "      n_claster  cluster_size  connection_count  \\\n",
              "0          42.0          23.0               2.0   \n",
              "1           NaN           NaN               NaN   \n",
              "2         141.0           5.0               1.0   \n",
              "3          42.0          23.0               1.0   \n",
              "4         197.0           3.0               2.0   \n",
              "...         ...           ...               ...   \n",
              "3675      117.0           8.0               1.0   \n",
              "3676      117.0           8.0               1.0   \n",
              "3677      248.0           3.0               1.0   \n",
              "3678      248.0           3.0               2.0   \n",
              "3679      248.0           3.0               1.0   \n",
              "\n",
              "                                                  topic  \n",
              "0                                           Яндекс Игры  \n",
              "1                                      Неизвестная тема  \n",
              "2                                                 Выбор  \n",
              "3                                           Яндекс Игры  \n",
              "4                                      Неизвестная тема  \n",
              "...                                                 ...  \n",
              "3675  Удаление забытого профиля в Яндексе и создание...  \n",
              "3676  Удаление забытого профиля в Яндексе и создание...  \n",
              "3677                                   Неизвестная тема  \n",
              "3678                                   Неизвестная тема  \n",
              "3679                                   Неизвестная тема  \n",
              "\n",
              "[3680 rows x 6 columns]"
            ]
          },
          "execution_count": 87,
          "metadata": {},
          "output_type": "execute_result"
        }
      ],
      "source": [
        "df_clast"
      ]
    },
    {
      "cell_type": "code",
      "execution_count": null,
      "metadata": {},
      "outputs": [],
      "source": [
        "def evaluate_clusters(df):\n",
        "    # Фильтруем сообщения с определенными кластерами\n",
        "    filtered = df[df['n_claster'].notna()]\n",
        "    texts = filtered['text'].tolist()\n",
        "    labels = filtered['n_claster'].astype(int).tolist()\n",
        "    \n",
        "    # Считаем эмбеддинги\n",
        "    embeddings = encoder.encode(texts)\n",
        "    \n",
        "    # Оцениваем силу кластеризации\n",
        "    score = silhouette_score(embeddings, labels)\n",
        "    print(f\"Silhouette Score: {score:.2f} (чем ближе к 1, тем лучше)\")\n",
        "    \n",
        "    # Пример вывода: \"Silhouette Score: 0.45\""
      ]
    },
    {
      "cell_type": "code",
      "execution_count": null,
      "metadata": {},
      "outputs": [
        {
          "name": "stdout",
          "output_type": "stream",
          "text": [
            "Silhouette Score: -0.25 (чем ближе к 1, тем лучше)\n"
          ]
        }
      ],
      "source": [
        "evaluate_clusters(df_clast)"
      ]
    },
    {
      "cell_type": "markdown",
      "metadata": {},
      "source": [
        "Вывод:  \n",
        "Попытался оценить метрику  \n",
        "Silhouette Score — метрика, которая оценивает:  \n",
        "Насколько близки объекты внутри одного кластера (когезия).  \n",
        "Насколько далеко они от объектов других кластеров (сепарация).  \n",
        "Результат плохо оцениваемый. Помню, что в диалогах имеет значение совокупность сообщение, а не одиночки."
      ]
    },
    {
      "cell_type": "markdown",
      "metadata": {},
      "source": [
        "## Для уточнения рейтинга кластеров добавим реакции."
      ]
    },
    {
      "cell_type": "code",
      "execution_count": null,
      "metadata": {},
      "outputs": [],
      "source": [
        "# Добавил в парсинг reaction_count\n",
        "parsed_messages = []\n",
        "for message in messages:\n",
        "    if message.get('type') == 'message':\n",
        "        text = message['text']\n",
        "        reactions = message.get('reactions', [])\n",
        "        reaction_count = sum(reaction.get('count', 0) for reaction in reactions) if reactions else 0\n",
        "        parsed_messages.append({\n",
        "            'message_id': message['id'],\n",
        "            'date': message['date'],\n",
        "            'chat_name': chat_name,\n",
        "            'chat_id': chat_id,\n",
        "            'sender_id': message.get('from_id'),\n",
        "            'from': message.get('from', 'Unknown'),\n",
        "            'reply_to_message_id': message.get('reply_to_message_id'),\n",
        "            'text': text,\n",
        "            'reaction_count': reaction_count\n",
        "        })"
      ]
    },
    {
      "cell_type": "code",
      "execution_count": null,
      "metadata": {},
      "outputs": [
        {
          "data": {
            "text/html": [
              "<div>\n",
              "<style scoped>\n",
              "    .dataframe tbody tr th:only-of-type {\n",
              "        vertical-align: middle;\n",
              "    }\n",
              "\n",
              "    .dataframe tbody tr th {\n",
              "        vertical-align: top;\n",
              "    }\n",
              "\n",
              "    .dataframe thead th {\n",
              "        text-align: right;\n",
              "    }\n",
              "</style>\n",
              "<table border=\"1\" class=\"dataframe\">\n",
              "  <thead>\n",
              "    <tr style=\"text-align: right;\">\n",
              "      <th></th>\n",
              "      <th>message_id</th>\n",
              "      <th>date</th>\n",
              "      <th>chat_name</th>\n",
              "      <th>chat_id</th>\n",
              "      <th>sender_id</th>\n",
              "      <th>from</th>\n",
              "      <th>reply_to_message_id</th>\n",
              "      <th>text</th>\n",
              "      <th>reaction_count</th>\n",
              "    </tr>\n",
              "  </thead>\n",
              "  <tbody>\n",
              "    <tr>\n",
              "      <th>0</th>\n",
              "      <td>42471</td>\n",
              "      <td>2025-02-01T07:35:54</td>\n",
              "      <td>💬 Marketing Practicum Chat</td>\n",
              "      <td>1782474569</td>\n",
              "      <td>user1272493086</td>\n",
              "      <td>Pasha Sannikov</td>\n",
              "      <td>NaN</td>\n",
              "      <td>[Доброе утро, люди! Это ОК, в РСЯ алгоритмы вы...</td>\n",
              "      <td>0</td>\n",
              "    </tr>\n",
              "    <tr>\n",
              "      <th>1</th>\n",
              "      <td>42472</td>\n",
              "      <td>2025-02-01T07:40:03</td>\n",
              "      <td>💬 Marketing Practicum Chat</td>\n",
              "      <td>1782474569</td>\n",
              "      <td>user1272493086</td>\n",
              "      <td>Pasha Sannikov</td>\n",
              "      <td>NaN</td>\n",
              "      <td>А вот регионы, в которых живут ITшники с интер...</td>\n",
              "      <td>0</td>\n",
              "    </tr>\n",
              "    <tr>\n",
              "      <th>2</th>\n",
              "      <td>42473</td>\n",
              "      <td>2025-02-01T07:48:53</td>\n",
              "      <td>💬 Marketing Practicum Chat</td>\n",
              "      <td>1782474569</td>\n",
              "      <td>user1272493086</td>\n",
              "      <td>Pasha Sannikov</td>\n",
              "      <td>NaN</td>\n",
              "      <td>Если смотреть по интересам, то кажется, что ау...</td>\n",
              "      <td>0</td>\n",
              "    </tr>\n",
              "    <tr>\n",
              "      <th>3</th>\n",
              "      <td>42474</td>\n",
              "      <td>2025-02-01T07:50:31</td>\n",
              "      <td>💬 Marketing Practicum Chat</td>\n",
              "      <td>1782474569</td>\n",
              "      <td>user1272493086</td>\n",
              "      <td>Pasha Sannikov</td>\n",
              "      <td>NaN</td>\n",
              "      <td>А путь пользователя почему-то выглядит так. Ко...</td>\n",
              "      <td>0</td>\n",
              "    </tr>\n",
              "    <tr>\n",
              "      <th>4</th>\n",
              "      <td>42475</td>\n",
              "      <td>2025-02-01T08:12:42</td>\n",
              "      <td>💬 Marketing Practicum Chat</td>\n",
              "      <td>1782474569</td>\n",
              "      <td>user1164775873</td>\n",
              "      <td>Данилов | Маркетолог</td>\n",
              "      <td>NaN</td>\n",
              "      <td>Опять он</td>\n",
              "      <td>0</td>\n",
              "    </tr>\n",
              "    <tr>\n",
              "      <th>...</th>\n",
              "      <td>...</td>\n",
              "      <td>...</td>\n",
              "      <td>...</td>\n",
              "      <td>...</td>\n",
              "      <td>...</td>\n",
              "      <td>...</td>\n",
              "      <td>...</td>\n",
              "      <td>...</td>\n",
              "      <td>...</td>\n",
              "    </tr>\n",
              "    <tr>\n",
              "      <th>3675</th>\n",
              "      <td>46400</td>\n",
              "      <td>2025-02-27T20:11:04</td>\n",
              "      <td>💬 Marketing Practicum Chat</td>\n",
              "      <td>1782474569</td>\n",
              "      <td>user1829741608</td>\n",
              "      <td>Алексей Ермолов</td>\n",
              "      <td>NaN</td>\n",
              "      <td>Напишу им, спасибо.</td>\n",
              "      <td>0</td>\n",
              "    </tr>\n",
              "    <tr>\n",
              "      <th>3676</th>\n",
              "      <td>46401</td>\n",
              "      <td>2025-02-27T20:23:08</td>\n",
              "      <td>💬 Marketing Practicum Chat</td>\n",
              "      <td>1782474569</td>\n",
              "      <td>user1912824918</td>\n",
              "      <td>S</td>\n",
              "      <td>46394.0</td>\n",
              "      <td>Старые профили не удаляются, номер на который ...</td>\n",
              "      <td>1</td>\n",
              "    </tr>\n",
              "    <tr>\n",
              "      <th>3677</th>\n",
              "      <td>46402</td>\n",
              "      <td>2025-02-27T20:24:44</td>\n",
              "      <td>💬 Marketing Practicum Chat</td>\n",
              "      <td>1782474569</td>\n",
              "      <td>user1912824918</td>\n",
              "      <td>S</td>\n",
              "      <td>NaN</td>\n",
              "      <td>Пишите оператору (позовите пожалуйста оператор...</td>\n",
              "      <td>1</td>\n",
              "    </tr>\n",
              "    <tr>\n",
              "      <th>3678</th>\n",
              "      <td>46403</td>\n",
              "      <td>2025-02-27T20:29:44</td>\n",
              "      <td>💬 Marketing Practicum Chat</td>\n",
              "      <td>1782474569</td>\n",
              "      <td>user1829741608</td>\n",
              "      <td>Алексей Ермолов</td>\n",
              "      <td>46402.0</td>\n",
              "      <td>Отлично! Благодарю.</td>\n",
              "      <td>0</td>\n",
              "    </tr>\n",
              "    <tr>\n",
              "      <th>3679</th>\n",
              "      <td>46405</td>\n",
              "      <td>2025-02-27T20:30:53</td>\n",
              "      <td>💬 Marketing Practicum Chat</td>\n",
              "      <td>1782474569</td>\n",
              "      <td>user1912824918</td>\n",
              "      <td>S</td>\n",
              "      <td>46403.0</td>\n",
              "      <td>Да там часто отвечает бот, поэтому надо добить...</td>\n",
              "      <td>1</td>\n",
              "    </tr>\n",
              "  </tbody>\n",
              "</table>\n",
              "<p>3680 rows × 9 columns</p>\n",
              "</div>"
            ],
            "text/plain": [
              "      message_id                 date                   chat_name     chat_id  \\\n",
              "0          42471  2025-02-01T07:35:54  💬 Marketing Practicum Chat  1782474569   \n",
              "1          42472  2025-02-01T07:40:03  💬 Marketing Practicum Chat  1782474569   \n",
              "2          42473  2025-02-01T07:48:53  💬 Marketing Practicum Chat  1782474569   \n",
              "3          42474  2025-02-01T07:50:31  💬 Marketing Practicum Chat  1782474569   \n",
              "4          42475  2025-02-01T08:12:42  💬 Marketing Practicum Chat  1782474569   \n",
              "...          ...                  ...                         ...         ...   \n",
              "3675       46400  2025-02-27T20:11:04  💬 Marketing Practicum Chat  1782474569   \n",
              "3676       46401  2025-02-27T20:23:08  💬 Marketing Practicum Chat  1782474569   \n",
              "3677       46402  2025-02-27T20:24:44  💬 Marketing Practicum Chat  1782474569   \n",
              "3678       46403  2025-02-27T20:29:44  💬 Marketing Practicum Chat  1782474569   \n",
              "3679       46405  2025-02-27T20:30:53  💬 Marketing Practicum Chat  1782474569   \n",
              "\n",
              "           sender_id                  from  reply_to_message_id  \\\n",
              "0     user1272493086        Pasha Sannikov                  NaN   \n",
              "1     user1272493086        Pasha Sannikov                  NaN   \n",
              "2     user1272493086        Pasha Sannikov                  NaN   \n",
              "3     user1272493086        Pasha Sannikov                  NaN   \n",
              "4     user1164775873  Данилов | Маркетолог                  NaN   \n",
              "...              ...                   ...                  ...   \n",
              "3675  user1829741608       Алексей Ермолов                  NaN   \n",
              "3676  user1912824918                     S              46394.0   \n",
              "3677  user1912824918                     S                  NaN   \n",
              "3678  user1829741608       Алексей Ермолов              46402.0   \n",
              "3679  user1912824918                     S              46403.0   \n",
              "\n",
              "                                                   text  reaction_count  \n",
              "0     [Доброе утро, люди! Это ОК, в РСЯ алгоритмы вы...               0  \n",
              "1     А вот регионы, в которых живут ITшники с интер...               0  \n",
              "2     Если смотреть по интересам, то кажется, что ау...               0  \n",
              "3     А путь пользователя почему-то выглядит так. Ко...               0  \n",
              "4                                              Опять он               0  \n",
              "...                                                 ...             ...  \n",
              "3675                                Напишу им, спасибо.               0  \n",
              "3676  Старые профили не удаляются, номер на который ...               1  \n",
              "3677  Пишите оператору (позовите пожалуйста оператор...               1  \n",
              "3678                                Отлично! Благодарю.               0  \n",
              "3679  Да там часто отвечает бот, поэтому надо добить...               1  \n",
              "\n",
              "[3680 rows x 9 columns]"
            ]
          },
          "execution_count": 98,
          "metadata": {},
          "output_type": "execute_result"
        }
      ],
      "source": [
        "df = pd.DataFrame(parsed_messages)\n",
        "df"
      ]
    },
    {
      "cell_type": "code",
      "execution_count": null,
      "metadata": {},
      "outputs": [
        {
          "data": {
            "text/plain": [
              "11"
            ]
          },
          "execution_count": 99,
          "metadata": {},
          "output_type": "execute_result"
        }
      ],
      "source": [
        "max(df['reaction_count'])"
      ]
    },
    {
      "cell_type": "code",
      "execution_count": null,
      "metadata": {},
      "outputs": [
        {
          "data": {
            "text/html": [
              "<div>\n",
              "<style scoped>\n",
              "    .dataframe tbody tr th:only-of-type {\n",
              "        vertical-align: middle;\n",
              "    }\n",
              "\n",
              "    .dataframe tbody tr th {\n",
              "        vertical-align: top;\n",
              "    }\n",
              "\n",
              "    .dataframe thead th {\n",
              "        text-align: right;\n",
              "    }\n",
              "</style>\n",
              "<table border=\"1\" class=\"dataframe\">\n",
              "  <thead>\n",
              "    <tr style=\"text-align: right;\">\n",
              "      <th></th>\n",
              "      <th>message_id</th>\n",
              "      <th>text</th>\n",
              "      <th>n_claster</th>\n",
              "      <th>cluster_size</th>\n",
              "      <th>connection_count</th>\n",
              "      <th>topic</th>\n",
              "      <th>reaction_count</th>\n",
              "    </tr>\n",
              "  </thead>\n",
              "  <tbody>\n",
              "    <tr>\n",
              "      <th>0</th>\n",
              "      <td>42471</td>\n",
              "      <td>[Доброе утро, люди! Это ОК, в РСЯ алгоритмы вы...</td>\n",
              "      <td>42.0</td>\n",
              "      <td>23.0</td>\n",
              "      <td>2.0</td>\n",
              "      <td>Яндекс Игры</td>\n",
              "      <td>0</td>\n",
              "    </tr>\n",
              "    <tr>\n",
              "      <th>1</th>\n",
              "      <td>42472</td>\n",
              "      <td>А вот регионы, в которых живут ITшники с интер...</td>\n",
              "      <td>NaN</td>\n",
              "      <td>NaN</td>\n",
              "      <td>NaN</td>\n",
              "      <td>Неизвестная тема</td>\n",
              "      <td>0</td>\n",
              "    </tr>\n",
              "    <tr>\n",
              "      <th>2</th>\n",
              "      <td>42473</td>\n",
              "      <td>Если смотреть по интересам, то кажется, что ау...</td>\n",
              "      <td>141.0</td>\n",
              "      <td>5.0</td>\n",
              "      <td>1.0</td>\n",
              "      <td>Выбор</td>\n",
              "      <td>0</td>\n",
              "    </tr>\n",
              "    <tr>\n",
              "      <th>3</th>\n",
              "      <td>42474</td>\n",
              "      <td>А путь пользователя почему-то выглядит так. Ко...</td>\n",
              "      <td>42.0</td>\n",
              "      <td>23.0</td>\n",
              "      <td>1.0</td>\n",
              "      <td>Яндекс Игры</td>\n",
              "      <td>0</td>\n",
              "    </tr>\n",
              "    <tr>\n",
              "      <th>4</th>\n",
              "      <td>42475</td>\n",
              "      <td>Опять он</td>\n",
              "      <td>197.0</td>\n",
              "      <td>3.0</td>\n",
              "      <td>2.0</td>\n",
              "      <td>Неизвестная тема</td>\n",
              "      <td>0</td>\n",
              "    </tr>\n",
              "    <tr>\n",
              "      <th>...</th>\n",
              "      <td>...</td>\n",
              "      <td>...</td>\n",
              "      <td>...</td>\n",
              "      <td>...</td>\n",
              "      <td>...</td>\n",
              "      <td>...</td>\n",
              "      <td>...</td>\n",
              "    </tr>\n",
              "    <tr>\n",
              "      <th>3675</th>\n",
              "      <td>46400</td>\n",
              "      <td>Напишу им, спасибо.</td>\n",
              "      <td>117.0</td>\n",
              "      <td>8.0</td>\n",
              "      <td>1.0</td>\n",
              "      <td>Удаление забытого профиля в Яндексе и создание...</td>\n",
              "      <td>0</td>\n",
              "    </tr>\n",
              "    <tr>\n",
              "      <th>3676</th>\n",
              "      <td>46401</td>\n",
              "      <td>Старые профили не удаляются, номер на который ...</td>\n",
              "      <td>117.0</td>\n",
              "      <td>8.0</td>\n",
              "      <td>1.0</td>\n",
              "      <td>Удаление забытого профиля в Яндексе и создание...</td>\n",
              "      <td>1</td>\n",
              "    </tr>\n",
              "    <tr>\n",
              "      <th>3677</th>\n",
              "      <td>46402</td>\n",
              "      <td>Пишите оператору (позовите пожалуйста оператор...</td>\n",
              "      <td>248.0</td>\n",
              "      <td>3.0</td>\n",
              "      <td>1.0</td>\n",
              "      <td>Неизвестная тема</td>\n",
              "      <td>1</td>\n",
              "    </tr>\n",
              "    <tr>\n",
              "      <th>3678</th>\n",
              "      <td>46403</td>\n",
              "      <td>Отлично! Благодарю.</td>\n",
              "      <td>248.0</td>\n",
              "      <td>3.0</td>\n",
              "      <td>2.0</td>\n",
              "      <td>Неизвестная тема</td>\n",
              "      <td>0</td>\n",
              "    </tr>\n",
              "    <tr>\n",
              "      <th>3679</th>\n",
              "      <td>46405</td>\n",
              "      <td>Да там часто отвечает бот, поэтому надо добить...</td>\n",
              "      <td>248.0</td>\n",
              "      <td>3.0</td>\n",
              "      <td>1.0</td>\n",
              "      <td>Неизвестная тема</td>\n",
              "      <td>1</td>\n",
              "    </tr>\n",
              "  </tbody>\n",
              "</table>\n",
              "<p>3680 rows × 7 columns</p>\n",
              "</div>"
            ],
            "text/plain": [
              "      message_id                                               text  \\\n",
              "0          42471  [Доброе утро, люди! Это ОК, в РСЯ алгоритмы вы...   \n",
              "1          42472  А вот регионы, в которых живут ITшники с интер...   \n",
              "2          42473  Если смотреть по интересам, то кажется, что ау...   \n",
              "3          42474  А путь пользователя почему-то выглядит так. Ко...   \n",
              "4          42475                                           Опять он   \n",
              "...          ...                                                ...   \n",
              "3675       46400                                Напишу им, спасибо.   \n",
              "3676       46401  Старые профили не удаляются, номер на который ...   \n",
              "3677       46402  Пишите оператору (позовите пожалуйста оператор...   \n",
              "3678       46403                                Отлично! Благодарю.   \n",
              "3679       46405  Да там часто отвечает бот, поэтому надо добить...   \n",
              "\n",
              "      n_claster  cluster_size  connection_count  \\\n",
              "0          42.0          23.0               2.0   \n",
              "1           NaN           NaN               NaN   \n",
              "2         141.0           5.0               1.0   \n",
              "3          42.0          23.0               1.0   \n",
              "4         197.0           3.0               2.0   \n",
              "...         ...           ...               ...   \n",
              "3675      117.0           8.0               1.0   \n",
              "3676      117.0           8.0               1.0   \n",
              "3677      248.0           3.0               1.0   \n",
              "3678      248.0           3.0               2.0   \n",
              "3679      248.0           3.0               1.0   \n",
              "\n",
              "                                                  topic  reaction_count  \n",
              "0                                           Яндекс Игры               0  \n",
              "1                                      Неизвестная тема               0  \n",
              "2                                                 Выбор               0  \n",
              "3                                           Яндекс Игры               0  \n",
              "4                                      Неизвестная тема               0  \n",
              "...                                                 ...             ...  \n",
              "3675  Удаление забытого профиля в Яндексе и создание...               0  \n",
              "3676  Удаление забытого профиля в Яндексе и создание...               1  \n",
              "3677                                   Неизвестная тема               1  \n",
              "3678                                   Неизвестная тема               0  \n",
              "3679                                   Неизвестная тема               1  \n",
              "\n",
              "[3680 rows x 7 columns]"
            ]
          },
          "execution_count": 102,
          "metadata": {},
          "output_type": "execute_result"
        }
      ],
      "source": [
        "df_clast['reaction_count'] = df['reaction_count']\n",
        "df_clast"
      ]
    },
    {
      "cell_type": "code",
      "execution_count": null,
      "metadata": {},
      "outputs": [
        {
          "data": {
            "text/html": [
              "<div>\n",
              "<style scoped>\n",
              "    .dataframe tbody tr th:only-of-type {\n",
              "        vertical-align: middle;\n",
              "    }\n",
              "\n",
              "    .dataframe tbody tr th {\n",
              "        vertical-align: top;\n",
              "    }\n",
              "\n",
              "    .dataframe thead th {\n",
              "        text-align: right;\n",
              "    }\n",
              "</style>\n",
              "<table border=\"1\" class=\"dataframe\">\n",
              "  <thead>\n",
              "    <tr style=\"text-align: right;\">\n",
              "      <th></th>\n",
              "      <th>message_id</th>\n",
              "      <th>text</th>\n",
              "      <th>n_claster</th>\n",
              "      <th>cluster_size</th>\n",
              "      <th>connection_count</th>\n",
              "      <th>topic</th>\n",
              "      <th>reaction_count</th>\n",
              "      <th>cluster_rating</th>\n",
              "    </tr>\n",
              "  </thead>\n",
              "  <tbody>\n",
              "    <tr>\n",
              "      <th>0</th>\n",
              "      <td>42471</td>\n",
              "      <td>[Доброе утро, люди! Это ОК, в РСЯ алгоритмы вы...</td>\n",
              "      <td>42.0</td>\n",
              "      <td>23.0</td>\n",
              "      <td>2.0</td>\n",
              "      <td>Яндекс Игры</td>\n",
              "      <td>0</td>\n",
              "      <td>26.0</td>\n",
              "    </tr>\n",
              "    <tr>\n",
              "      <th>1</th>\n",
              "      <td>42472</td>\n",
              "      <td>А вот регионы, в которых живут ITшники с интер...</td>\n",
              "      <td>NaN</td>\n",
              "      <td>NaN</td>\n",
              "      <td>NaN</td>\n",
              "      <td>Неизвестная тема</td>\n",
              "      <td>0</td>\n",
              "      <td>NaN</td>\n",
              "    </tr>\n",
              "    <tr>\n",
              "      <th>2</th>\n",
              "      <td>42473</td>\n",
              "      <td>Если смотреть по интересам, то кажется, что ау...</td>\n",
              "      <td>141.0</td>\n",
              "      <td>5.0</td>\n",
              "      <td>1.0</td>\n",
              "      <td>Выбор</td>\n",
              "      <td>0</td>\n",
              "      <td>6.0</td>\n",
              "    </tr>\n",
              "    <tr>\n",
              "      <th>3</th>\n",
              "      <td>42474</td>\n",
              "      <td>А путь пользователя почему-то выглядит так. Ко...</td>\n",
              "      <td>42.0</td>\n",
              "      <td>23.0</td>\n",
              "      <td>1.0</td>\n",
              "      <td>Яндекс Игры</td>\n",
              "      <td>0</td>\n",
              "      <td>26.0</td>\n",
              "    </tr>\n",
              "    <tr>\n",
              "      <th>4</th>\n",
              "      <td>42475</td>\n",
              "      <td>Опять он</td>\n",
              "      <td>197.0</td>\n",
              "      <td>3.0</td>\n",
              "      <td>2.0</td>\n",
              "      <td>Неизвестная тема</td>\n",
              "      <td>0</td>\n",
              "      <td>4.0</td>\n",
              "    </tr>\n",
              "    <tr>\n",
              "      <th>...</th>\n",
              "      <td>...</td>\n",
              "      <td>...</td>\n",
              "      <td>...</td>\n",
              "      <td>...</td>\n",
              "      <td>...</td>\n",
              "      <td>...</td>\n",
              "      <td>...</td>\n",
              "      <td>...</td>\n",
              "    </tr>\n",
              "    <tr>\n",
              "      <th>3675</th>\n",
              "      <td>46400</td>\n",
              "      <td>Напишу им, спасибо.</td>\n",
              "      <td>117.0</td>\n",
              "      <td>8.0</td>\n",
              "      <td>1.0</td>\n",
              "      <td>Удаление забытого профиля в Яндексе и создание...</td>\n",
              "      <td>0</td>\n",
              "      <td>10.0</td>\n",
              "    </tr>\n",
              "    <tr>\n",
              "      <th>3676</th>\n",
              "      <td>46401</td>\n",
              "      <td>Старые профили не удаляются, номер на который ...</td>\n",
              "      <td>117.0</td>\n",
              "      <td>8.0</td>\n",
              "      <td>1.0</td>\n",
              "      <td>Удаление забытого профиля в Яндексе и создание...</td>\n",
              "      <td>1</td>\n",
              "      <td>10.0</td>\n",
              "    </tr>\n",
              "    <tr>\n",
              "      <th>3677</th>\n",
              "      <td>46402</td>\n",
              "      <td>Пишите оператору (позовите пожалуйста оператор...</td>\n",
              "      <td>248.0</td>\n",
              "      <td>3.0</td>\n",
              "      <td>1.0</td>\n",
              "      <td>Неизвестная тема</td>\n",
              "      <td>1</td>\n",
              "      <td>5.0</td>\n",
              "    </tr>\n",
              "    <tr>\n",
              "      <th>3678</th>\n",
              "      <td>46403</td>\n",
              "      <td>Отлично! Благодарю.</td>\n",
              "      <td>248.0</td>\n",
              "      <td>3.0</td>\n",
              "      <td>2.0</td>\n",
              "      <td>Неизвестная тема</td>\n",
              "      <td>0</td>\n",
              "      <td>5.0</td>\n",
              "    </tr>\n",
              "    <tr>\n",
              "      <th>3679</th>\n",
              "      <td>46405</td>\n",
              "      <td>Да там часто отвечает бот, поэтому надо добить...</td>\n",
              "      <td>248.0</td>\n",
              "      <td>3.0</td>\n",
              "      <td>1.0</td>\n",
              "      <td>Неизвестная тема</td>\n",
              "      <td>1</td>\n",
              "      <td>5.0</td>\n",
              "    </tr>\n",
              "  </tbody>\n",
              "</table>\n",
              "<p>3680 rows × 8 columns</p>\n",
              "</div>"
            ],
            "text/plain": [
              "      message_id                                               text  \\\n",
              "0          42471  [Доброе утро, люди! Это ОК, в РСЯ алгоритмы вы...   \n",
              "1          42472  А вот регионы, в которых живут ITшники с интер...   \n",
              "2          42473  Если смотреть по интересам, то кажется, что ау...   \n",
              "3          42474  А путь пользователя почему-то выглядит так. Ко...   \n",
              "4          42475                                           Опять он   \n",
              "...          ...                                                ...   \n",
              "3675       46400                                Напишу им, спасибо.   \n",
              "3676       46401  Старые профили не удаляются, номер на который ...   \n",
              "3677       46402  Пишите оператору (позовите пожалуйста оператор...   \n",
              "3678       46403                                Отлично! Благодарю.   \n",
              "3679       46405  Да там часто отвечает бот, поэтому надо добить...   \n",
              "\n",
              "      n_claster  cluster_size  connection_count  \\\n",
              "0          42.0          23.0               2.0   \n",
              "1           NaN           NaN               NaN   \n",
              "2         141.0           5.0               1.0   \n",
              "3          42.0          23.0               1.0   \n",
              "4         197.0           3.0               2.0   \n",
              "...         ...           ...               ...   \n",
              "3675      117.0           8.0               1.0   \n",
              "3676      117.0           8.0               1.0   \n",
              "3677      248.0           3.0               1.0   \n",
              "3678      248.0           3.0               2.0   \n",
              "3679      248.0           3.0               1.0   \n",
              "\n",
              "                                                  topic  reaction_count  \\\n",
              "0                                           Яндекс Игры               0   \n",
              "1                                      Неизвестная тема               0   \n",
              "2                                                 Выбор               0   \n",
              "3                                           Яндекс Игры               0   \n",
              "4                                      Неизвестная тема               0   \n",
              "...                                                 ...             ...   \n",
              "3675  Удаление забытого профиля в Яндексе и создание...               0   \n",
              "3676  Удаление забытого профиля в Яндексе и создание...               1   \n",
              "3677                                   Неизвестная тема               1   \n",
              "3678                                   Неизвестная тема               0   \n",
              "3679                                   Неизвестная тема               1   \n",
              "\n",
              "      cluster_rating  \n",
              "0               26.0  \n",
              "1                NaN  \n",
              "2                6.0  \n",
              "3               26.0  \n",
              "4                4.0  \n",
              "...              ...  \n",
              "3675            10.0  \n",
              "3676            10.0  \n",
              "3677             5.0  \n",
              "3678             5.0  \n",
              "3679             5.0  \n",
              "\n",
              "[3680 rows x 8 columns]"
            ]
          },
          "execution_count": 104,
          "metadata": {},
          "output_type": "execute_result"
        }
      ],
      "source": [
        "# Создаем словарь для хранения суммы реакций по кластерам\n",
        "cluster_reactions = df_clast.groupby('n_claster')['reaction_count'].sum().to_dict()\n",
        "\n",
        "# Добавляем столбец с рейтингом кластера\n",
        "df_clast['cluster_rating'] = df_clast.apply(\n",
        "    lambda row: row['cluster_size'] + cluster_reactions.get(row['n_claster'], 0) \n",
        "    if pd.notna(row['n_claster']) else np.nan,\n",
        "    axis=1\n",
        ")\n",
        "df_clast"
      ]
    },
    {
      "cell_type": "code",
      "execution_count": null,
      "metadata": {},
      "outputs": [
        {
          "data": {
            "text/html": [
              "<div>\n",
              "<style scoped>\n",
              "    .dataframe tbody tr th:only-of-type {\n",
              "        vertical-align: middle;\n",
              "    }\n",
              "\n",
              "    .dataframe tbody tr th {\n",
              "        vertical-align: top;\n",
              "    }\n",
              "\n",
              "    .dataframe thead th {\n",
              "        text-align: right;\n",
              "    }\n",
              "</style>\n",
              "<table border=\"1\" class=\"dataframe\">\n",
              "  <thead>\n",
              "    <tr style=\"text-align: right;\">\n",
              "      <th></th>\n",
              "      <th>n_claster</th>\n",
              "      <th>text</th>\n",
              "      <th>topic</th>\n",
              "    </tr>\n",
              "  </thead>\n",
              "  <tbody>\n",
              "    <tr>\n",
              "      <th>0</th>\n",
              "      <td>0.0</td>\n",
              "      <td>[Коллеги, добры день, за советом. \\nВзяли РК, ...</td>\n",
              "      <td>Маркетинг и реклама</td>\n",
              "    </tr>\n",
              "    <tr>\n",
              "      <th>1</th>\n",
              "      <td>1.0</td>\n",
              "      <td>[Ребят, привет!\\n\\nМожет кто знает, участвовал...</td>\n",
              "      <td>Игры (Kingdom Come: Deliverance 2, Skyrim)</td>\n",
              "    </tr>\n",
              "    <tr>\n",
              "      <th>2</th>\n",
              "      <td>2.0</td>\n",
              "      <td>[А пока я одну расскажу\\n\\nРоскомнадзор будет ...</td>\n",
              "      <td>Реклама и интернет-маркетинг</td>\n",
              "    </tr>\n",
              "    <tr>\n",
              "      <th>3</th>\n",
              "      <td>3.0</td>\n",
              "      <td>[, Чувствую этот запах), Как будто там огонь п...</td>\n",
              "      <td>Компьютеры и интернет.</td>\n",
              "    </tr>\n",
              "    <tr>\n",
              "      <th>4</th>\n",
              "      <td>4.0</td>\n",
              "      <td>[Правило действительно хорошее, думаю последую...</td>\n",
              "      <td>Бизнес/Продвижение/Маркетинг</td>\n",
              "    </tr>\n",
              "    <tr>\n",
              "      <th>...</th>\n",
              "      <td>...</td>\n",
              "      <td>...</td>\n",
              "      <td>...</td>\n",
              "    </tr>\n",
              "    <tr>\n",
              "      <th>162</th>\n",
              "      <td>207.0</td>\n",
              "      <td>[Тут надо аккуратней силы рассчитывать, а то к...</td>\n",
              "      <td>Финансы/Бюджет</td>\n",
              "    </tr>\n",
              "    <tr>\n",
              "      <th>163</th>\n",
              "      <td>208.0</td>\n",
              "      <td>[То есть половина данных потеряется, а может и...</td>\n",
              "      <td>Потери данных</td>\n",
              "    </tr>\n",
              "    <tr>\n",
              "      <th>164</th>\n",
              "      <td>213.0</td>\n",
              "      <td>[Хочешь отучиться?]</td>\n",
              "      <td>Учение/образование</td>\n",
              "    </tr>\n",
              "    <tr>\n",
              "      <th>165</th>\n",
              "      <td>222.0</td>\n",
              "      <td>[Площадку добавляли (вк) или она сама туда поп...</td>\n",
              "      <td>Социальные сети</td>\n",
              "    </tr>\n",
              "    <tr>\n",
              "      <th>166</th>\n",
              "      <td>244.0</td>\n",
              "      <td>[Спасибо. Посмотрю)]</td>\n",
              "      <td>Обсуждение благодарности/отклик.</td>\n",
              "    </tr>\n",
              "  </tbody>\n",
              "</table>\n",
              "<p>167 rows × 3 columns</p>\n",
              "</div>"
            ],
            "text/plain": [
              "     n_claster                                               text  \\\n",
              "0          0.0  [Коллеги, добры день, за советом. \\nВзяли РК, ...   \n",
              "1          1.0  [Ребят, привет!\\n\\nМожет кто знает, участвовал...   \n",
              "2          2.0  [А пока я одну расскажу\\n\\nРоскомнадзор будет ...   \n",
              "3          3.0  [, Чувствую этот запах), Как будто там огонь п...   \n",
              "4          4.0  [Правило действительно хорошее, думаю последую...   \n",
              "..         ...                                                ...   \n",
              "162      207.0  [Тут надо аккуратней силы рассчитывать, а то к...   \n",
              "163      208.0  [То есть половина данных потеряется, а может и...   \n",
              "164      213.0                                [Хочешь отучиться?]   \n",
              "165      222.0  [Площадку добавляли (вк) или она сама туда поп...   \n",
              "166      244.0                               [Спасибо. Посмотрю)]   \n",
              "\n",
              "                                          topic  \n",
              "0                           Маркетинг и реклама  \n",
              "1    Игры (Kingdom Come: Deliverance 2, Skyrim)  \n",
              "2                  Реклама и интернет-маркетинг  \n",
              "3                        Компьютеры и интернет.  \n",
              "4                  Бизнес/Продвижение/Маркетинг  \n",
              "..                                          ...  \n",
              "162                              Финансы/Бюджет  \n",
              "163                               Потери данных  \n",
              "164                          Учение/образование  \n",
              "165                             Социальные сети  \n",
              "166            Обсуждение благодарности/отклик.  \n",
              "\n",
              "[167 rows x 3 columns]"
            ]
          },
          "execution_count": 105,
          "metadata": {},
          "output_type": "execute_result"
        }
      ],
      "source": [
        "clusters"
      ]
    },
    {
      "cell_type": "code",
      "execution_count": null,
      "metadata": {},
      "outputs": [],
      "source": [
        "# Создаем словарь с рейтингами кластеров из df_clast\n",
        "cluster_ratings = df_clast.groupby('n_claster')['cluster_rating'].first().to_dict()\n",
        "\n",
        "# Добавляем столбец cluster_rating в clusters\n",
        "clusters['cluster_rating'] = clusters['n_claster'].map(cluster_ratings)\n",
        "\n",
        "# Заполняем NaN нулями (если кластер есть в clusters, но нет в df_clast)\n",
        "clusters['cluster_rating'] = clusters['cluster_rating'].fillna(0)"
      ]
    },
    {
      "cell_type": "code",
      "execution_count": null,
      "metadata": {},
      "outputs": [
        {
          "data": {
            "text/html": [
              "<div>\n",
              "<style scoped>\n",
              "    .dataframe tbody tr th:only-of-type {\n",
              "        vertical-align: middle;\n",
              "    }\n",
              "\n",
              "    .dataframe tbody tr th {\n",
              "        vertical-align: top;\n",
              "    }\n",
              "\n",
              "    .dataframe thead th {\n",
              "        text-align: right;\n",
              "    }\n",
              "</style>\n",
              "<table border=\"1\" class=\"dataframe\">\n",
              "  <thead>\n",
              "    <tr style=\"text-align: right;\">\n",
              "      <th></th>\n",
              "      <th>n_claster</th>\n",
              "      <th>text</th>\n",
              "      <th>topic</th>\n",
              "      <th>cluster_rating</th>\n",
              "    </tr>\n",
              "  </thead>\n",
              "  <tbody>\n",
              "    <tr>\n",
              "      <th>0</th>\n",
              "      <td>0.0</td>\n",
              "      <td>[Коллеги, добры день, за советом. \\nВзяли РК, ...</td>\n",
              "      <td>Маркетинг и реклама</td>\n",
              "      <td>140.0</td>\n",
              "    </tr>\n",
              "    <tr>\n",
              "      <th>1</th>\n",
              "      <td>1.0</td>\n",
              "      <td>[Ребят, привет!\\n\\nМожет кто знает, участвовал...</td>\n",
              "      <td>Игры (Kingdom Come: Deliverance 2, Skyrim)</td>\n",
              "      <td>124.0</td>\n",
              "    </tr>\n",
              "    <tr>\n",
              "      <th>3</th>\n",
              "      <td>3.0</td>\n",
              "      <td>[, Чувствую этот запах), Как будто там огонь п...</td>\n",
              "      <td>Компьютеры и интернет.</td>\n",
              "      <td>98.0</td>\n",
              "    </tr>\n",
              "    <tr>\n",
              "      <th>2</th>\n",
              "      <td>2.0</td>\n",
              "      <td>[А пока я одну расскажу\\n\\nРоскомнадзор будет ...</td>\n",
              "      <td>Реклама и интернет-маркетинг</td>\n",
              "      <td>97.0</td>\n",
              "    </tr>\n",
              "    <tr>\n",
              "      <th>5</th>\n",
              "      <td>5.0</td>\n",
              "      <td>[Добрый день. Демон версию нельзя посмотреть, ...</td>\n",
              "      <td>Социальные сети и интернет-культура.</td>\n",
              "      <td>95.0</td>\n",
              "    </tr>\n",
              "    <tr>\n",
              "      <th>...</th>\n",
              "      <td>...</td>\n",
              "      <td>...</td>\n",
              "      <td>...</td>\n",
              "      <td>...</td>\n",
              "    </tr>\n",
              "    <tr>\n",
              "      <th>161</th>\n",
              "      <td>203.0</td>\n",
              "      <td>[Почему завидовал?]</td>\n",
              "      <td>Свойство человека (чувство зависти)</td>\n",
              "      <td>4.0</td>\n",
              "    </tr>\n",
              "    <tr>\n",
              "      <th>163</th>\n",
              "      <td>208.0</td>\n",
              "      <td>[То есть половина данных потеряется, а может и...</td>\n",
              "      <td>Потери данных</td>\n",
              "      <td>4.0</td>\n",
              "    </tr>\n",
              "    <tr>\n",
              "      <th>165</th>\n",
              "      <td>222.0</td>\n",
              "      <td>[Площадку добавляли (вк) или она сама туда поп...</td>\n",
              "      <td>Социальные сети</td>\n",
              "      <td>4.0</td>\n",
              "    </tr>\n",
              "    <tr>\n",
              "      <th>164</th>\n",
              "      <td>213.0</td>\n",
              "      <td>[Хочешь отучиться?]</td>\n",
              "      <td>Учение/образование</td>\n",
              "      <td>3.0</td>\n",
              "    </tr>\n",
              "    <tr>\n",
              "      <th>166</th>\n",
              "      <td>244.0</td>\n",
              "      <td>[Спасибо. Посмотрю)]</td>\n",
              "      <td>Обсуждение благодарности/отклик.</td>\n",
              "      <td>3.0</td>\n",
              "    </tr>\n",
              "  </tbody>\n",
              "</table>\n",
              "<p>167 rows × 4 columns</p>\n",
              "</div>"
            ],
            "text/plain": [
              "     n_claster                                               text  \\\n",
              "0          0.0  [Коллеги, добры день, за советом. \\nВзяли РК, ...   \n",
              "1          1.0  [Ребят, привет!\\n\\nМожет кто знает, участвовал...   \n",
              "3          3.0  [, Чувствую этот запах), Как будто там огонь п...   \n",
              "2          2.0  [А пока я одну расскажу\\n\\nРоскомнадзор будет ...   \n",
              "5          5.0  [Добрый день. Демон версию нельзя посмотреть, ...   \n",
              "..         ...                                                ...   \n",
              "161      203.0                                [Почему завидовал?]   \n",
              "163      208.0  [То есть половина данных потеряется, а может и...   \n",
              "165      222.0  [Площадку добавляли (вк) или она сама туда поп...   \n",
              "164      213.0                                [Хочешь отучиться?]   \n",
              "166      244.0                               [Спасибо. Посмотрю)]   \n",
              "\n",
              "                                          topic  cluster_rating  \n",
              "0                           Маркетинг и реклама           140.0  \n",
              "1    Игры (Kingdom Come: Deliverance 2, Skyrim)           124.0  \n",
              "3                        Компьютеры и интернет.            98.0  \n",
              "2                  Реклама и интернет-маркетинг            97.0  \n",
              "5          Социальные сети и интернет-культура.            95.0  \n",
              "..                                          ...             ...  \n",
              "161         Свойство человека (чувство зависти)             4.0  \n",
              "163                               Потери данных             4.0  \n",
              "165                             Социальные сети             4.0  \n",
              "164                          Учение/образование             3.0  \n",
              "166            Обсуждение благодарности/отклик.             3.0  \n",
              "\n",
              "[167 rows x 4 columns]"
            ]
          },
          "execution_count": 109,
          "metadata": {},
          "output_type": "execute_result"
        }
      ],
      "source": [
        "clusters = clusters.sort_values('cluster_rating', ascending=False)\n",
        "clusters"
      ]
    },
    {
      "cell_type": "markdown",
      "metadata": {},
      "source": [
        "## Запрос через батчи"
      ]
    },
    {
      "cell_type": "code",
      "execution_count": null,
      "metadata": {},
      "outputs": [],
      "source": [
        "# 2. Определим функцию для обработки батча кластеров\n",
        "def process_batch(batch_messages):\n",
        "    \"\"\"Обрабатывает батч из 5 сообщений и возвращает список тем\"\"\"\n",
        "    batch_topics = []\n",
        "    for messages in batch_messages:\n",
        "        if isinstance(messages, list):\n",
        "            processed_text = ' '.join([str(item) if not isinstance(item, dict) else item.get('text', '') \n",
        "                                    for item in messages])\n",
        "        else:\n",
        "            processed_text = str(messages)\n",
        "\n",
        "        prompt = f\"\"\"\n",
        "        Проанализируй следующие сообщения из одного кластера и определи основную тему диалога.\n",
        "        Сообщения должны иметь общую тематику. Напиши только основную тему. Без пояснений.\n",
        "\n",
        "        Сообщения:\n",
        "        {processed_text}\n",
        "\n",
        "        Основная тема диалога:\n",
        "        \"\"\"\n",
        "\n",
        "        try:\n",
        "            response = ollama.generate(\n",
        "                model=\"llama3:8b\",\n",
        "                prompt=prompt,\n",
        "                options={'temperature': 0.3}\n",
        "            )\n",
        "            topic = response['response'].strip().strip('\"').split('\\n')[0]\n",
        "            batch_topics.append(topic)\n",
        "        except Exception as e:\n",
        "            print(f\"\\nОшибка при обработке кластера: {e}\")\n",
        "            batch_topics.append(\"Не определена\")\n",
        "    \n",
        "    return batch_topics\n",
        "\n",
        "# 3. Функция для батч-обработки\n",
        "def process_in_batches(df, batch_size=5):\n",
        "    \"\"\"Обрабатывает DataFrame батчами\"\"\"\n",
        "    all_topics = []\n",
        "    total_batches = len(df) // batch_size + (1 if len(df) % batch_size else 0)\n",
        "    \n",
        "    for i in tqdm(range(0, len(df), batch_size), total=total_batches, desc=\"Обработка кластеров\"):\n",
        "        batch = df['text'].iloc[i:i+batch_size].tolist()\n",
        "        batch_topics = process_batch(batch)\n",
        "        all_topics.extend(batch_topics)\n",
        "        time.sleep(1)  # небольшая пауза между батчами\n",
        "        \n",
        "    return all_topics"
      ]
    },
    {
      "cell_type": "code",
      "execution_count": 72,
      "metadata": {},
      "outputs": [
        {
          "name": "stderr",
          "output_type": "stream",
          "text": [
            "Обработка кластеров: 100%|██████████| 34/34 [06:52<00:00, 12.14s/it]\n"
          ]
        }
      ],
      "source": [
        "clusters['topic'] = process_in_batches(clusters)"
      ]
    },
    {
      "cell_type": "code",
      "execution_count": 70,
      "metadata": {},
      "outputs": [
        {
          "data": {
            "text/html": [
              "<div>\n",
              "<style scoped>\n",
              "    .dataframe tbody tr th:only-of-type {\n",
              "        vertical-align: middle;\n",
              "    }\n",
              "\n",
              "    .dataframe tbody tr th {\n",
              "        vertical-align: top;\n",
              "    }\n",
              "\n",
              "    .dataframe thead th {\n",
              "        text-align: right;\n",
              "    }\n",
              "</style>\n",
              "<table border=\"1\" class=\"dataframe\">\n",
              "  <thead>\n",
              "    <tr style=\"text-align: right;\">\n",
              "      <th></th>\n",
              "      <th>n_claster</th>\n",
              "      <th>text</th>\n",
              "      <th>topic</th>\n",
              "    </tr>\n",
              "  </thead>\n",
              "  <tbody>\n",
              "    <tr>\n",
              "      <th>0</th>\n",
              "      <td>0.0</td>\n",
              "      <td>[Коллеги, добры день, за советом. \\nВзяли РК, ...</td>\n",
              "      <td>Маркетинг и реклама</td>\n",
              "    </tr>\n",
              "    <tr>\n",
              "      <th>1</th>\n",
              "      <td>1.0</td>\n",
              "      <td>[Ребят, привет!\\n\\nМожет кто знает, участвовал...</td>\n",
              "      <td>Игры (RPG)</td>\n",
              "    </tr>\n",
              "    <tr>\n",
              "      <th>2</th>\n",
              "      <td>2.0</td>\n",
              "      <td>[А пока я одну расскажу\\n\\nРоскомнадзор будет ...</td>\n",
              "      <td>Мониторинг и контроль граждан</td>\n",
              "    </tr>\n",
              "    <tr>\n",
              "      <th>3</th>\n",
              "      <td>3.0</td>\n",
              "      <td>[, Чувствую этот запах), Как будто там огонь п...</td>\n",
              "      <td>Ностальгия по компьютерам и интернету 90-х годов.</td>\n",
              "    </tr>\n",
              "    <tr>\n",
              "      <th>4</th>\n",
              "      <td>4.0</td>\n",
              "      <td>[Правило действительно хорошее, думаю последую...</td>\n",
              "      <td>Бизнес/Продвижение</td>\n",
              "    </tr>\n",
              "    <tr>\n",
              "      <th>...</th>\n",
              "      <td>...</td>\n",
              "      <td>...</td>\n",
              "      <td>...</td>\n",
              "    </tr>\n",
              "    <tr>\n",
              "      <th>162</th>\n",
              "      <td>207.0</td>\n",
              "      <td>[Тут надо аккуратней силы рассчитывать, а то к...</td>\n",
              "      <td>Финансы/Бюджет</td>\n",
              "    </tr>\n",
              "    <tr>\n",
              "      <th>163</th>\n",
              "      <td>208.0</td>\n",
              "      <td>[То есть половина данных потеряется, а может и...</td>\n",
              "      <td>Данные/информация</td>\n",
              "    </tr>\n",
              "    <tr>\n",
              "      <th>164</th>\n",
              "      <td>213.0</td>\n",
              "      <td>[Хочешь отучиться?]</td>\n",
              "      <td>Образование</td>\n",
              "    </tr>\n",
              "    <tr>\n",
              "      <th>165</th>\n",
              "      <td>222.0</td>\n",
              "      <td>[Площадку добавляли (вк) или она сама туда поп...</td>\n",
              "      <td>Вопросы о социальных сетях</td>\n",
              "    </tr>\n",
              "    <tr>\n",
              "      <th>166</th>\n",
              "      <td>244.0</td>\n",
              "      <td>[Спасибо. Посмотрю)]</td>\n",
              "      <td>Вопрос/Ответ</td>\n",
              "    </tr>\n",
              "  </tbody>\n",
              "</table>\n",
              "<p>167 rows × 3 columns</p>\n",
              "</div>"
            ],
            "text/plain": [
              "     n_claster                                               text  \\\n",
              "0          0.0  [Коллеги, добры день, за советом. \\nВзяли РК, ...   \n",
              "1          1.0  [Ребят, привет!\\n\\nМожет кто знает, участвовал...   \n",
              "2          2.0  [А пока я одну расскажу\\n\\nРоскомнадзор будет ...   \n",
              "3          3.0  [, Чувствую этот запах), Как будто там огонь п...   \n",
              "4          4.0  [Правило действительно хорошее, думаю последую...   \n",
              "..         ...                                                ...   \n",
              "162      207.0  [Тут надо аккуратней силы рассчитывать, а то к...   \n",
              "163      208.0  [То есть половина данных потеряется, а может и...   \n",
              "164      213.0                                [Хочешь отучиться?]   \n",
              "165      222.0  [Площадку добавляли (вк) или она сама туда поп...   \n",
              "166      244.0                               [Спасибо. Посмотрю)]   \n",
              "\n",
              "                                                 topic  \n",
              "0                                  Маркетинг и реклама  \n",
              "1                                           Игры (RPG)  \n",
              "2                        Мониторинг и контроль граждан  \n",
              "3    Ностальгия по компьютерам и интернету 90-х годов.  \n",
              "4                                   Бизнес/Продвижение  \n",
              "..                                                 ...  \n",
              "162                                     Финансы/Бюджет  \n",
              "163                                  Данные/информация  \n",
              "164                                        Образование  \n",
              "165                         Вопросы о социальных сетях  \n",
              "166                                       Вопрос/Ответ  \n",
              "\n",
              "[167 rows x 3 columns]"
            ]
          },
          "execution_count": 70,
          "metadata": {},
          "output_type": "execute_result"
        }
      ],
      "source": [
        "clusters"
      ]
    },
    {
      "cell_type": "code",
      "execution_count": 73,
      "metadata": {},
      "outputs": [
        {
          "data": {
            "text/html": [
              "<div>\n",
              "<style scoped>\n",
              "    .dataframe tbody tr th:only-of-type {\n",
              "        vertical-align: middle;\n",
              "    }\n",
              "\n",
              "    .dataframe tbody tr th {\n",
              "        vertical-align: top;\n",
              "    }\n",
              "\n",
              "    .dataframe thead th {\n",
              "        text-align: right;\n",
              "    }\n",
              "</style>\n",
              "<table border=\"1\" class=\"dataframe\">\n",
              "  <thead>\n",
              "    <tr style=\"text-align: right;\">\n",
              "      <th></th>\n",
              "      <th>n_claster</th>\n",
              "      <th>text</th>\n",
              "      <th>topic</th>\n",
              "    </tr>\n",
              "  </thead>\n",
              "  <tbody>\n",
              "    <tr>\n",
              "      <th>0</th>\n",
              "      <td>0.0</td>\n",
              "      <td>[Коллеги, добры день, за советом. \\nВзяли РК, ...</td>\n",
              "      <td>Маркетинг/Реклама</td>\n",
              "    </tr>\n",
              "    <tr>\n",
              "      <th>1</th>\n",
              "      <td>1.0</td>\n",
              "      <td>[Ребят, привет!\\n\\nМожет кто знает, участвовал...</td>\n",
              "      <td>Игры</td>\n",
              "    </tr>\n",
              "    <tr>\n",
              "      <th>2</th>\n",
              "      <td>2.0</td>\n",
              "      <td>[А пока я одну расскажу\\n\\nРоскомнадзор будет ...</td>\n",
              "      <td>Битрикс</td>\n",
              "    </tr>\n",
              "    <tr>\n",
              "      <th>3</th>\n",
              "      <td>3.0</td>\n",
              "      <td>[, Чувствую этот запах), Как будто там огонь п...</td>\n",
              "      <td>Технологии</td>\n",
              "    </tr>\n",
              "    <tr>\n",
              "      <th>4</th>\n",
              "      <td>4.0</td>\n",
              "      <td>[Правило действительно хорошее, думаю последую...</td>\n",
              "      <td>Бизнес</td>\n",
              "    </tr>\n",
              "    <tr>\n",
              "      <th>...</th>\n",
              "      <td>...</td>\n",
              "      <td>...</td>\n",
              "      <td>...</td>\n",
              "    </tr>\n",
              "    <tr>\n",
              "      <th>162</th>\n",
              "      <td>207.0</td>\n",
              "      <td>[Тут надо аккуратней силы рассчитывать, а то к...</td>\n",
              "      <td>Финансы</td>\n",
              "    </tr>\n",
              "    <tr>\n",
              "      <th>163</th>\n",
              "      <td>208.0</td>\n",
              "      <td>[То есть половина данных потеряется, а может и...</td>\n",
              "      <td>Data Loss</td>\n",
              "    </tr>\n",
              "    <tr>\n",
              "      <th>164</th>\n",
              "      <td>213.0</td>\n",
              "      <td>[Хочешь отучиться?]</td>\n",
              "      <td>Учение</td>\n",
              "    </tr>\n",
              "    <tr>\n",
              "      <th>165</th>\n",
              "      <td>222.0</td>\n",
              "      <td>[Площадку добавляли (вк) или она сама туда поп...</td>\n",
              "      <td>ВК</td>\n",
              "    </tr>\n",
              "    <tr>\n",
              "      <th>166</th>\n",
              "      <td>244.0</td>\n",
              "      <td>[Спасибо. Посмотрю)]</td>\n",
              "      <td>Видео</td>\n",
              "    </tr>\n",
              "  </tbody>\n",
              "</table>\n",
              "<p>167 rows × 3 columns</p>\n",
              "</div>"
            ],
            "text/plain": [
              "     n_claster                                               text  \\\n",
              "0          0.0  [Коллеги, добры день, за советом. \\nВзяли РК, ...   \n",
              "1          1.0  [Ребят, привет!\\n\\nМожет кто знает, участвовал...   \n",
              "2          2.0  [А пока я одну расскажу\\n\\nРоскомнадзор будет ...   \n",
              "3          3.0  [, Чувствую этот запах), Как будто там огонь п...   \n",
              "4          4.0  [Правило действительно хорошее, думаю последую...   \n",
              "..         ...                                                ...   \n",
              "162      207.0  [Тут надо аккуратней силы рассчитывать, а то к...   \n",
              "163      208.0  [То есть половина данных потеряется, а может и...   \n",
              "164      213.0                                [Хочешь отучиться?]   \n",
              "165      222.0  [Площадку добавляли (вк) или она сама туда поп...   \n",
              "166      244.0                               [Спасибо. Посмотрю)]   \n",
              "\n",
              "                 topic  \n",
              "0    Маркетинг/Реклама  \n",
              "1                 Игры  \n",
              "2              Битрикс  \n",
              "3           Технологии  \n",
              "4               Бизнес  \n",
              "..                 ...  \n",
              "162            Финансы  \n",
              "163          Data Loss  \n",
              "164             Учение  \n",
              "165                 ВК  \n",
              "166              Видео  \n",
              "\n",
              "[167 rows x 3 columns]"
            ]
          },
          "execution_count": 73,
          "metadata": {},
          "output_type": "execute_result"
        }
      ],
      "source": [
        "clusters"
      ]
    },
    {
      "cell_type": "markdown",
      "metadata": {},
      "source": [
        "## Ключевые слова"
      ]
    },
    {
      "cell_type": "code",
      "execution_count": 80,
      "metadata": {},
      "outputs": [
        {
          "data": {
            "text/plain": [
              "['Ребят, привет!\\n\\nМожет кто знает, участвовал в челленджах/соревнованиях для маркетологов?\\nа то у программистов целая куча этих соревнований, аж завидно',\n",
              " 'Интересно. А в чем собственно сложность? Слишком мало мест? Отбор? Или иные факторы?',\n",
              " 'Привет, Влад. Предлагаю самим запустить хакатон',\n",
              " 'Хахатон запустите',\n",
              " 'Запускаю, кручу верчу, запутать хочу хахахаха 😀',\n",
              " 'Ахалай Махалай Ляськи Масяськи?',\n",
              " 'И если не дунуть - то чуда не произойдет?',\n",
              " 'Крутите барабан 😁',\n",
              " [{'type': 'bold',\n",
              "   'text': '⚡️ Kingdom Come: Deliverance 2 ВЫШЛА сразу на торрентах '},\n",
              "  '— в релизе нет антипиратской защиты, поэтому средневековая GTA уже ждёт в ',\n",
              "  {'type': 'bold', 'text': '«зелёном стиме»'},\n",
              "  '.\\n\\nИгру называют ЛУЧШЕЙ RPG года — она залутала безумные 87 баллов на Metacritic. Хвалят качественные квесты, кинематографичность, эпичную историю и глубоко детализованный средневековый мир.\\n\\nВнутри много хардкорных боёв, реки крови, расчленёнка и красивые дамы. А еще Kingdom Come: Deliverance 2 отлично оптимизирована и ',\n",
              "  {'type': 'bold', 'text': 'летает даже на СЛАБЫХ ПК. '},\n",
              "  '\\n\\nКачаем. \\n\\nКто нибудь в курсе за это дело?'],\n",
              " 'Первая часть была супер, уверен, вторая тоже супер) \\nна ютьюб стримы идут, можешь посмотреть',\n",
              " 'На рутьюбе ща даже конкурс по ворлд оф тенкс, раз они про духовность всего 400 человек подписаны то думаю может танки начать стримить',\n",
              " 'Спасибо тебе мил человек 🙌🏻',\n",
              " 'Но это прям зашквар же жуть',\n",
              " 'Скачал блин',\n",
              " 'Так, а зачем ты решил ее себе поставить? Пока не удалили типа?',\n",
              " 'Кого? Игрушку?',\n",
              " 'Блин, я думал ты решил китайскую нейросетку у себя развернуть',\n",
              " 'Ахах',\n",
              " 'Чтобы средневековым дамам читать поэмы и отрубать врагам головы.',\n",
              " 'Ну вот чего тебя потянуло на это не понимаю, пройди еще раз Ведьмака',\n",
              " 'Я уже два раза проходил.',\n",
              " 'Новые обои?',\n",
              " 'Ну или Скайрим поставить, точно такого не будет, стабильный как не знаю что',\n",
              " 'Тоже уже давно, неинтересно.',\n",
              " '',\n",
              " 'Ахаха',\n",
              " '',\n",
              " 'Что мне нужно лицензию Скайрима заиметь.',\n",
              " '',\n",
              " '',\n",
              " '',\n",
              " '',\n",
              " '',\n",
              " '',\n",
              " 'В общем идеальный стикерпак',\n",
              " 'Согласен',\n",
              " 'Нет, ты правда думаешь кто-то будет слушать?',\n",
              " 'Хорошо, что у меня всегда в рюкзаке с собой флешки с виндой лежат',\n",
              " 'Да',\n",
              " 'Со Скайримом?',\n",
              " 'Квэк4',\n",
              " 'Одна с виндой вторая с ведьмаком, третья со Скайримом',\n",
              " '',\n",
              " 'Шутки в сторону, че там в стиме за нее просят',\n",
              " 'Ты знаешь, я бы посмотрел.',\n",
              " '',\n",
              " 'Может быть моник у тебя недостаточно широкоформатный?',\n",
              " 'Ты тоже хочешь читать сонеты дамам и отрубать врагам головы? И чтобы за это ничего не было?',\n",
              " 'Можно я просто буду вести себя как в Ведьмаке и отрубать всем-всем головы?',\n",
              " 'Там всем всем нельзя',\n",
              " 'Я про монитор.',\n",
              " 'Уговорил, не буду брать пока моды не сделают на отрубание всего и всем, пока Скайрим куплю еще раз',\n",
              " 'Ганметал',\n",
              " 'Зачем тебе девушка, если у тебя есть Скайрим.']"
            ]
          },
          "execution_count": 80,
          "metadata": {},
          "output_type": "execute_result"
        }
      ],
      "source": [
        "clusters['text'][1]"
      ]
    },
    {
      "cell_type": "code",
      "execution_count": 98,
      "metadata": {},
      "outputs": [
        {
          "name": "stdout",
          "output_type": "stream",
          "text": [
            "Реклама, Яндекс Директ, метрика, CRM, сайт, интернет-магазин, кабели, электричество, бюдж, конверсия, CTR, маркетинг, реклама в интернете, targeting, аудитория.\n"
          ]
        }
      ],
      "source": [
        "filtered_messages = clusters['text'][0]\n",
        "messages = \"\\n\".join([str(msg) if not isinstance(msg, str) else msg for msg in filtered_messages])\n",
        "\n",
        "prompt = f\"\"\"\n",
        "        [Инструкция]\n",
        "        Проанализируй следующие сообщения из чата и выдели ровно 10 самых релевантных ключевых слов, \n",
        "        которые лучше всего характеризуют общую тему диалога. Слова должны быть:\n",
        "        - существительными или короткими фразами (2-3 слова)\n",
        "        - на русском языке\n",
        "        - разделены запятыми\n",
        "        - без кавычек и точек\n",
        "        - без пояснений и дополнительного текста\n",
        "\n",
        "        [Пример правильного ответа]\n",
        "        маркетинг, реклама, Яндекс Директ, настройка, объявления, аудитория, таргетинг, бюджет, конверсия, CTR\n",
        "\n",
        "        [Сообщения для анализа]\n",
        "        {messages}\n",
        "\n",
        "            \"\"\"\n",
        "\n",
        "response = ollama.generate(model=\"llama3:8b\", prompt=prompt)\n",
        "print(response['response'])"
      ]
    },
    {
      "cell_type": "code",
      "execution_count": 104,
      "metadata": {},
      "outputs": [],
      "source": [
        "def process_batch_words(batch_messages):\n",
        "    \"\"\"Обрабатывает батч из 5 сообщений и возвращает списки ключевых слов\"\"\"\n",
        "    batch_topics = []\n",
        "    for messages in batch_messages:\n",
        "        if isinstance(messages, list):\n",
        "            processed_text = ' '.join([str(item) if not isinstance(item, dict) else item.get('text', '') \n",
        "                                    for item in messages])\n",
        "        else:\n",
        "            processed_text = str(messages)\n",
        "\n",
        "        prompt = f\"\"\"\n",
        "        [Инструкция]\n",
        "        Анализируй сообщения и строго верни ровно 10 ключевых слов через запятую.\n",
        "        Требования:\n",
        "        1. Ровно 10 слов/фраз\n",
        "        2. Только существительные или словосочетания (2-3 слова)\n",
        "        3. Разделитель: запятая\n",
        "        4. Без точек, кавычек, номеров и пояснений\n",
        "        5. Если слов меньше 10 - дополни список общими словами из темы\n",
        "\n",
        "        [Пример]\n",
        "        маркетинг, реклама, Яндекс Директ, настройка, объявления, аудитория, таргетинг, бюджет, конверсия, CTR\n",
        "\n",
        "        [Сообщения]\n",
        "        {processed_text}\n",
        "\n",
        "        [Ответ]\n",
        "        \"\"\"\n",
        "        \n",
        "        try:\n",
        "            response = ollama.generate(\n",
        "                model=\"llama3:8b\",\n",
        "                prompt=prompt,\n",
        "                options={'temperature': 0.3}\n",
        "            )\n",
        "            topic = response['response'].strip().strip('\"').split('\\n')[0]\n",
        "            batch_topics.append(topic)\n",
        "        except Exception as e:\n",
        "            print(f\"\\nОшибка при обработке кластера: {e}\")\n",
        "            batch_topics.append(\"Не определена\")\n",
        "    \n",
        "    return batch_topics\n",
        "    \n",
        " \n",
        "# 3. Функция для батч-обработки\n",
        "def process_in_batches_words(df, batch_size=5):\n",
        "    \"\"\"Обрабатывает DataFrame батчами\"\"\"\n",
        "    all_topics = []\n",
        "    total_batches = len(df) // batch_size + (1 if len(df) % batch_size else 0)\n",
        "    \n",
        "    for i in tqdm(range(0, len(df), batch_size), total=total_batches, desc=\"Обработка кластеров\"):\n",
        "        batch = df['text'].iloc[i:i+batch_size].tolist()\n",
        "        batch_topics = process_batch_words(batch)\n",
        "        all_topics.extend(batch_topics)\n",
        "        time.sleep(1)  # небольшая пауза между батчами\n",
        "        \n",
        "    return all_topics"
      ]
    },
    {
      "cell_type": "code",
      "execution_count": null,
      "metadata": {},
      "outputs": [
        {
          "data": {
            "text/html": [
              "<div>\n",
              "<style scoped>\n",
              "    .dataframe tbody tr th:only-of-type {\n",
              "        vertical-align: middle;\n",
              "    }\n",
              "\n",
              "    .dataframe tbody tr th {\n",
              "        vertical-align: top;\n",
              "    }\n",
              "\n",
              "    .dataframe thead th {\n",
              "        text-align: right;\n",
              "    }\n",
              "</style>\n",
              "<table border=\"1\" class=\"dataframe\">\n",
              "  <thead>\n",
              "    <tr style=\"text-align: right;\">\n",
              "      <th></th>\n",
              "      <th>n_claster</th>\n",
              "      <th>text</th>\n",
              "      <th>topic</th>\n",
              "      <th>words</th>\n",
              "    </tr>\n",
              "  </thead>\n",
              "  <tbody>\n",
              "    <tr>\n",
              "      <th>1</th>\n",
              "      <td>1.0</td>\n",
              "      <td>[Ребят, привет!\\n\\nМожет кто знает, участвовал...</td>\n",
              "      <td>Игры</td>\n",
              "      <td>Гейминг</td>\n",
              "    </tr>\n",
              "    <tr>\n",
              "      <th>2</th>\n",
              "      <td>2.0</td>\n",
              "      <td>[А пока я одну расскажу\\n\\nРоскомнадзор будет ...</td>\n",
              "      <td>Битрикс</td>\n",
              "      <td>Битрикс</td>\n",
              "    </tr>\n",
              "    <tr>\n",
              "      <th>3</th>\n",
              "      <td>3.0</td>\n",
              "      <td>[, Чувствую этот запах), Как будто там огонь п...</td>\n",
              "      <td>Технологии</td>\n",
              "      <td>Технологии</td>\n",
              "    </tr>\n",
              "    <tr>\n",
              "      <th>4</th>\n",
              "      <td>4.0</td>\n",
              "      <td>[Правило действительно хорошее, думаю последую...</td>\n",
              "      <td>Бизнес</td>\n",
              "      <td>Бизнес</td>\n",
              "    </tr>\n",
              "    <tr>\n",
              "      <th>5</th>\n",
              "      <td>5.0</td>\n",
              "      <td>[Добрый день. Демон версию нельзя посмотреть, ...</td>\n",
              "      <td>Социальные сети</td>\n",
              "      <td>Друзья</td>\n",
              "    </tr>\n",
              "  </tbody>\n",
              "</table>\n",
              "</div>"
            ],
            "text/plain": [
              "   n_claster                                               text  \\\n",
              "1        1.0  [Ребят, привет!\\n\\nМожет кто знает, участвовал...   \n",
              "2        2.0  [А пока я одну расскажу\\n\\nРоскомнадзор будет ...   \n",
              "3        3.0  [, Чувствую этот запах), Как будто там огонь п...   \n",
              "4        4.0  [Правило действительно хорошее, думаю последую...   \n",
              "5        5.0  [Добрый день. Демон версию нельзя посмотреть, ...   \n",
              "\n",
              "             topic       words  \n",
              "1             Игры     Гейминг  \n",
              "2          Битрикс     Битрикс  \n",
              "3       Технологии  Технологии  \n",
              "4           Бизнес      Бизнес  \n",
              "5  Социальные сети      Друзья  "
            ]
          },
          "execution_count": 95,
          "metadata": {},
          "output_type": "execute_result"
        }
      ],
      "source": [
        "clusters.iloc[1:6]"
      ]
    },
    {
      "cell_type": "code",
      "execution_count": 105,
      "metadata": {},
      "outputs": [
        {
          "name": "stderr",
          "output_type": "stream",
          "text": [
            "Обработка кластеров: 100%|██████████| 1/1 [00:47<00:00, 47.68s/it]\n"
          ]
        },
        {
          "data": {
            "text/plain": [
              "['маркетинг, реклама, соревнования, хакатон, игры, RPG, мета-критик, оптимизация, компьютеры, лицензия',\n",
              " 'информация, данные, аудитория, таргетинг, бюджет, конверсия, CTR, реклама, маркетинг, Роскомнадзор',\n",
              " 'маркетинг, реклама, Яндекс Директ, настройка, объявления, аудитория, таргетинг, бюджет, конверсия, компьютер',\n",
              " 'маркетинг, реклама, Яндекс Директ, настройка, объявления, аудитория, таргетинг, бюджет, конверсия, CTR',\n",
              " 'маркетинг, реклама, Яндекс Директ, настройка, объявления, аудитория, таргетинг, бюджет, конверсия, потребности']"
            ]
          },
          "execution_count": 105,
          "metadata": {},
          "output_type": "execute_result"
        }
      ],
      "source": [
        "fff = process_in_batches_words(clusters.iloc[1:6])\n",
        "fff"
      ]
    },
    {
      "cell_type": "code",
      "execution_count": 106,
      "metadata": {},
      "outputs": [
        {
          "name": "stderr",
          "output_type": "stream",
          "text": [
            "Обработка кластеров: 100%|██████████| 34/34 [21:23<00:00, 37.76s/it]\n"
          ]
        }
      ],
      "source": [
        "clusters['words'] = process_in_batches_words(clusters)"
      ]
    },
    {
      "cell_type": "code",
      "execution_count": 109,
      "metadata": {},
      "outputs": [
        {
          "data": {
            "text/html": [
              "<div>\n",
              "<style scoped>\n",
              "    .dataframe tbody tr th:only-of-type {\n",
              "        vertical-align: middle;\n",
              "    }\n",
              "\n",
              "    .dataframe tbody tr th {\n",
              "        vertical-align: top;\n",
              "    }\n",
              "\n",
              "    .dataframe thead th {\n",
              "        text-align: right;\n",
              "    }\n",
              "</style>\n",
              "<table border=\"1\" class=\"dataframe\">\n",
              "  <thead>\n",
              "    <tr style=\"text-align: right;\">\n",
              "      <th></th>\n",
              "      <th>n_claster</th>\n",
              "      <th>text</th>\n",
              "      <th>topic</th>\n",
              "      <th>words</th>\n",
              "    </tr>\n",
              "  </thead>\n",
              "  <tbody>\n",
              "    <tr>\n",
              "      <th>0</th>\n",
              "      <td>0.0</td>\n",
              "      <td>[Коллеги, добры день, за советом. \\nВзяли РК, ...</td>\n",
              "      <td>Маркетинг/Реклама</td>\n",
              "      <td>маркетинг, реклама, Яндекс Директ, настройка, ...</td>\n",
              "    </tr>\n",
              "    <tr>\n",
              "      <th>1</th>\n",
              "      <td>1.0</td>\n",
              "      <td>[Ребят, привет!\\n\\nМожет кто знает, участвовал...</td>\n",
              "      <td>Игры</td>\n",
              "      <td>маркетинг, реклама, соревнования, хакатон, игр...</td>\n",
              "    </tr>\n",
              "    <tr>\n",
              "      <th>2</th>\n",
              "      <td>2.0</td>\n",
              "      <td>[А пока я одну расскажу\\n\\nРоскомнадзор будет ...</td>\n",
              "      <td>Битрикс</td>\n",
              "      <td>информация, данные, аудитория, безопасность, к...</td>\n",
              "    </tr>\n",
              "    <tr>\n",
              "      <th>3</th>\n",
              "      <td>3.0</td>\n",
              "      <td>[, Чувствую этот запах), Как будто там огонь п...</td>\n",
              "      <td>Технологии</td>\n",
              "      <td>компьютер, комплектация, система, мусор, поряд...</td>\n",
              "    </tr>\n",
              "    <tr>\n",
              "      <th>4</th>\n",
              "      <td>4.0</td>\n",
              "      <td>[Правило действительно хорошее, думаю последую...</td>\n",
              "      <td>Бизнес</td>\n",
              "      <td>маркетинг, реклама, Яндекс Директ, настройка, ...</td>\n",
              "    </tr>\n",
              "    <tr>\n",
              "      <th>...</th>\n",
              "      <td>...</td>\n",
              "      <td>...</td>\n",
              "      <td>...</td>\n",
              "      <td>...</td>\n",
              "    </tr>\n",
              "    <tr>\n",
              "      <th>162</th>\n",
              "      <td>207.0</td>\n",
              "      <td>[Тут надо аккуратней силы рассчитывать, а то к...</td>\n",
              "      <td>Финансы</td>\n",
              "      <td>сила, пенсия, страхование, деньги, будущее, пл...</td>\n",
              "    </tr>\n",
              "    <tr>\n",
              "      <th>163</th>\n",
              "      <td>208.0</td>\n",
              "      <td>[То есть половина данных потеряется, а может и...</td>\n",
              "      <td>Data Loss</td>\n",
              "      <td>данные, потеря, информация, половина, ничего, ...</td>\n",
              "    </tr>\n",
              "    <tr>\n",
              "      <th>164</th>\n",
              "      <td>213.0</td>\n",
              "      <td>[Хочешь отучиться?]</td>\n",
              "      <td>Учение</td>\n",
              "      <td>образование, обучение, методы, программы, курс...</td>\n",
              "    </tr>\n",
              "    <tr>\n",
              "      <th>165</th>\n",
              "      <td>222.0</td>\n",
              "      <td>[Площадку добавляли (вк) или она сама туда поп...</td>\n",
              "      <td>ВК</td>\n",
              "      <td>социальные, платформы, площадка, добавление, к...</td>\n",
              "    </tr>\n",
              "    <tr>\n",
              "      <th>166</th>\n",
              "      <td>244.0</td>\n",
              "      <td>[Спасибо. Посмотрю)]</td>\n",
              "      <td>Видео</td>\n",
              "      <td>сообщение, ответ, благодарность, спасибо, посм...</td>\n",
              "    </tr>\n",
              "  </tbody>\n",
              "</table>\n",
              "<p>167 rows × 4 columns</p>\n",
              "</div>"
            ],
            "text/plain": [
              "     n_claster                                               text  \\\n",
              "0          0.0  [Коллеги, добры день, за советом. \\nВзяли РК, ...   \n",
              "1          1.0  [Ребят, привет!\\n\\nМожет кто знает, участвовал...   \n",
              "2          2.0  [А пока я одну расскажу\\n\\nРоскомнадзор будет ...   \n",
              "3          3.0  [, Чувствую этот запах), Как будто там огонь п...   \n",
              "4          4.0  [Правило действительно хорошее, думаю последую...   \n",
              "..         ...                                                ...   \n",
              "162      207.0  [Тут надо аккуратней силы рассчитывать, а то к...   \n",
              "163      208.0  [То есть половина данных потеряется, а может и...   \n",
              "164      213.0                                [Хочешь отучиться?]   \n",
              "165      222.0  [Площадку добавляли (вк) или она сама туда поп...   \n",
              "166      244.0                               [Спасибо. Посмотрю)]   \n",
              "\n",
              "                 topic                                              words  \n",
              "0    Маркетинг/Реклама  маркетинг, реклама, Яндекс Директ, настройка, ...  \n",
              "1                 Игры  маркетинг, реклама, соревнования, хакатон, игр...  \n",
              "2              Битрикс  информация, данные, аудитория, безопасность, к...  \n",
              "3           Технологии  компьютер, комплектация, система, мусор, поряд...  \n",
              "4               Бизнес  маркетинг, реклама, Яндекс Директ, настройка, ...  \n",
              "..                 ...                                                ...  \n",
              "162            Финансы  сила, пенсия, страхование, деньги, будущее, пл...  \n",
              "163          Data Loss  данные, потеря, информация, половина, ничего, ...  \n",
              "164             Учение  образование, обучение, методы, программы, курс...  \n",
              "165                 ВК  социальные, платформы, площадка, добавление, к...  \n",
              "166              Видео  сообщение, ответ, благодарность, спасибо, посм...  \n",
              "\n",
              "[167 rows x 4 columns]"
            ]
          },
          "execution_count": 109,
          "metadata": {},
          "output_type": "execute_result"
        }
      ],
      "source": [
        "clusters"
      ]
    },
    {
      "cell_type": "markdown",
      "metadata": {},
      "source": [
        "## Суть диалога"
      ]
    },
    {
      "cell_type": "code",
      "execution_count": null,
      "metadata": {},
      "outputs": [],
      "source": [
        "def process_batch_idea(batch_messages):\n",
        "    \"\"\"Обрабатывает батч из 5 сообщений и возвращает списки ключевых слов\"\"\"\n",
        "    batch_topics = []\n",
        "    for messages in batch_messages:\n",
        "        if isinstance(messages, list):\n",
        "            processed_text = ' '.join([str(item) if not isinstance(item, dict) else item.get('text', '') \n",
        "                                    for item in messages])\n",
        "        else:\n",
        "            processed_text = str(messages)\n",
        "\n",
        "        prompt = f\"\"\"\n",
        "        [Инструкция]\n",
        "        Проанализируй следующие сообщения из чата и выдели главную мысль этого диалога, \n",
        "        напиши главную мысль на руском языке в виде 1-3 предложений. \n",
        "        Предложения должны быть:\n",
        "        - на русском языке\n",
        "        - без ковычек\n",
        "        - без пояснений и дополнительного текста\n",
        "\n",
        "        [Сообщения для анализа]\n",
        "        {processed_text}\n",
        "\n",
        "            \"\"\"\n",
        "        \n",
        "        try:\n",
        "            response = ollama.generate(\n",
        "                model=\"llama3:8b\",\n",
        "                prompt=prompt,\n",
        "                options={'temperature': 0.3}\n",
        "            )\n",
        "            topic = response['response'].strip().strip('\"').split('\\n')[0]\n",
        "            batch_topics.append(topic)\n",
        "        except Exception as e:\n",
        "            print(f\"\\nОшибка при обработке кластера: {e}\")\n",
        "            batch_topics.append(\"Не определена\")\n",
        "    \n",
        "    return batch_topics\n",
        "    \n",
        " \n",
        "# 3. Функция для батч-обработки\n",
        "def process_in_batches_idea(df, batch_size=5):\n",
        "    \"\"\"Обрабатывает DataFrame батчами\"\"\"\n",
        "    all_topics = []\n",
        "    total_batches = len(df) // batch_size + (1 if len(df) % batch_size else 0)\n",
        "    \n",
        "    for i in tqdm(range(0, len(df), batch_size), total=total_batches, desc=\"Обработка кластеров\"):\n",
        "        batch = df['text'].iloc[i:i+batch_size].tolist()\n",
        "        batch_topics = process_batch_idea(batch)\n",
        "        all_topics.extend(batch_topics)\n",
        "        time.sleep(1)  # небольшая пауза между батчами\n",
        "        \n",
        "    return all_topics"
      ]
    },
    {
      "cell_type": "code",
      "execution_count": 73,
      "metadata": {},
      "outputs": [
        {
          "name": "stderr",
          "output_type": "stream",
          "text": [
            "Обработка кластеров: 100%|██████████| 1/1 [00:43<00:00, 43.64s/it]\n"
          ]
        },
        {
          "data": {
            "text/plain": [
              "['Главная мысль диалога: \"Маркетологи нуждаются в соревнованиях и хакатонах, чтобы развивать свои навыки\".']"
            ]
          },
          "execution_count": 73,
          "metadata": {},
          "output_type": "execute_result"
        }
      ],
      "source": [
        "fff = process_in_batches_idea(clusters.iloc[1:2])\n",
        "fff"
      ]
    },
    {
      "cell_type": "code",
      "execution_count": 74,
      "metadata": {},
      "outputs": [
        {
          "name": "stderr",
          "output_type": "stream",
          "text": [
            "Обработка кластеров: 100%|██████████| 34/34 [35:19<00:00, 62.34s/it]  \n"
          ]
        }
      ],
      "source": [
        "clusters['idea'] = process_in_batches_idea(clusters)"
      ]
    },
    {
      "cell_type": "code",
      "execution_count": 76,
      "metadata": {},
      "outputs": [
        {
          "name": "stdout",
          "output_type": "stream",
          "text": [
            "Файл успешно сохранён: clusters.xlsx\n"
          ]
        }
      ],
      "source": [
        "# Экспорт DataFrame в Excel файл\n",
        "clusters.to_excel('clusters.xlsx', index=False, engine='openpyxl')\n",
        "\n",
        "print(\"Файл успешно сохранён: clusters.xlsx\")"
      ]
    },
    {
      "cell_type": "code",
      "execution_count": 75,
      "metadata": {},
      "outputs": [
        {
          "data": {
            "text/html": [
              "<div>\n",
              "<style scoped>\n",
              "    .dataframe tbody tr th:only-of-type {\n",
              "        vertical-align: middle;\n",
              "    }\n",
              "\n",
              "    .dataframe tbody tr th {\n",
              "        vertical-align: top;\n",
              "    }\n",
              "\n",
              "    .dataframe thead th {\n",
              "        text-align: right;\n",
              "    }\n",
              "</style>\n",
              "<table border=\"1\" class=\"dataframe\">\n",
              "  <thead>\n",
              "    <tr style=\"text-align: right;\">\n",
              "      <th></th>\n",
              "      <th>n_claster</th>\n",
              "      <th>text</th>\n",
              "      <th>idea</th>\n",
              "    </tr>\n",
              "  </thead>\n",
              "  <tbody>\n",
              "    <tr>\n",
              "      <th>0</th>\n",
              "      <td>0.0</td>\n",
              "      <td>[Коллеги, добры день, за советом. \\nВзяли РК, ...</td>\n",
              "      <td>Главная мысль диалога:</td>\n",
              "    </tr>\n",
              "    <tr>\n",
              "      <th>1</th>\n",
              "      <td>1.0</td>\n",
              "      <td>[Ребят, привет!\\n\\nМожет кто знает, участвовал...</td>\n",
              "      <td>Главная мысль диалога: \"Ребят, привет!... Може...</td>\n",
              "    </tr>\n",
              "    <tr>\n",
              "      <th>2</th>\n",
              "      <td>2.0</td>\n",
              "      <td>[А пока я одну расскажу\\n\\nРоскомнадзор будет ...</td>\n",
              "      <td>Главная мысль диалога:</td>\n",
              "    </tr>\n",
              "    <tr>\n",
              "      <th>3</th>\n",
              "      <td>3.0</td>\n",
              "      <td>[, Чувствую этот запах), Как будто там огонь п...</td>\n",
              "      <td>Главная мысль диалога: Мы вспоминаем о старых ...</td>\n",
              "    </tr>\n",
              "    <tr>\n",
              "      <th>4</th>\n",
              "      <td>4.0</td>\n",
              "      <td>[Правило действительно хорошее, думаю последую...</td>\n",
              "      <td>Главная мысль диалога: Необходимо быть бдитель...</td>\n",
              "    </tr>\n",
              "    <tr>\n",
              "      <th>...</th>\n",
              "      <td>...</td>\n",
              "      <td>...</td>\n",
              "      <td>...</td>\n",
              "    </tr>\n",
              "    <tr>\n",
              "      <th>162</th>\n",
              "      <td>207.0</td>\n",
              "      <td>[Тут надо аккуратней силы рассчитывать, а то к...</td>\n",
              "      <td>Главная мысль: Необходимо тщательно планироват...</td>\n",
              "    </tr>\n",
              "    <tr>\n",
              "      <th>163</th>\n",
              "      <td>208.0</td>\n",
              "      <td>[То есть половина данных потеряется, а может и...</td>\n",
              "      <td>Главная мысль: Бывает лучше иметь не полную ин...</td>\n",
              "    </tr>\n",
              "    <tr>\n",
              "      <th>164</th>\n",
              "      <td>213.0</td>\n",
              "      <td>[Хочешь отучиться?]</td>\n",
              "      <td>Главная мысль: Необходимо начать процесс обуче...</td>\n",
              "    </tr>\n",
              "    <tr>\n",
              "      <th>165</th>\n",
              "      <td>222.0</td>\n",
              "      <td>[Площадку добавляли (вк) или она сама туда поп...</td>\n",
              "      <td>Главная мысль: Вопрос о том, кто добавил площа...</td>\n",
              "    </tr>\n",
              "    <tr>\n",
              "      <th>166</th>\n",
              "      <td>244.0</td>\n",
              "      <td>[Спасибо. Посмотрю)]</td>\n",
              "      <td>Главная мысль: Благодарность за что-то, которо...</td>\n",
              "    </tr>\n",
              "  </tbody>\n",
              "</table>\n",
              "<p>167 rows × 3 columns</p>\n",
              "</div>"
            ],
            "text/plain": [
              "     n_claster                                               text  \\\n",
              "0          0.0  [Коллеги, добры день, за советом. \\nВзяли РК, ...   \n",
              "1          1.0  [Ребят, привет!\\n\\nМожет кто знает, участвовал...   \n",
              "2          2.0  [А пока я одну расскажу\\n\\nРоскомнадзор будет ...   \n",
              "3          3.0  [, Чувствую этот запах), Как будто там огонь п...   \n",
              "4          4.0  [Правило действительно хорошее, думаю последую...   \n",
              "..         ...                                                ...   \n",
              "162      207.0  [Тут надо аккуратней силы рассчитывать, а то к...   \n",
              "163      208.0  [То есть половина данных потеряется, а может и...   \n",
              "164      213.0                                [Хочешь отучиться?]   \n",
              "165      222.0  [Площадку добавляли (вк) или она сама туда поп...   \n",
              "166      244.0                               [Спасибо. Посмотрю)]   \n",
              "\n",
              "                                                  idea  \n",
              "0                               Главная мысль диалога:  \n",
              "1    Главная мысль диалога: \"Ребят, привет!... Може...  \n",
              "2                               Главная мысль диалога:  \n",
              "3    Главная мысль диалога: Мы вспоминаем о старых ...  \n",
              "4    Главная мысль диалога: Необходимо быть бдитель...  \n",
              "..                                                 ...  \n",
              "162  Главная мысль: Необходимо тщательно планироват...  \n",
              "163  Главная мысль: Бывает лучше иметь не полную ин...  \n",
              "164  Главная мысль: Необходимо начать процесс обуче...  \n",
              "165  Главная мысль: Вопрос о том, кто добавил площа...  \n",
              "166  Главная мысль: Благодарность за что-то, которо...  \n",
              "\n",
              "[167 rows x 3 columns]"
            ]
          },
          "execution_count": 75,
          "metadata": {},
          "output_type": "execute_result"
        }
      ],
      "source": [
        "clusters"
      ]
    }
  ],
  "metadata": {
    "colab": {
      "collapsed_sections": [
        "o6EnwBgnsGuQ"
      ],
      "provenance": [],
      "toc_visible": true
    },
    "kernelspec": {
      "display_name": "base",
      "language": "python",
      "name": "python3"
    },
    "language_info": {
      "codemirror_mode": {
        "name": "ipython",
        "version": 3
      },
      "file_extension": ".py",
      "mimetype": "text/x-python",
      "name": "python",
      "nbconvert_exporter": "python",
      "pygments_lexer": "ipython3",
      "version": "3.11.5"
    }
  },
  "nbformat": 4,
  "nbformat_minor": 0
}
